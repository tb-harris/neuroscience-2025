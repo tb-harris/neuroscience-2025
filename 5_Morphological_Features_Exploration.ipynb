{
  "cells": [
    {
      "cell_type": "markdown",
      "metadata": {
        "id": "view-in-github",
        "colab_type": "text"
      },
      "source": [
        "<a href=\"https://colab.research.google.com/github/tb-harris/neuroscience-2025/blob/main/5_Morphological_Features_Exploration.ipynb\" target=\"_parent\"><img src=\"https://colab.research.google.com/assets/colab-badge.svg\" alt=\"Open In Colab\"/></a>"
      ]
    },
    {
      "cell_type": "markdown",
      "source": [
        "# Neuron Morphology Visualizations"
      ],
      "metadata": {
        "id": "WXRdBJG4B4JV"
      }
    },
    {
      "cell_type": "markdown",
      "metadata": {
        "id": "srV48jiAdA_d"
      },
      "source": [
        "# Neuron Morphology Data"
      ]
    },
    {
      "cell_type": "markdown",
      "metadata": {
        "id": "t_vjIqxldJbh"
      },
      "source": [
        "## Setup"
      ]
    },
    {
      "cell_type": "markdown",
      "metadata": {
        "id": "uYXvsTZku6oV"
      },
      "source": [
        "[`neurom`](https://neurom.readthedocs.io/en/stable/) is a library that allows us to visualize neuron morphology. Unlike pandas, seaborn, etc. it's not included with colab by default, so we need to install it before using it:"
      ]
    },
    {
      "cell_type": "code",
      "execution_count": null,
      "metadata": {
        "id": "WU4OV58zvfx8"
      },
      "outputs": [],
      "source": [
        "%pip install neurom"
      ]
    },
    {
      "cell_type": "markdown",
      "metadata": {
        "id": "Q9x-77A-vxh6"
      },
      "source": [
        "Now, we can import our libraries:"
      ]
    },
    {
      "cell_type": "code",
      "execution_count": null,
      "metadata": {
        "id": "WUK1tbmEaKci"
      },
      "outputs": [],
      "source": [
        "import pandas as pd\n",
        "import matplotlib.pyplot as plt\n",
        "import seaborn as sns"
      ]
    },
    {
      "cell_type": "markdown",
      "metadata": {
        "id": "NvYHYj9hdIGO"
      },
      "source": [
        "Run the code below to mount your Google Drive. This allows us to access Drive files from within Colab. You will be prompted to give Colab permission for this step."
      ]
    },
    {
      "cell_type": "code",
      "execution_count": null,
      "metadata": {
        "colab": {
          "base_uri": "https://localhost:8080/"
        },
        "id": "UyLiqhtSaNyd",
        "outputId": "ada454ba-055f-45f6-8f21-8665ef93cbd7"
      },
      "outputs": [
        {
          "output_type": "stream",
          "name": "stdout",
          "text": [
            "Drive already mounted at /content/drive/; to attempt to forcibly remount, call drive.mount(\"/content/drive/\", force_remount=True).\n"
          ]
        }
      ],
      "source": [
        "from google.colab import drive\n",
        "drive.mount(\"/content/drive/\")"
      ]
    },
    {
      "cell_type": "markdown",
      "metadata": {
        "id": "t-iiYczGu0XB"
      },
      "source": [
        "## Importing datasets"
      ]
    },
    {
      "cell_type": "code",
      "source": [
        "cell_metadata = pd.read_csv(\"/content/drive/Shareddrives/Lisman Laboratory/Lisman 2025/Neuroscience 2025/Data/20200711_patchseq_metadata_mouse.csv\", index_col=\"cell_specimen_id\")"
      ],
      "metadata": {
        "id": "5JAjFfAeKepV"
      },
      "execution_count": null,
      "outputs": []
    },
    {
      "cell_type": "markdown",
      "metadata": {
        "id": "bfcP1zJQt3QC"
      },
      "source": [
        "## Visualizing neuron morphologies"
      ]
    },
    {
      "cell_type": "markdown",
      "metadata": {
        "id": "9a3Mhy3bu4r3"
      },
      "source": [
        "`reconstruction_paths.hdf` has a list of **reconstruction files** for various cells in our dataset."
      ]
    },
    {
      "cell_type": "code",
      "source": [
        "reconstruction_files = pd.read_hdf('/content/drive/Shareddrives/Lisman Laboratory/Lisman 2024/Neuro/Data/raw_data/reconstruction_paths.hdf')\n",
        "reconstruction_files"
      ],
      "metadata": {
        "id": "GGJA4HaLU22m"
      },
      "execution_count": null,
      "outputs": []
    },
    {
      "cell_type": "markdown",
      "source": [
        "We can use the `neurom` library to visualize reconstructions. Run the following cell to import `neurom`, along"
      ],
      "metadata": {
        "id": "fvF23hDUVJnZ"
      }
    },
    {
      "cell_type": "code",
      "source": [
        "import neurom as nm\n",
        "from neurom.view import plot_morph, plot_morph3d, plot_dendrogram"
      ],
      "metadata": {
        "id": "bitsqDkqVGNK"
      },
      "execution_count": null,
      "outputs": []
    },
    {
      "cell_type": "markdown",
      "source": [
        "Let's visualize the cell with ID 601506507. To visualize a neuron, we first need to load its reconstruction:"
      ],
      "metadata": {
        "id": "OXs7JjTIKnxS"
      }
    },
    {
      "cell_type": "code",
      "source": [
        "reconstruction = nm.load_morphology(reconstruction_files[601506507])"
      ],
      "metadata": {
        "id": "RYQaYjD1Kp2U"
      },
      "execution_count": null,
      "outputs": []
    },
    {
      "cell_type": "markdown",
      "source": [
        "We can use neurom's `plot_morph`, `plot_morph3d`, and `plot_dendrogram` functions to visualize neurons - see the [neurom.view](https://neurom.readthedocs.io/en/v1.5.3/_neurom_build/neurom.view.html) documentation for more info. Run the code below to visualize the neuron:"
      ],
      "metadata": {
        "id": "Q1yhCee6KSDD"
      }
    },
    {
      "cell_type": "code",
      "source": [
        "plot_morph(reconstruction)"
      ],
      "metadata": {
        "id": "ZPFzHXk8KaWW"
      },
      "execution_count": null,
      "outputs": []
    },
    {
      "cell_type": "markdown",
      "source": [
        "By default, the reconstructions use the following colors:\n",
        "* basal dendrite: red\n",
        "* axon : blue\n",
        "* apical dendrite: purple\n",
        "* soma: black\n",
        "* undefined or any other type: green"
      ],
      "metadata": {
        "id": "Xh2lz9alLYSs"
      }
    },
    {
      "cell_type": "markdown",
      "source": [
        "We can also represent the reconstruction in 3D, or as a dendrogram:"
      ],
      "metadata": {
        "id": "W0-1pbJrMQxQ"
      }
    },
    {
      "cell_type": "code",
      "source": [
        "plot_morph3d(reconstruction)"
      ],
      "metadata": {
        "id": "61OqYOiUMTnx"
      },
      "execution_count": null,
      "outputs": []
    },
    {
      "cell_type": "markdown",
      "source": [
        "Click [here](https://github.com/tb-harris/neuroscience-2024/blob/main/11_Visualizing_Neurons.ipynb) if you'd like to see more demonstrations of neuron visualization and customizing plots."
      ],
      "metadata": {
        "id": "XLipm3YsR4Mh"
      }
    },
    {
      "cell_type": "markdown",
      "metadata": {
        "id": "08-3g1KvJ-uQ"
      },
      "source": [
        "## Creating our dataframe\n",
        "We can load the file into a Pandas dataframe called *morph_data* with the code below. **Adding *index_col=\"cell_specimen_id\"* makes it so that we can access rows by their *cell_specimen_id* value rather than their position in the file.**\n",
        "\n",
        "For example, open the csv file and take a look at the first row. Note that it has the *cell_specimen_id* 601506507. Without the *index_col* parameter, we would access this row with `morph_data.loc[0]`, but because \"cell_specimen_id\" is now our index column, we can instead access it with `morph_data.loc[601506507]`. Note that this does **not** mean there are 60 million+ rows in the dataset -- the cell IDs do not start at zero."
      ]
    },
    {
      "cell_type": "code",
      "execution_count": null,
      "metadata": {
        "id": "NvKFEdVwb64g"
      },
      "outputs": [],
      "source": [
        "morph_data = pd.read_csv(\n",
        "    \"/content/drive/Shareddrives/Lisman Laboratory/Lisman 2024/Neuro/Data/processed data/morph_data.csv\",\n",
        "    index_col=\"cell_specimen_id\"\n",
        ")"
      ]
    },
    {
      "cell_type": "markdown",
      "metadata": {
        "id": "hnVoSLcZjMqg"
      },
      "source": [
        "## Getting an overview of the data\n",
        "**For the remainder of this notebook, you may want to refer back to your _Pandas fundamentals_ practice to recall some of the methods we can use to explore the dataset.** Part of the purpose of this activity is to get an idea of everyone's existing understanding of Pandas and what you took away from the pre-work, so for now, avoid using any other online sources or generative AI.\n",
        "\n",
        "Start by using the *head()* method to see the first few rows of our dataframe."
      ]
    },
    {
      "cell_type": "code",
      "execution_count": null,
      "metadata": {
        "id": "qxvIqgtLMj-D"
      },
      "outputs": [],
      "source": []
    },
    {
      "cell_type": "markdown",
      "metadata": {
        "id": "DkH90pvYPUjB"
      },
      "source": [
        "Try getting the data for the row with cell ID `601808698`."
      ]
    },
    {
      "cell_type": "code",
      "execution_count": null,
      "metadata": {
        "id": "jfBJiOISPXYr"
      },
      "outputs": [],
      "source": []
    },
    {
      "cell_type": "markdown",
      "metadata": {
        "id": "gBwEzRxLQo1I"
      },
      "source": [
        "And use *shape* to find the total number of rows (cells) and columns (morphological features)."
      ]
    },
    {
      "cell_type": "code",
      "execution_count": null,
      "metadata": {
        "id": "HN1sl2HwBJgE"
      },
      "outputs": [],
      "source": []
    },
    {
      "cell_type": "markdown",
      "metadata": {
        "id": "oIJr359iBKZj"
      },
      "source": [
        "Write code to get a list of all columns in the dataset."
      ]
    },
    {
      "cell_type": "code",
      "execution_count": null,
      "metadata": {
        "id": "kdpqqLfuBP5e"
      },
      "outputs": [],
      "source": []
    },
    {
      "cell_type": "markdown",
      "metadata": {
        "id": "rNFwLh5PEAyK"
      },
      "source": [
        "Based on what you've seen so far, describe what data is in the dataset, including:\n",
        "\n",
        "\n",
        "\n",
        "*   What does each row represent?\n",
        "*   What does each column represent?\n",
        "*   Summarize what features are covered by this dataset. Does this dataset contain categorical data, quantitative data, or both?\n",
        "*   How might this dataset relate to the gene data we've seen previously?\n"
      ]
    },
    {
      "cell_type": "markdown",
      "metadata": {
        "id": "SkhnK4S6EL7R"
      },
      "source": [
        "*Your answer here*"
      ]
    },
    {
      "cell_type": "markdown",
      "metadata": {
        "id": "QOKZFDydBU9d"
      },
      "source": [
        "## Dendrite Number of Branches\n",
        "Let's focus on a single morphological feature: the number of dendrite branches."
      ]
    },
    {
      "cell_type": "markdown",
      "source": [
        "We can find information about each feature on [this](http://cng.gmu.edu:8080/Lm/help/index.htm) page. Under **Functions List** on the left-hand size, look for \"N_branch\" and click."
      ],
      "metadata": {
        "id": "swB0PAmra_kS"
      }
    },
    {
      "cell_type": "markdown",
      "source": [
        "After reviewing the description and example, write a description of this feature in your own words. Note down any questions/uncertainties that you have about what the feature is quantifying."
      ],
      "metadata": {
        "id": "KQIzbeP6bNJy"
      }
    },
    {
      "cell_type": "markdown",
      "source": [
        "*Your description and questions here*"
      ],
      "metadata": {
        "id": "dQIEJSICbVvQ"
      }
    },
    {
      "cell_type": "markdown",
      "source": [
        "Try getting an idea of the center and spread of the *dendrite.num_branches* by using:\n",
        "* summary statistics (`.describe()`)\n",
        "* boxplot\n",
        "* histogram\n",
        "\n",
        "See our [notes](https://github.com/tb-harris/neuroscience-2025/blob/main/1_Visualizing_and_Describing_Distributions.ipynb) for a reminder on how to generate and analyze each output."
      ],
      "metadata": {
        "id": "gqq6xpfWa-jb"
      }
    },
    {
      "cell_type": "code",
      "execution_count": null,
      "metadata": {
        "id": "B4jf_rdFCQqI"
      },
      "outputs": [],
      "source": []
    },
    {
      "cell_type": "code",
      "source": [],
      "metadata": {
        "id": "i4xcAfq8Tc96"
      },
      "execution_count": null,
      "outputs": []
    },
    {
      "cell_type": "code",
      "source": [],
      "metadata": {
        "id": "iTtfuiuHTdKW"
      },
      "execution_count": null,
      "outputs": []
    },
    {
      "cell_type": "markdown",
      "source": [
        "Describe the **Shape, Center, Outliers, and Variability** of dendrite.num_branches:"
      ],
      "metadata": {
        "id": "7-f9qSiaTa4n"
      }
    },
    {
      "cell_type": "markdown",
      "source": [
        "*Your description here*"
      ],
      "metadata": {
        "id": "dmMylWWXTgyJ"
      }
    },
    {
      "cell_type": "markdown",
      "metadata": {
        "id": "d0Sk0ksEDoh_"
      },
      "source": [
        "Record at least one observation and one question you have about the dendrite branches feature:"
      ]
    },
    {
      "cell_type": "markdown",
      "metadata": {
        "id": "GWR1ZIurDs9-"
      },
      "source": [
        "*   *Your Observation*\n",
        "*   *Your Question 2*\n",
        "\n"
      ]
    },
    {
      "cell_type": "markdown",
      "source": [
        "It can also be helpful to visualize extreme examples of each feature. Run the cell below to get a list of cells sorted by the feature:"
      ],
      "metadata": {
        "id": "nFGxCiuTUzdZ"
      }
    },
    {
      "cell_type": "code",
      "source": [
        "morph_data['dendrite.num_branches'].sort_values()"
      ],
      "metadata": {
        "id": "V5vCnVGJVPKi"
      },
      "execution_count": null,
      "outputs": []
    },
    {
      "cell_type": "markdown",
      "source": [
        "Load the reconstructions for the cells with the **least** and **most** dendrite branching, and visualize each one with a neurom plotting function of your choice."
      ],
      "metadata": {
        "id": "bGIbElSVVkIs"
      }
    },
    {
      "cell_type": "markdown",
      "source": [
        "### Least branching"
      ],
      "metadata": {
        "id": "Lr6XwCW0WUAO"
      }
    },
    {
      "cell_type": "code",
      "source": [],
      "metadata": {
        "id": "TRi152lTWTvs"
      },
      "execution_count": null,
      "outputs": []
    },
    {
      "cell_type": "code",
      "source": [],
      "metadata": {
        "id": "g7Few64eWTok"
      },
      "execution_count": null,
      "outputs": []
    },
    {
      "cell_type": "markdown",
      "source": [
        "### Most branching"
      ],
      "metadata": {
        "id": "l0_WGEofWWMR"
      }
    },
    {
      "cell_type": "code",
      "source": [],
      "metadata": {
        "id": "0l85ZK2KWTeA"
      },
      "execution_count": null,
      "outputs": []
    },
    {
      "cell_type": "code",
      "source": [],
      "metadata": {
        "id": "2jPAhF2qWTPy"
      },
      "execution_count": null,
      "outputs": []
    },
    {
      "cell_type": "markdown",
      "source": [
        "### Relationships between features"
      ],
      "metadata": {
        "id": "KXsS_nTCXGRb"
      }
    },
    {
      "cell_type": "markdown",
      "source": [
        "Many features are related to one another. Choose one of the other dendrite-related features, and examine whether it is correlated with `dendrite.num_branches.` You might find our [Relationships Between Variables](https://github.com/tb-harris/neuroscience-2025/blob/main/3_Relationships_between_Variables.ipynb) notes heplful."
      ],
      "metadata": {
        "id": "WJQyZK8MXKZu"
      }
    },
    {
      "cell_type": "markdown",
      "source": [
        "First, make a scatterplot between the variables."
      ],
      "metadata": {
        "id": "59nsgE4WXalp"
      }
    },
    {
      "cell_type": "code",
      "source": [],
      "metadata": {
        "id": "oSx_lPo2XZh_"
      },
      "execution_count": null,
      "outputs": []
    },
    {
      "cell_type": "markdown",
      "source": [
        "Then, find their pairwise correlation coefficient and the $R^2$ value."
      ],
      "metadata": {
        "id": "6O6ngGi9Xc2P"
      }
    },
    {
      "cell_type": "code",
      "source": [],
      "metadata": {
        "id": "uqTjwE8BXfvo"
      },
      "execution_count": null,
      "outputs": []
    },
    {
      "cell_type": "code",
      "source": [],
      "metadata": {
        "id": "S1GEzQD0Xmtw"
      },
      "execution_count": null,
      "outputs": []
    },
    {
      "cell_type": "markdown",
      "source": [
        "Interpret the $R^2$ value and scatterplot:"
      ],
      "metadata": {
        "id": "tr-XRJffXnDz"
      }
    },
    {
      "cell_type": "markdown",
      "source": [
        "*Your interpretation here.*"
      ],
      "metadata": {
        "id": "pxXg-IirXsRe"
      }
    },
    {
      "cell_type": "markdown",
      "source": [
        "## Incomplete axon reconstructions"
      ],
      "metadata": {
        "id": "iijusrr1UtSo"
      }
    },
    {
      "cell_type": "markdown",
      "source": [
        "The metadata file has some important information related to reconstructions. Run the code below to see the distribution of the `neuron_reconstruction_type` variable:"
      ],
      "metadata": {
        "id": "Cv1-26a6amnp"
      }
    },
    {
      "cell_type": "code",
      "source": [
        "sns.histplot(cell_metadata['neuron_reconstruction_type'])"
      ],
      "metadata": {
        "id": "Fo7LzYl3ak3c"
      },
      "execution_count": null,
      "outputs": []
    },
    {
      "cell_type": "markdown",
      "source": [
        "Some reconstructions are dendrite-only. When examining axon-related features, we should filter the dataframe to only include **full reconstructions.**"
      ],
      "metadata": {
        "id": "TcE3QgphX6wf"
      }
    },
    {
      "cell_type": "code",
      "source": [
        "morph_complete = morph_data[cell_metadata['neuron_reconstruction_type'] == 'full']\n",
        "morph_complete.shape # should show less rows/cells"
      ],
      "metadata": {
        "id": "BgViCuOwYOWn"
      },
      "execution_count": null,
      "outputs": []
    },
    {
      "cell_type": "markdown",
      "source": [
        "Use this `morph_complete` dataframe instead of `morph_data` when doing work that involves axons."
      ],
      "metadata": {
        "id": "HYiiUQQ4YwMz"
      }
    },
    {
      "cell_type": "markdown",
      "metadata": {
        "id": "tlZDW7csbG-_"
      },
      "source": [
        "# Independent exploration\n",
        "Choose one **morphological feature** related to axons or dendrites.\n",
        "\n",
        "Explore your feature, making sure to:\n",
        "* use the [documentation](http://cng.gmu.edu:8080/Lm/help/index.htm) to summarize what the feature quantifies\n",
        "* visualize (extreme) examples\n",
        "* analyze its distribution (SCOV)\n",
        "* examine its relationship with at least one other feature\n",
        "\n",
        "Practice **documenting** your exploration by using the following pattern **for each output-producing code cell**:\n",
        "\n",
        "1. A text cell explaining what question you will be addressing\n",
        "2. Code cell to run code to answer your question\n",
        "3. A text cell that interprets/discusses the output\n",
        "\n",
        "**If you choose an axon-related feature, you should perform your analysis on `morph_complete`**"
      ]
    },
    {
      "cell_type": "markdown",
      "source": [
        "# Bonus!"
      ],
      "metadata": {
        "id": "TUzHhUpi3-kF"
      }
    },
    {
      "cell_type": "markdown",
      "source": [
        "If you finish the above and want a challenge that involves more extensive coding, try following [these notes](https://github.com/tb-harris/neuroscience-2024/blob/main/09_Feature_Extractor.ipynb) from last year to extract a feature that isn't in the existing `morph_data` data frame, and perform similar analysis on it."
      ],
      "metadata": {
        "id": "AClhvZ0x4AMe"
      }
    },
    {
      "cell_type": "code",
      "source": [],
      "metadata": {
        "id": "jIjB-b7L4bjm"
      },
      "execution_count": null,
      "outputs": []
    }
  ],
  "metadata": {
    "colab": {
      "provenance": [],
      "include_colab_link": true
    },
    "kernelspec": {
      "display_name": "Python 3",
      "name": "python3"
    },
    "language_info": {
      "name": "python"
    }
  },
  "nbformat": 4,
  "nbformat_minor": 0
}