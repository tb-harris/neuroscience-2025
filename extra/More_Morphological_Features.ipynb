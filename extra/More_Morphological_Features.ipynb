{
  "nbformat": 4,
  "nbformat_minor": 0,
  "metadata": {
    "colab": {
      "provenance": [],
      "authorship_tag": "ABX9TyM9AYYw5HpDprwPcnheBldP",
      "include_colab_link": true
    },
    "kernelspec": {
      "name": "python3",
      "display_name": "Python 3"
    },
    "language_info": {
      "name": "python"
    }
  },
  "cells": [
    {
      "cell_type": "markdown",
      "metadata": {
        "id": "view-in-github",
        "colab_type": "text"
      },
      "source": [
        "<a href=\"https://colab.research.google.com/github/tb-harris/neuroscience-2025/blob/main/extra/More_Morphological_Features.ipynb\" target=\"_parent\"><img src=\"https://colab.research.google.com/assets/colab-badge.svg\" alt=\"Open In Colab\"/></a>"
      ]
    },
    {
      "cell_type": "markdown",
      "source": [
        "Our original morphological features dataframe is fairly limited and mostly focuses on absolute measures (for example: total length or number of branches), which could be vulnerable to some of the issues we discussed on Thursday such as neurite truncation. When we look at the features being used in Allen papers, we see a broader set with many relative features (see: p75-76 of [supplemental](https://static-content.springer.com/esm/art%3A10.1038%2Fs41593-019-0417-0/MediaObjects/41593_2019_417_MOESM1_ESM.pdf)).\n",
        "\n",
        "I've added a `morph_features_expanded.csv` file in our 2025 data folder (see below) has a larger subset of features extracted using the feature extractor. `morph_features_positional.csv` has features that depend on position; each has an $x$, $y$ and $z$ value. From the above link:\n",
        "\n",
        "> Note that here “y” is in the pia-to-white-matter direction, “x” is across the face of the slice, and “z” is into the slice. Units are indicated with parentheses; other features are unitless.\n",
        "\n",
        "You can see definitions for (some/all?) of these features [here](https://html-preview.github.io/?url=https://github.com/AllenInstitute/neuron_morphology/blob/dev/feature_description.html)."
      ],
      "metadata": {
        "id": "R5wlHofc4zaQ"
      }
    },
    {
      "cell_type": "code",
      "source": [
        "from google.colab import drive\n",
        "drive.mount('/content/drive')"
      ],
      "metadata": {
        "colab": {
          "base_uri": "https://localhost:8080/"
        },
        "id": "jMuJJIxS2YXf",
        "outputId": "e29af429-f085-4cce-eac9-a3b6db39e024"
      },
      "execution_count": 1,
      "outputs": [
        {
          "output_type": "stream",
          "name": "stdout",
          "text": [
            "Mounted at /content/drive\n"
          ]
        }
      ]
    },
    {
      "cell_type": "code",
      "source": [
        "import pandas as pd\n",
        "import seaborn as sns\n",
        "import matplotlib.pyplot as plt"
      ],
      "metadata": {
        "id": "X8G_qJBm2c9N"
      },
      "execution_count": 2,
      "outputs": []
    },
    {
      "cell_type": "code",
      "execution_count": 5,
      "metadata": {
        "id": "7LmD_q-l1Nbc"
      },
      "outputs": [],
      "source": [
        "morph_original = pd.read_csv(\n",
        "    \"/content/drive/Shareddrives/Lisman Laboratory/Lisman 2024/Neuro/Data/processed data/morph_data.csv\",\n",
        "    index_col=\"cell_specimen_id\"\n",
        ")\n",
        "\n",
        "morph_additional = pd.read_csv(\n",
        "    \"/content/drive/Shareddrives/Lisman Laboratory/Lisman 2025/Neuroscience 2025/Data/morph_features_expanded.csv\",\n",
        "    index_col=\"cell_specimen_id\"\n",
        ")\n",
        "\n",
        "morph_positional = pd.read_csv(\n",
        "    \"/content/drive/Shareddrives/Lisman Laboratory/Lisman 2025/Neuroscience 2025/Data/morph_features_positional.csv\",\n",
        "    index_col=\"cell_specimen_id\"\n",
        ")"
      ]
    },
    {
      "cell_type": "markdown",
      "source": [
        "Available features (ignorning `dendrite`, `axon`, etc prefixes):"
      ],
      "metadata": {
        "id": "O3ubEzyQ4W6h"
      }
    },
    {
      "cell_type": "code",
      "source": [
        "morph_additional.columns.sort_values().to_list()"
      ],
      "metadata": {
        "colab": {
          "base_uri": "https://localhost:8080/"
        },
        "id": "Q3XRR9tF2mT3",
        "outputId": "94bb7bf3-03c3-41bd-8a11-4862aa7467a5"
      },
      "execution_count": 49,
      "outputs": [
        {
          "output_type": "execute_result",
          "data": {
            "text/plain": [
              "['all_neurites.bifurcation.dimension.depth',\n",
              " 'all_neurites.bifurcation.dimension.height',\n",
              " 'all_neurites.bifurcation.dimension.width',\n",
              " 'all_neurites.compartment.dimension.depth',\n",
              " 'all_neurites.compartment.dimension.height',\n",
              " 'all_neurites.compartment.dimension.width',\n",
              " 'all_neurites.max_branch_order',\n",
              " 'all_neurites.max_euclidean_distance',\n",
              " 'all_neurites.mean_bifurcation_angle_local',\n",
              " 'all_neurites.mean_bifurcation_angle_remote',\n",
              " 'all_neurites.mean_diameter',\n",
              " 'all_neurites.mean_fragmentation',\n",
              " 'all_neurites.mean_parent_daughter_ratio',\n",
              " 'all_neurites.node.dimension.depth',\n",
              " 'all_neurites.node.dimension.height',\n",
              " 'all_neurites.node.dimension.width',\n",
              " 'all_neurites.num_branches',\n",
              " 'all_neurites.num_nodes',\n",
              " 'all_neurites.num_outer_bifurcations',\n",
              " 'all_neurites.num_tips',\n",
              " 'all_neurites.tip.dimension.depth',\n",
              " 'all_neurites.tip.dimension.height',\n",
              " 'all_neurites.tip.dimension.width',\n",
              " 'all_neurites.total_length',\n",
              " 'all_neurites.total_surface_area',\n",
              " 'all_neurites.total_volume',\n",
              " 'apical_dendrite.apical_dendrite.overlap.above',\n",
              " 'apical_dendrite.apical_dendrite.overlap.below',\n",
              " 'apical_dendrite.apical_dendrite.overlap.overlap',\n",
              " 'apical_dendrite.axon.overlap.above',\n",
              " 'apical_dendrite.axon.overlap.below',\n",
              " 'apical_dendrite.axon.overlap.overlap',\n",
              " 'apical_dendrite.basal_dendrite.overlap.above',\n",
              " 'apical_dendrite.basal_dendrite.overlap.below',\n",
              " 'apical_dendrite.basal_dendrite.overlap.overlap',\n",
              " 'apical_dendrite.bifurcation.dimension.depth',\n",
              " 'apical_dendrite.bifurcation.dimension.height',\n",
              " 'apical_dendrite.bifurcation.dimension.width',\n",
              " 'apical_dendrite.compartment.dimension.depth',\n",
              " 'apical_dendrite.compartment.dimension.height',\n",
              " 'apical_dendrite.compartment.dimension.width',\n",
              " 'apical_dendrite.dendrite.overlap.above',\n",
              " 'apical_dendrite.dendrite.overlap.below',\n",
              " 'apical_dendrite.dendrite.overlap.overlap',\n",
              " 'apical_dendrite.max_branch_order',\n",
              " 'apical_dendrite.max_euclidean_distance',\n",
              " 'apical_dendrite.mean_bifurcation_angle_local',\n",
              " 'apical_dendrite.mean_bifurcation_angle_remote',\n",
              " 'apical_dendrite.mean_diameter',\n",
              " 'apical_dendrite.mean_fragmentation',\n",
              " 'apical_dendrite.mean_parent_daughter_ratio',\n",
              " 'apical_dendrite.node.dimension.depth',\n",
              " 'apical_dendrite.node.dimension.height',\n",
              " 'apical_dendrite.node.dimension.width',\n",
              " 'apical_dendrite.num_branches',\n",
              " 'apical_dendrite.num_nodes',\n",
              " 'apical_dendrite.num_outer_bifurcations',\n",
              " 'apical_dendrite.num_tips',\n",
              " 'apical_dendrite.tip.dimension.depth',\n",
              " 'apical_dendrite.tip.dimension.height',\n",
              " 'apical_dendrite.tip.dimension.width',\n",
              " 'apical_dendrite.total_length',\n",
              " 'apical_dendrite.total_surface_area',\n",
              " 'apical_dendrite.total_volume',\n",
              " 'axon.apical_dendrite.overlap.above',\n",
              " 'axon.apical_dendrite.overlap.below',\n",
              " 'axon.apical_dendrite.overlap.overlap',\n",
              " 'axon.axon.overlap.above',\n",
              " 'axon.axon.overlap.below',\n",
              " 'axon.axon.overlap.overlap',\n",
              " 'axon.basal_dendrite.overlap.above',\n",
              " 'axon.basal_dendrite.overlap.below',\n",
              " 'axon.basal_dendrite.overlap.overlap',\n",
              " 'axon.bifurcation.dimension.depth',\n",
              " 'axon.bifurcation.dimension.height',\n",
              " 'axon.bifurcation.dimension.width',\n",
              " 'axon.compartment.dimension.depth',\n",
              " 'axon.compartment.dimension.height',\n",
              " 'axon.compartment.dimension.width',\n",
              " 'axon.dendrite.overlap.above',\n",
              " 'axon.dendrite.overlap.below',\n",
              " 'axon.dendrite.overlap.overlap',\n",
              " 'axon.max_branch_order',\n",
              " 'axon.max_euclidean_distance',\n",
              " 'axon.mean_bifurcation_angle_local',\n",
              " 'axon.mean_bifurcation_angle_remote',\n",
              " 'axon.mean_diameter',\n",
              " 'axon.mean_parent_daughter_ratio',\n",
              " 'axon.node.dimension.depth',\n",
              " 'axon.node.dimension.height',\n",
              " 'axon.node.dimension.width',\n",
              " 'axon.num_branches',\n",
              " 'axon.num_nodes',\n",
              " 'axon.num_outer_bifurcations',\n",
              " 'axon.num_tips',\n",
              " 'axon.tip.dimension.depth',\n",
              " 'axon.tip.dimension.height',\n",
              " 'axon.tip.dimension.width',\n",
              " 'axon.total_length',\n",
              " 'axon.total_surface_area',\n",
              " 'axon.total_volume',\n",
              " 'basal_dendrite.apical_dendrite.overlap.above',\n",
              " 'basal_dendrite.apical_dendrite.overlap.below',\n",
              " 'basal_dendrite.apical_dendrite.overlap.overlap',\n",
              " 'basal_dendrite.axon.overlap.above',\n",
              " 'basal_dendrite.axon.overlap.below',\n",
              " 'basal_dendrite.axon.overlap.overlap',\n",
              " 'basal_dendrite.basal_dendrite.overlap.above',\n",
              " 'basal_dendrite.basal_dendrite.overlap.below',\n",
              " 'basal_dendrite.basal_dendrite.overlap.overlap',\n",
              " 'basal_dendrite.bifurcation.dimension.depth',\n",
              " 'basal_dendrite.bifurcation.dimension.height',\n",
              " 'basal_dendrite.bifurcation.dimension.width',\n",
              " 'basal_dendrite.compartment.dimension.depth',\n",
              " 'basal_dendrite.compartment.dimension.height',\n",
              " 'basal_dendrite.compartment.dimension.width',\n",
              " 'basal_dendrite.dendrite.overlap.above',\n",
              " 'basal_dendrite.dendrite.overlap.below',\n",
              " 'basal_dendrite.dendrite.overlap.overlap',\n",
              " 'basal_dendrite.max_branch_order',\n",
              " 'basal_dendrite.max_euclidean_distance',\n",
              " 'basal_dendrite.mean_bifurcation_angle_local',\n",
              " 'basal_dendrite.mean_bifurcation_angle_remote',\n",
              " 'basal_dendrite.mean_diameter',\n",
              " 'basal_dendrite.mean_fragmentation',\n",
              " 'basal_dendrite.mean_parent_daughter_ratio',\n",
              " 'basal_dendrite.node.dimension.depth',\n",
              " 'basal_dendrite.node.dimension.height',\n",
              " 'basal_dendrite.node.dimension.width',\n",
              " 'basal_dendrite.num_branches',\n",
              " 'basal_dendrite.num_nodes',\n",
              " 'basal_dendrite.num_outer_bifurcations',\n",
              " 'basal_dendrite.num_tips',\n",
              " 'basal_dendrite.tip.dimension.depth',\n",
              " 'basal_dendrite.tip.dimension.height',\n",
              " 'basal_dendrite.tip.dimension.width',\n",
              " 'basal_dendrite.total_length',\n",
              " 'basal_dendrite.total_surface_area',\n",
              " 'basal_dendrite.total_volume',\n",
              " 'dendrite.apical_dendrite.overlap.above',\n",
              " 'dendrite.apical_dendrite.overlap.below',\n",
              " 'dendrite.apical_dendrite.overlap.overlap',\n",
              " 'dendrite.axon.overlap.above',\n",
              " 'dendrite.axon.overlap.below',\n",
              " 'dendrite.axon.overlap.overlap',\n",
              " 'dendrite.basal_dendrite.overlap.above',\n",
              " 'dendrite.basal_dendrite.overlap.below',\n",
              " 'dendrite.basal_dendrite.overlap.overlap',\n",
              " 'dendrite.bifurcation.dimension.depth',\n",
              " 'dendrite.bifurcation.dimension.height',\n",
              " 'dendrite.bifurcation.dimension.width',\n",
              " 'dendrite.compartment.dimension.depth',\n",
              " 'dendrite.compartment.dimension.height',\n",
              " 'dendrite.compartment.dimension.width',\n",
              " 'dendrite.dendrite.overlap.above',\n",
              " 'dendrite.dendrite.overlap.below',\n",
              " 'dendrite.dendrite.overlap.overlap',\n",
              " 'dendrite.max_branch_order',\n",
              " 'dendrite.max_euclidean_distance',\n",
              " 'dendrite.mean_bifurcation_angle_local',\n",
              " 'dendrite.mean_bifurcation_angle_remote',\n",
              " 'dendrite.mean_diameter',\n",
              " 'dendrite.mean_fragmentation',\n",
              " 'dendrite.mean_parent_daughter_ratio',\n",
              " 'dendrite.node.dimension.depth',\n",
              " 'dendrite.node.dimension.height',\n",
              " 'dendrite.node.dimension.width',\n",
              " 'dendrite.num_branches',\n",
              " 'dendrite.num_nodes',\n",
              " 'dendrite.num_outer_bifurcations',\n",
              " 'dendrite.num_tips',\n",
              " 'dendrite.tip.dimension.depth',\n",
              " 'dendrite.tip.dimension.height',\n",
              " 'dendrite.tip.dimension.width',\n",
              " 'dendrite.total_length',\n",
              " 'dendrite.total_surface_area',\n",
              " 'dendrite.total_volume',\n",
              " 'early_branch_path',\n",
              " 'max_path_distance',\n",
              " 'mean_contraction']"
            ]
          },
          "metadata": {},
          "execution_count": 49
        }
      ]
    },
    {
      "cell_type": "markdown",
      "source": [
        "## Some examples"
      ],
      "metadata": {
        "id": "zK2nh-a76kMr"
      }
    },
    {
      "cell_type": "code",
      "source": [
        "sns.histplot(morph_additional['dendrite.mean_diameter'])"
      ],
      "metadata": {
        "colab": {
          "base_uri": "https://localhost:8080/",
          "height": 468
        },
        "id": "9-w-Bi8t6NgE",
        "outputId": "4d07de4a-dce9-44a5-a2b9-5f72e5821a6b"
      },
      "execution_count": 51,
      "outputs": [
        {
          "output_type": "execute_result",
          "data": {
            "text/plain": [
              "<Axes: xlabel='dendrite.mean_diameter', ylabel='Count'>"
            ]
          },
          "metadata": {},
          "execution_count": 51
        },
        {
          "output_type": "display_data",
          "data": {
            "text/plain": [
              "<Figure size 640x480 with 1 Axes>"
            ],
            "image/png": "[encoded data removed]"
          },
          "metadata": {}
        }
      ]
    },
    {
      "cell_type": "code",
      "source": [
        "sns.histplot(morph_additional['dendrite.max_branch_order'])"
      ],
      "metadata": {
        "colab": {
          "base_uri": "https://localhost:8080/",
          "height": 468
        },
        "id": "w7yIcjGE6h0F",
        "outputId": "5e39f572-6b07-4c63-b48a-ba399fba83e9"
      },
      "execution_count": 58,
      "outputs": [
        {
          "output_type": "execute_result",
          "data": {
            "text/plain": [
              "<Axes: xlabel='dendrite.max_branch_order', ylabel='Count'>"
            ]
          },
          "metadata": {},
          "execution_count": 58
        },
        {
          "output_type": "display_data",
          "data": {
            "text/plain": [
              "<Figure size 640x480 with 1 Axes>"
            ],
            "image/png": "[encoded data removed]"
          },
          "metadata": {}
        }
      ]
    },
    {
      "cell_type": "code",
      "source": [
        "sns.histplot(morph_additional['axon.max_branch_order'])"
      ],
      "metadata": {
        "colab": {
          "base_uri": "https://localhost:8080/",
          "height": 468
        },
        "id": "lfnrXDvs6TzN",
        "outputId": "1b18eb68-4d4c-412e-8f81-0ace00d8917d"
      },
      "execution_count": 57,
      "outputs": [
        {
          "output_type": "execute_result",
          "data": {
            "text/plain": [
              "<Axes: xlabel='axon.max_branch_order', ylabel='Count'>"
            ]
          },
          "metadata": {},
          "execution_count": 57
        },
        {
          "output_type": "display_data",
          "data": {
            "text/plain": [
              "<Figure size 640x480 with 1 Axes>"
            ],
            "image/png": "[encoded data removed]"
          },
          "metadata": {}
        }
      ]
    },
    {
      "cell_type": "code",
      "source": [],
      "metadata": {
        "id": "-3oHxF4s6NrE"
      },
      "execution_count": null,
      "outputs": []
    }
  ]
}