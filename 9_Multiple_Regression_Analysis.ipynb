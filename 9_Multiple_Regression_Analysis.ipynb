{
  "nbformat": 4,
  "nbformat_minor": 0,
  "metadata": {
    "colab": {
      "provenance": [],
      "include_colab_link": true
    },
    "kernelspec": {
      "name": "python3",
      "display_name": "Python 3"
    },
    "language_info": {
      "name": "python"
    }
  },
  "cells": [
    {
      "cell_type": "markdown",
      "metadata": {
        "id": "view-in-github",
        "colab_type": "text"
      },
      "source": [
        "<a href=\"https://colab.research.google.com/github/tb-harris/neuroscience-2025/blob/main/9_Multiple_Regression_Analysis.ipynb\" target=\"_parent\"><img src=\"https://colab.research.google.com/assets/colab-badge.svg\" alt=\"Open In Colab\"/></a>"
      ]
    },
    {
      "cell_type": "markdown",
      "source": [
        "# Setup"
      ],
      "metadata": {
        "id": "3ruk7RXG1GOT"
      }
    },
    {
      "cell_type": "code",
      "execution_count": null,
      "metadata": {
        "colab": {
          "base_uri": "https://localhost:8080/"
        },
        "id": "rsmBcVhO0sOG",
        "outputId": "7dd18046-7265-46bc-8a2b-123a10009c67"
      },
      "outputs": [
        {
          "output_type": "stream",
          "name": "stdout",
          "text": [
            "Collecting git+https://github.com/tb-harris/diagnostics.git\n",
            "  Cloning https://github.com/tb-harris/diagnostics.git to /tmp/pip-req-build-em6l32qc\n",
            "  Running command git clone --filter=blob:none --quiet https://github.com/tb-harris/diagnostics.git /tmp/pip-req-build-em6l32qc\n",
            "  Resolved https://github.com/tb-harris/diagnostics.git to commit 63e7ed899813d387d104118e3b35d435b398c0df\n",
            "  Preparing metadata (setup.py) ... \u001b[?25l\u001b[?25hdone\n",
            "Building wheels for collected packages: diagnostics\n",
            "  Building wheel for diagnostics (setup.py) ... \u001b[?25l\u001b[?25hdone\n",
            "  Created wheel for diagnostics: filename=diagnostics-0.1-py3-none-any.whl size=4726 sha256=9b97ff6feaa2b64809a633b26f9b72a19e4dc8ac385e2df4bbd2586dfe6d31dc\n",
            "  Stored in directory: /tmp/pip-ephem-wheel-cache-qejfsni1/wheels/dc/6f/7f/5d7dbbdace3319b3bc68e42a4691a9f8e3605e00b9f8b8ce2b\n",
            "Successfully built diagnostics\n",
            "Installing collected packages: diagnostics\n",
            "Successfully installed diagnostics-0.1\n"
          ]
        }
      ],
      "source": [
        "import pandas as pd # pandas (DataFrames)\n",
        "import seaborn as sns # graphs\n",
        "import statsmodels.formula.api as smf # regression models\n",
        "# installing and importing the custom diagnostics module\n",
        "%pip install git+https://github.com/tb-harris/diagnostics.git\n",
        "from diagnostics import LinearRegDiagnostic"
      ]
    },
    {
      "cell_type": "code",
      "source": [
        "# mount Google Drive\n",
        "from google.colab import drive\n",
        "drive.mount('/content/drive')"
      ],
      "metadata": {
        "colab": {
          "base_uri": "https://localhost:8080/"
        },
        "id": "H82ct6Lu07bL",
        "outputId": "80e0fa9e-e6ca-440b-8495-d51a85ad90e2"
      },
      "execution_count": null,
      "outputs": [
        {
          "output_type": "stream",
          "name": "stdout",
          "text": [
            "Mounted at /content/drive\n"
          ]
        }
      ]
    },
    {
      "cell_type": "markdown",
      "source": [
        "# Read in the data"
      ],
      "metadata": {
        "id": "yk2ekFFa1CV3"
      }
    },
    {
      "cell_type": "code",
      "source": [
        "cell_metadata = pd.read_csv(\"/content/drive/Shareddrives/Lisman Laboratory/Lisman 2025/Neuroscience 2025/Data/20200711_patchseq_metadata_mouse.csv\", index_col=\"cell_specimen_id\")\n",
        "\n",
        "rna_data = pd.read_hdf(\"/content/drive/Shareddrives/Lisman Laboratory/Lisman 2025/Neuroscience 2025/Data/gene_counts_ppm.hdf5.lz4\")\n",
        "\n",
        "morph_additional = pd.read_csv(\n",
        "    \"/content/drive/Shareddrives/Lisman Laboratory/Lisman 2025/Neuroscience 2025/Data/morph_features_expanded.csv\",\n",
        "    index_col=\"cell_specimen_id\"\n",
        ").dropna(how=\"all\")\n",
        "\n",
        "morph_positional = pd.read_csv(\n",
        "    \"/content/drive/Shareddrives/Lisman Laboratory/Lisman 2025/Neuroscience 2025/Data/morph_features_positional.csv\",\n",
        "    index_col=\"cell_specimen_id\"\n",
        ").dropna(how=\"all\")"
      ],
      "metadata": {
        "id": "VqXOOT-F1B_R"
      },
      "execution_count": null,
      "outputs": []
    },
    {
      "cell_type": "markdown",
      "source": [
        "### Make DataFrames\n",
        "\n",
        "* morph_full_recon has only morphology\n",
        "* rna_data has only gene data\n",
        "* gene_morph has morphology, gene, and metadata\n",
        "\n",
        "These only include cells that have full reconstructions"
      ],
      "metadata": {
        "id": "kDk9GohU13B1"
      }
    },
    {
      "cell_type": "code",
      "source": [
        "morph_full_recon = morph_additional[cell_metadata[\"neuron_reconstruction_type\"] == \"full\"]\n",
        "rna_data = rna_data[cell_metadata[\"neuron_reconstruction_type\"] == \"full\"]\n",
        "rna_data = rna_data.loc[morph_full_recon.index]\n",
        "\n",
        "# drop zero genes\n",
        "nonzero_genes = rna_data.sum() != 0\n",
        "rna_data = rna_data.loc[:, nonzero_genes]\n",
        "\n",
        "# dataframe with ALL info (rna, morph, metadata)\n",
        "gene_morph = morph_full_recon.join(rna_data).join(cell_metadata)"
      ],
      "metadata": {
        "colab": {
          "base_uri": "https://localhost:8080/"
        },
        "id": "n-Fjrbey1a-g",
        "outputId": "3a4c9406-1228-4fbc-fe01-b7c3bafbed2f"
      },
      "execution_count": null,
      "outputs": [
        {
          "output_type": "stream",
          "name": "stderr",
          "text": [
            "/tmp/ipython-input-26-4073318482.py:1: UserWarning: Boolean Series key will be reindexed to match DataFrame index.\n",
            "  morph_full_recon = morph_additional[cell_metadata[\"neuron_reconstruction_type\"] == \"full\"]\n",
            "/tmp/ipython-input-26-4073318482.py:2: UserWarning: Boolean Series key will be reindexed to match DataFrame index.\n",
            "  rna_data = rna_data[cell_metadata[\"neuron_reconstruction_type\"] == \"full\"]\n"
          ]
        }
      ]
    }
  ]
}