{
  "nbformat": 4,
  "nbformat_minor": 0,
  "metadata": {
    "colab": {
      "provenance": [],
      "include_colab_link": true
    },
    "kernelspec": {
      "name": "python3",
      "display_name": "Python 3"
    },
    "language_info": {
      "name": "python"
    }
  },
  "cells": [
    {
      "cell_type": "markdown",
      "metadata": {
        "id": "view-in-github",
        "colab_type": "text"
      },
      "source": [
        "<a href=\"https://colab.research.google.com/github/tb-harris/neuroscience-2025/blob/main/9_Multiple_Regression_Analysis.ipynb\" target=\"_parent\"><img src=\"https://colab.research.google.com/assets/colab-badge.svg\" alt=\"Open In Colab\"/></a>"
      ]
    },
    {
      "cell_type": "code",
      "execution_count": null,
      "metadata": {
        "colab": {
          "base_uri": "https://localhost:8080/"
        },
        "id": "bF20eSi_0_kN",
        "outputId": "ec94ca67-a358-44ee-ef77-aae94e687509"
      },
      "outputs": [
        {
          "output_type": "stream",
          "name": "stdout",
          "text": [
            "Collecting git+https://github.com/tb-harris/diagnostics.git\n",
            "  Cloning https://github.com/tb-harris/diagnostics.git to /tmp/pip-req-build-3_p7rvkr\n",
            "  Running command git clone --filter=blob:none --quiet https://github.com/tb-harris/diagnostics.git /tmp/pip-req-build-3_p7rvkr\n",
            "  Resolved https://github.com/tb-harris/diagnostics.git to commit 63e7ed899813d387d104118e3b35d435b398c0df\n",
            "  Preparing metadata (setup.py) ... \u001b[?25l\u001b[?25hdone\n",
            "Building wheels for collected packages: diagnostics\n",
            "  Building wheel for diagnostics (setup.py) ... \u001b[?25l\u001b[?25hdone\n",
            "  Created wheel for diagnostics: filename=diagnostics-0.1-py3-none-any.whl size=4726 sha256=299d3de60a95f4fdb1e7cc47ff057eca4d353c7f133ff6ba14fa442312797827\n",
            "  Stored in directory: /tmp/pip-ephem-wheel-cache-t_66fy4r/wheels/dc/6f/7f/5d7dbbdace3319b3bc68e42a4691a9f8e3605e00b9f8b8ce2b\n",
            "Successfully built diagnostics\n",
            "Installing collected packages: diagnostics\n",
            "Successfully installed diagnostics-0.1\n",
            "Mounted at /content/drive\n"
          ]
        }
      ],
      "source": [
        "import pandas as pd # pandas (DataFrames)\n",
        "import seaborn as sns # graphs\n",
        "import statsmodels.formula.api as smf # regression models\n",
        "# installing and importing the custom diagnostics module\n",
        "%pip install git+https://github.com/tb-harris/diagnostics.git\n",
        "from diagnostics import LinearRegDiagnostic\n",
        "\n",
        "from google.colab import drive\n",
        "drive.mount('/content/drive')"
      ]
    },
    {
      "cell_type": "code",
      "source": [
        "cell_metadata = pd.read_csv(\"/content/drive/Shareddrives/Lisman Laboratory/Lisman 2025/Neuroscience 2025/Data/20200711_patchseq_metadata_mouse.csv\", index_col=\"cell_specimen_id\")\n",
        "\n",
        "rna_data = pd.read_hdf(\"/content/drive/Shareddrives/Lisman Laboratory/Lisman 2025/Neuroscience 2025/Data/gene_counts_ppm.hdf5.lz4\")\n",
        "\n",
        "morph_additional = pd.read_csv(\n",
        "    \"/content/drive/Shareddrives/Lisman Laboratory/Lisman 2025/Neuroscience 2025/Data/morph_features_expanded.csv\",\n",
        "    index_col=\"cell_specimen_id\"\n",
        ")\n",
        "\n",
        "morph_positional = pd.read_csv(\n",
        "    \"/content/drive/Shareddrives/Lisman Laboratory/Lisman 2025/Neuroscience 2025/Data/morph_features_positional.csv\",\n",
        "    index_col=\"cell_specimen_id\"\n",
        ")"
      ],
      "metadata": {
        "id": "_Fax7av01lEQ"
      },
      "execution_count": null,
      "outputs": []
    },
    {
      "cell_type": "code",
      "source": [
        "morph_full_recon = morph_additional[cell_metadata[\"neuron_reconstruction_type\"] == \"full\"]\n",
        "gene_morph = morph_full_recon.join(rna_data)\n",
        "gene_morph = gene_morph.dropna()\n",
        "\n",
        "nonzero_genes = gene_morph.sum() != 0\n",
        "gene_morph = gene_morph.loc[:, nonzero_genes]"
      ],
      "metadata": {
        "colab": {
          "base_uri": "https://localhost:8080/"
        },
        "id": "mQfhVnx-1iE_",
        "outputId": "64317830-8f22-4498-bfe0-1c2f1df37d3f"
      },
      "execution_count": null,
      "outputs": [
        {
          "output_type": "stream",
          "name": "stderr",
          "text": [
            "/tmp/ipython-input-6-2565288093.py:1: UserWarning: Boolean Series key will be reindexed to match DataFrame index.\n",
            "  morph_full_recon = morph_additional[cell_metadata[\"neuron_reconstruction_type\"] == \"full\"]\n"
          ]
        }
      ]
    },
    {
      "cell_type": "code",
      "source": [
        "gene_only = gene_morph.iloc[:, 159:]"
      ],
      "metadata": {
        "id": "xdE97HsH2ZG7"
      },
      "execution_count": null,
      "outputs": []
    }
  ]
}