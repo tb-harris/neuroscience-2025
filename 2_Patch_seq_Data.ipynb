{
  "nbformat": 4,
  "nbformat_minor": 0,
  "metadata": {
    "colab": {
      "provenance": [],
      "authorship_tag": "ABX9TyMujBcQfsdiHDm8gqnpfYjl",
      "include_colab_link": true
    },
    "kernelspec": {
      "name": "python3",
      "display_name": "Python 3"
    },
    "language_info": {
      "name": "python"
    }
  },
  "cells": [
    {
      "cell_type": "markdown",
      "metadata": {
        "id": "view-in-github",
        "colab_type": "text"
      },
      "source": [
        "<a href=\"https://colab.research.google.com/github/tb-harris/neuroscience-2025/blob/main/2_Patch_seq_Data.ipynb\" target=\"_parent\"><img src=\"https://colab.research.google.com/assets/colab-badge.svg\" alt=\"Open In Colab\"/></a>"
      ]
    },
    {
      "cell_type": "markdown",
      "source": [
        "# Patch-seq Data"
      ],
      "metadata": {
        "id": "ZR0Y2SVDcUrO"
      }
    },
    {
      "cell_type": "markdown",
      "source": [
        "## Setup"
      ],
      "metadata": {
        "id": "Q7P8a_aoNS52"
      }
    },
    {
      "cell_type": "markdown",
      "source": [
        "Loading our Google Drive files:"
      ],
      "metadata": {
        "id": "vv0FL77rNV_H"
      }
    },
    {
      "cell_type": "code",
      "execution_count": 2,
      "metadata": {
        "colab": {
          "base_uri": "https://localhost:8080/"
        },
        "id": "dIzzt1P-Mv7m",
        "outputId": "e12d0e5c-ebe7-4f2d-e88f-1612225a20c8"
      },
      "outputs": [
        {
          "output_type": "stream",
          "name": "stdout",
          "text": [
            "Mounted at /content/drive/\n"
          ]
        }
      ],
      "source": [
        "from google.colab import drive\n",
        "drive.mount(\"/content/drive/\")"
      ]
    },
    {
      "cell_type": "code",
      "source": [
        "import pandas as pd\n",
        "import matplotlib.pyplot as plt\n",
        "import seaborn as sns"
      ],
      "metadata": {
        "id": "EcnsqIoROBmN"
      },
      "execution_count": 3,
      "outputs": []
    },
    {
      "cell_type": "markdown",
      "source": [
        "## Metadata"
      ],
      "metadata": {
        "id": "Zzo2AZu1OGT8"
      }
    },
    {
      "cell_type": "markdown",
      "source": [
        "Let's load in the metadata file, which has information about each neuron that was analyzed in Gouwens et al, 2020.\n",
        "\n",
        "We can use `index_col` to set the cell_specimen_id column to be the index of the dataframe"
      ],
      "metadata": {
        "id": "zCvCyxaBM39Y"
      }
    },
    {
      "cell_type": "code",
      "source": [
        "cell_metadata = pd.read_csv(\"/content/drive/Shareddrives/Lisman Laboratory/Lisman 2025/Neuroscience 2025/Data/20200711_patchseq_metadata_mouse.csv\", index_col=\"cell_specimen_id\")"
      ],
      "metadata": {
        "id": "kqdf1FR9NJ7f"
      },
      "execution_count": 4,
      "outputs": []
    },
    {
      "cell_type": "code",
      "source": [
        "cell_metadata.head()"
      ],
      "metadata": {
        "colab": {
          "base_uri": "https://localhost:8080/",
          "height": 495
        },
        "id": "yZtnLxjHOQms",
        "outputId": "69914724-68cf-4f9d-ad71-67af7b0afec5"
      },
      "execution_count": 5,
      "outputs": [
        {
          "output_type": "execute_result",
          "data": {
            "text/plain": [
              "                     project                 cell_specimen_name hemisphere  \\\n",
              "cell_specimen_id                                                             \n",
              "601506507         mIVSCC-MET  Vip-IRES-Cre;Ai14-331294.04.01.01       left   \n",
              "601790961         mIVSCC-MET  Sst-IRES-Cre;Ai14-331663.04.01.01       left   \n",
              "601803754         mIVSCC-MET  Sst-IRES-Cre;Ai14-331663.04.02.02      right   \n",
              "601808698         mIVSCC-MET  Sst-IRES-Cre;Ai14-331663.04.02.03      right   \n",
              "601810307         mIVSCC-MET  Sst-IRES-Cre;Ai14-331663.04.02.04      right   \n",
              "\n",
              "                 structure  donor_id                donor_name biological_sex  \\\n",
              "cell_specimen_id                                                                \n",
              "601506507           VISpm4    331294  Vip-IRES-Cre;Ai14-331294              M   \n",
              "601790961           VISpm5    331663  Sst-IRES-Cre;Ai14-331663              F   \n",
              "601803754          VISp2/3    331663  Sst-IRES-Cre;Ai14-331663              F   \n",
              "601808698            VISp5    331663  Sst-IRES-Cre;Ai14-331663              F   \n",
              "601810307          VISp2/3    331663  Sst-IRES-Cre;Ai14-331663              F   \n",
              "\n",
              "                  age  ethnicity  medical_conditions  ...  \\\n",
              "cell_specimen_id                                      ...   \n",
              "601506507         P55        NaN                 NaN  ...   \n",
              "601790961         P57        NaN                 NaN  ...   \n",
              "601803754         P57        NaN                 NaN  ...   \n",
              "601808698         P57        NaN                 NaN  ...   \n",
              "601810307         P57        NaN                 NaN  ...   \n",
              "\n",
              "                 apical_dendrite_status neuron_reconstruction_type  \\\n",
              "cell_specimen_id                                                     \n",
              "601506507                           NaN                       full   \n",
              "601790961                           NaN                       full   \n",
              "601803754                           NaN                       full   \n",
              "601808698                           NaN                       full   \n",
              "601810307                           NaN                       full   \n",
              "\n",
              "                 cell_soma_normalized_depth depth_from_pia_um  \\\n",
              "cell_specimen_id                                                \n",
              "601506507                          0.361015               NaN   \n",
              "601790961                          0.621829               NaN   \n",
              "601803754                          0.164240               NaN   \n",
              "601808698                          0.483030               NaN   \n",
              "601810307                          0.295656               NaN   \n",
              "\n",
              "                  ephys_session_id  transcriptomics_sample_id  \\\n",
              "cell_specimen_id                                                \n",
              "601506507                601506492           PS0810_E1-50_S88   \n",
              "601790961                601790945           PS0817_E1-50_S19   \n",
              "601803754                601803733           PS0817_E1-50_S25   \n",
              "601808698                601808619           PS0817_E1-50_S26   \n",
              "601810307                601810292           PS0817_E1-50_S27   \n",
              "\n",
              "                  transcriptomics_batch T-type Accession ID      T-type Label  \\\n",
              "cell_specimen_id                                                                \n",
              "601506507                         BT035      CS180626100018  Vip Gpc3 Slc18a3   \n",
              "601790961                         BT036      CS180626100041     Sst Tac2 Myh4   \n",
              "601803754                         BT036      CS180626100035  Sst Calb2 Pdlim5   \n",
              "601808698                         BT036      CS180626100043    Sst Hpse Cbln4   \n",
              "601810307                         BT036      CS180626100034  Sst Calb2 Necab1   \n",
              "\n",
              "                 MET-type Label  \n",
              "cell_specimen_id                 \n",
              "601506507             Vip-MET-2  \n",
              "601790961                   NaN  \n",
              "601803754             Sst-MET-3  \n",
              "601808698             Sst-MET-8  \n",
              "601810307             Sst-MET-3  \n",
              "\n",
              "[5 rows x 22 columns]"
            ],
            "text/html": [
              "\n",
              "  <div id=\"df-44a640e5-fbc5-4574-ad8f-3f52a9a03fc5\" class=\"colab-df-container\">\n",
              "    <div>\n",
              "<style scoped>\n",
              "    .dataframe tbody tr th:only-of-type {\n",
              "        vertical-align: middle;\n",
              "    }\n",
              "\n",
              "    .dataframe tbody tr th {\n",
              "        vertical-align: top;\n",
              "    }\n",
              "\n",
              "    .dataframe thead th {\n",
              "        text-align: right;\n",
              "    }\n",
              "</style>\n",
              "<table border=\"1\" class=\"dataframe\">\n",
              "  <thead>\n",
              "    <tr style=\"text-align: right;\">\n",
              "      <th></th>\n",
              "      <th>project</th>\n",
              "      <th>cell_specimen_name</th>\n",
              "      <th>hemisphere</th>\n",
              "      <th>structure</th>\n",
              "      <th>donor_id</th>\n",
              "      <th>donor_name</th>\n",
              "      <th>biological_sex</th>\n",
              "      <th>age</th>\n",
              "      <th>ethnicity</th>\n",
              "      <th>medical_conditions</th>\n",
              "      <th>...</th>\n",
              "      <th>apical_dendrite_status</th>\n",
              "      <th>neuron_reconstruction_type</th>\n",
              "      <th>cell_soma_normalized_depth</th>\n",
              "      <th>depth_from_pia_um</th>\n",
              "      <th>ephys_session_id</th>\n",
              "      <th>transcriptomics_sample_id</th>\n",
              "      <th>transcriptomics_batch</th>\n",
              "      <th>T-type Accession ID</th>\n",
              "      <th>T-type Label</th>\n",
              "      <th>MET-type Label</th>\n",
              "    </tr>\n",
              "    <tr>\n",
              "      <th>cell_specimen_id</th>\n",
              "      <th></th>\n",
              "      <th></th>\n",
              "      <th></th>\n",
              "      <th></th>\n",
              "      <th></th>\n",
              "      <th></th>\n",
              "      <th></th>\n",
              "      <th></th>\n",
              "      <th></th>\n",
              "      <th></th>\n",
              "      <th></th>\n",
              "      <th></th>\n",
              "      <th></th>\n",
              "      <th></th>\n",
              "      <th></th>\n",
              "      <th></th>\n",
              "      <th></th>\n",
              "      <th></th>\n",
              "      <th></th>\n",
              "      <th></th>\n",
              "      <th></th>\n",
              "    </tr>\n",
              "  </thead>\n",
              "  <tbody>\n",
              "    <tr>\n",
              "      <th>601506507</th>\n",
              "      <td>mIVSCC-MET</td>\n",
              "      <td>Vip-IRES-Cre;Ai14-331294.04.01.01</td>\n",
              "      <td>left</td>\n",
              "      <td>VISpm4</td>\n",
              "      <td>331294</td>\n",
              "      <td>Vip-IRES-Cre;Ai14-331294</td>\n",
              "      <td>M</td>\n",
              "      <td>P55</td>\n",
              "      <td>NaN</td>\n",
              "      <td>NaN</td>\n",
              "      <td>...</td>\n",
              "      <td>NaN</td>\n",
              "      <td>full</td>\n",
              "      <td>0.361015</td>\n",
              "      <td>NaN</td>\n",
              "      <td>601506492</td>\n",
              "      <td>PS0810_E1-50_S88</td>\n",
              "      <td>BT035</td>\n",
              "      <td>CS180626100018</td>\n",
              "      <td>Vip Gpc3 Slc18a3</td>\n",
              "      <td>Vip-MET-2</td>\n",
              "    </tr>\n",
              "    <tr>\n",
              "      <th>601790961</th>\n",
              "      <td>mIVSCC-MET</td>\n",
              "      <td>Sst-IRES-Cre;Ai14-331663.04.01.01</td>\n",
              "      <td>left</td>\n",
              "      <td>VISpm5</td>\n",
              "      <td>331663</td>\n",
              "      <td>Sst-IRES-Cre;Ai14-331663</td>\n",
              "      <td>F</td>\n",
              "      <td>P57</td>\n",
              "      <td>NaN</td>\n",
              "      <td>NaN</td>\n",
              "      <td>...</td>\n",
              "      <td>NaN</td>\n",
              "      <td>full</td>\n",
              "      <td>0.621829</td>\n",
              "      <td>NaN</td>\n",
              "      <td>601790945</td>\n",
              "      <td>PS0817_E1-50_S19</td>\n",
              "      <td>BT036</td>\n",
              "      <td>CS180626100041</td>\n",
              "      <td>Sst Tac2 Myh4</td>\n",
              "      <td>NaN</td>\n",
              "    </tr>\n",
              "    <tr>\n",
              "      <th>601803754</th>\n",
              "      <td>mIVSCC-MET</td>\n",
              "      <td>Sst-IRES-Cre;Ai14-331663.04.02.02</td>\n",
              "      <td>right</td>\n",
              "      <td>VISp2/3</td>\n",
              "      <td>331663</td>\n",
              "      <td>Sst-IRES-Cre;Ai14-331663</td>\n",
              "      <td>F</td>\n",
              "      <td>P57</td>\n",
              "      <td>NaN</td>\n",
              "      <td>NaN</td>\n",
              "      <td>...</td>\n",
              "      <td>NaN</td>\n",
              "      <td>full</td>\n",
              "      <td>0.164240</td>\n",
              "      <td>NaN</td>\n",
              "      <td>601803733</td>\n",
              "      <td>PS0817_E1-50_S25</td>\n",
              "      <td>BT036</td>\n",
              "      <td>CS180626100035</td>\n",
              "      <td>Sst Calb2 Pdlim5</td>\n",
              "      <td>Sst-MET-3</td>\n",
              "    </tr>\n",
              "    <tr>\n",
              "      <th>601808698</th>\n",
              "      <td>mIVSCC-MET</td>\n",
              "      <td>Sst-IRES-Cre;Ai14-331663.04.02.03</td>\n",
              "      <td>right</td>\n",
              "      <td>VISp5</td>\n",
              "      <td>331663</td>\n",
              "      <td>Sst-IRES-Cre;Ai14-331663</td>\n",
              "      <td>F</td>\n",
              "      <td>P57</td>\n",
              "      <td>NaN</td>\n",
              "      <td>NaN</td>\n",
              "      <td>...</td>\n",
              "      <td>NaN</td>\n",
              "      <td>full</td>\n",
              "      <td>0.483030</td>\n",
              "      <td>NaN</td>\n",
              "      <td>601808619</td>\n",
              "      <td>PS0817_E1-50_S26</td>\n",
              "      <td>BT036</td>\n",
              "      <td>CS180626100043</td>\n",
              "      <td>Sst Hpse Cbln4</td>\n",
              "      <td>Sst-MET-8</td>\n",
              "    </tr>\n",
              "    <tr>\n",
              "      <th>601810307</th>\n",
              "      <td>mIVSCC-MET</td>\n",
              "      <td>Sst-IRES-Cre;Ai14-331663.04.02.04</td>\n",
              "      <td>right</td>\n",
              "      <td>VISp2/3</td>\n",
              "      <td>331663</td>\n",
              "      <td>Sst-IRES-Cre;Ai14-331663</td>\n",
              "      <td>F</td>\n",
              "      <td>P57</td>\n",
              "      <td>NaN</td>\n",
              "      <td>NaN</td>\n",
              "      <td>...</td>\n",
              "      <td>NaN</td>\n",
              "      <td>full</td>\n",
              "      <td>0.295656</td>\n",
              "      <td>NaN</td>\n",
              "      <td>601810292</td>\n",
              "      <td>PS0817_E1-50_S27</td>\n",
              "      <td>BT036</td>\n",
              "      <td>CS180626100034</td>\n",
              "      <td>Sst Calb2 Necab1</td>\n",
              "      <td>Sst-MET-3</td>\n",
              "    </tr>\n",
              "  </tbody>\n",
              "</table>\n",
              "<p>5 rows × 22 columns</p>\n",
              "</div>\n",
              "    <div class=\"colab-df-buttons\">\n",
              "\n",
              "  <div class=\"colab-df-container\">\n",
              "    <button class=\"colab-df-convert\" onclick=\"convertToInteractive('df-44a640e5-fbc5-4574-ad8f-3f52a9a03fc5')\"\n",
              "            title=\"Convert this dataframe to an interactive table.\"\n",
              "            style=\"display:none;\">\n",
              "\n",
              "  <svg xmlns=\"http://www.w3.org/2000/svg\" height=\"24px\" viewBox=\"0 -960 960 960\">\n",
              "    <path d=\"M120-120v-720h720v720H120Zm60-500h600v-160H180v160Zm220 220h160v-160H400v160Zm0 220h160v-160H400v160ZM180-400h160v-160H180v160Zm440 0h160v-160H620v160ZM180-180h160v-160H180v160Zm440 0h160v-160H620v160Z\"/>\n",
              "  </svg>\n",
              "    </button>\n",
              "\n",
              "  <style>\n",
              "    .colab-df-container {\n",
              "      display:flex;\n",
              "      gap: 12px;\n",
              "    }\n",
              "\n",
              "    .colab-df-convert {\n",
              "      background-color: #E8F0FE;\n",
              "      border: none;\n",
              "      border-radius: 50%;\n",
              "      cursor: pointer;\n",
              "      display: none;\n",
              "      fill: #1967D2;\n",
              "      height: 32px;\n",
              "      padding: 0 0 0 0;\n",
              "      width: 32px;\n",
              "    }\n",
              "\n",
              "    .colab-df-convert:hover {\n",
              "      background-color: #E2EBFA;\n",
              "      box-shadow: 0px 1px 2px rgba(60, 64, 67, 0.3), 0px 1px 3px 1px rgba(60, 64, 67, 0.15);\n",
              "      fill: #174EA6;\n",
              "    }\n",
              "\n",
              "    .colab-df-buttons div {\n",
              "      margin-bottom: 4px;\n",
              "    }\n",
              "\n",
              "    [theme=dark] .colab-df-convert {\n",
              "      background-color: #3B4455;\n",
              "      fill: #D2E3FC;\n",
              "    }\n",
              "\n",
              "    [theme=dark] .colab-df-convert:hover {\n",
              "      background-color: #434B5C;\n",
              "      box-shadow: 0px 1px 3px 1px rgba(0, 0, 0, 0.15);\n",
              "      filter: drop-shadow(0px 1px 2px rgba(0, 0, 0, 0.3));\n",
              "      fill: #FFFFFF;\n",
              "    }\n",
              "  </style>\n",
              "\n",
              "    <script>\n",
              "      const buttonEl =\n",
              "        document.querySelector('#df-44a640e5-fbc5-4574-ad8f-3f52a9a03fc5 button.colab-df-convert');\n",
              "      buttonEl.style.display =\n",
              "        google.colab.kernel.accessAllowed ? 'block' : 'none';\n",
              "\n",
              "      async function convertToInteractive(key) {\n",
              "        const element = document.querySelector('#df-44a640e5-fbc5-4574-ad8f-3f52a9a03fc5');\n",
              "        const dataTable =\n",
              "          await google.colab.kernel.invokeFunction('convertToInteractive',\n",
              "                                                    [key], {});\n",
              "        if (!dataTable) return;\n",
              "\n",
              "        const docLinkHtml = 'Like what you see? Visit the ' +\n",
              "          '<a target=\"_blank\" href=https://colab.research.google.com/notebooks/data_table.ipynb>data table notebook</a>'\n",
              "          + ' to learn more about interactive tables.';\n",
              "        element.innerHTML = '';\n",
              "        dataTable['output_type'] = 'display_data';\n",
              "        await google.colab.output.renderOutput(dataTable, element);\n",
              "        const docLink = document.createElement('div');\n",
              "        docLink.innerHTML = docLinkHtml;\n",
              "        element.appendChild(docLink);\n",
              "      }\n",
              "    </script>\n",
              "  </div>\n",
              "\n",
              "\n",
              "    <div id=\"df-7354b7ae-14f4-4692-8f38-7e5a36534cc5\">\n",
              "      <button class=\"colab-df-quickchart\" onclick=\"quickchart('df-7354b7ae-14f4-4692-8f38-7e5a36534cc5')\"\n",
              "                title=\"Suggest charts\"\n",
              "                style=\"display:none;\">\n",
              "\n",
              "<svg xmlns=\"http://www.w3.org/2000/svg\" height=\"24px\"viewBox=\"0 0 24 24\"\n",
              "     width=\"24px\">\n",
              "    <g>\n",
              "        <path d=\"M19 3H5c-1.1 0-2 .9-2 2v14c0 1.1.9 2 2 2h14c1.1 0 2-.9 2-2V5c0-1.1-.9-2-2-2zM9 17H7v-7h2v7zm4 0h-2V7h2v10zm4 0h-2v-4h2v4z\"/>\n",
              "    </g>\n",
              "</svg>\n",
              "      </button>\n",
              "\n",
              "<style>\n",
              "  .colab-df-quickchart {\n",
              "      --bg-color: #E8F0FE;\n",
              "      --fill-color: #1967D2;\n",
              "      --hover-bg-color: #E2EBFA;\n",
              "      --hover-fill-color: #174EA6;\n",
              "      --disabled-fill-color: #AAA;\n",
              "      --disabled-bg-color: #DDD;\n",
              "  }\n",
              "\n",
              "  [theme=dark] .colab-df-quickchart {\n",
              "      --bg-color: #3B4455;\n",
              "      --fill-color: #D2E3FC;\n",
              "      --hover-bg-color: #434B5C;\n",
              "      --hover-fill-color: #FFFFFF;\n",
              "      --disabled-bg-color: #3B4455;\n",
              "      --disabled-fill-color: #666;\n",
              "  }\n",
              "\n",
              "  .colab-df-quickchart {\n",
              "    background-color: var(--bg-color);\n",
              "    border: none;\n",
              "    border-radius: 50%;\n",
              "    cursor: pointer;\n",
              "    display: none;\n",
              "    fill: var(--fill-color);\n",
              "    height: 32px;\n",
              "    padding: 0;\n",
              "    width: 32px;\n",
              "  }\n",
              "\n",
              "  .colab-df-quickchart:hover {\n",
              "    background-color: var(--hover-bg-color);\n",
              "    box-shadow: 0 1px 2px rgba(60, 64, 67, 0.3), 0 1px 3px 1px rgba(60, 64, 67, 0.15);\n",
              "    fill: var(--button-hover-fill-color);\n",
              "  }\n",
              "\n",
              "  .colab-df-quickchart-complete:disabled,\n",
              "  .colab-df-quickchart-complete:disabled:hover {\n",
              "    background-color: var(--disabled-bg-color);\n",
              "    fill: var(--disabled-fill-color);\n",
              "    box-shadow: none;\n",
              "  }\n",
              "\n",
              "  .colab-df-spinner {\n",
              "    border: 2px solid var(--fill-color);\n",
              "    border-color: transparent;\n",
              "    border-bottom-color: var(--fill-color);\n",
              "    animation:\n",
              "      spin 1s steps(1) infinite;\n",
              "  }\n",
              "\n",
              "  @keyframes spin {\n",
              "    0% {\n",
              "      border-color: transparent;\n",
              "      border-bottom-color: var(--fill-color);\n",
              "      border-left-color: var(--fill-color);\n",
              "    }\n",
              "    20% {\n",
              "      border-color: transparent;\n",
              "      border-left-color: var(--fill-color);\n",
              "      border-top-color: var(--fill-color);\n",
              "    }\n",
              "    30% {\n",
              "      border-color: transparent;\n",
              "      border-left-color: var(--fill-color);\n",
              "      border-top-color: var(--fill-color);\n",
              "      border-right-color: var(--fill-color);\n",
              "    }\n",
              "    40% {\n",
              "      border-color: transparent;\n",
              "      border-right-color: var(--fill-color);\n",
              "      border-top-color: var(--fill-color);\n",
              "    }\n",
              "    60% {\n",
              "      border-color: transparent;\n",
              "      border-right-color: var(--fill-color);\n",
              "    }\n",
              "    80% {\n",
              "      border-color: transparent;\n",
              "      border-right-color: var(--fill-color);\n",
              "      border-bottom-color: var(--fill-color);\n",
              "    }\n",
              "    90% {\n",
              "      border-color: transparent;\n",
              "      border-bottom-color: var(--fill-color);\n",
              "    }\n",
              "  }\n",
              "</style>\n",
              "\n",
              "      <script>\n",
              "        async function quickchart(key) {\n",
              "          const quickchartButtonEl =\n",
              "            document.querySelector('#' + key + ' button');\n",
              "          quickchartButtonEl.disabled = true;  // To prevent multiple clicks.\n",
              "          quickchartButtonEl.classList.add('colab-df-spinner');\n",
              "          try {\n",
              "            const charts = await google.colab.kernel.invokeFunction(\n",
              "                'suggestCharts', [key], {});\n",
              "          } catch (error) {\n",
              "            console.error('Error during call to suggestCharts:', error);\n",
              "          }\n",
              "          quickchartButtonEl.classList.remove('colab-df-spinner');\n",
              "          quickchartButtonEl.classList.add('colab-df-quickchart-complete');\n",
              "        }\n",
              "        (() => {\n",
              "          let quickchartButtonEl =\n",
              "            document.querySelector('#df-7354b7ae-14f4-4692-8f38-7e5a36534cc5 button');\n",
              "          quickchartButtonEl.style.display =\n",
              "            google.colab.kernel.accessAllowed ? 'block' : 'none';\n",
              "        })();\n",
              "      </script>\n",
              "    </div>\n",
              "\n",
              "    </div>\n",
              "  </div>\n"
            ],
            "application/vnd.google.colaboratory.intrinsic+json": {
              "type": "dataframe",
              "variable_name": "cell_metadata"
            }
          },
          "metadata": {},
          "execution_count": 5
        }
      ]
    },
    {
      "cell_type": "markdown",
      "source": [
        "### Examining a cell"
      ],
      "metadata": {
        "id": "n2ef9ClMcY59"
      }
    },
    {
      "cell_type": "markdown",
      "source": [
        "Let's look at one cell to see what information the dataset contains about each cell:"
      ],
      "metadata": {
        "id": "XmCk-3Qscauy"
      }
    },
    {
      "cell_type": "code",
      "source": [
        "cell_metadata.loc[601810307]"
      ],
      "metadata": {
        "colab": {
          "base_uri": "https://localhost:8080/",
          "height": 774
        },
        "id": "NXiML1g6OTv8",
        "outputId": "f222e9b8-11d0-462d-b680-9d549cb5115d"
      },
      "execution_count": 6,
      "outputs": [
        {
          "output_type": "execute_result",
          "data": {
            "text/plain": [
              "project                                              mIVSCC-MET\n",
              "cell_specimen_name            Sst-IRES-Cre;Ai14-331663.04.02.04\n",
              "hemisphere                                                right\n",
              "structure                                               VISp2/3\n",
              "donor_id                                                 331663\n",
              "donor_name                             Sst-IRES-Cre;Ai14-331663\n",
              "biological_sex                                                F\n",
              "age                                                         P57\n",
              "ethnicity                                                   NaN\n",
              "medical_conditions                                          NaN\n",
              "full_genotype                  Sst-IRES-Cre/wt;Ai14(RCL-tdT)/wt\n",
              "dendrite_type                                            aspiny\n",
              "apical_dendrite_status                                      NaN\n",
              "neuron_reconstruction_type                                 full\n",
              "cell_soma_normalized_depth                             0.295656\n",
              "depth_from_pia_um                                           NaN\n",
              "ephys_session_id                                      601810292\n",
              "transcriptomics_sample_id                      PS0817_E1-50_S27\n",
              "transcriptomics_batch                                     BT036\n",
              "T-type Accession ID                              CS180626100034\n",
              "T-type Label                                   Sst Calb2 Necab1\n",
              "MET-type Label                                        Sst-MET-3\n",
              "Name: 601810307, dtype: object"
            ],
            "text/html": [
              "<div>\n",
              "<style scoped>\n",
              "    .dataframe tbody tr th:only-of-type {\n",
              "        vertical-align: middle;\n",
              "    }\n",
              "\n",
              "    .dataframe tbody tr th {\n",
              "        vertical-align: top;\n",
              "    }\n",
              "\n",
              "    .dataframe thead th {\n",
              "        text-align: right;\n",
              "    }\n",
              "</style>\n",
              "<table border=\"1\" class=\"dataframe\">\n",
              "  <thead>\n",
              "    <tr style=\"text-align: right;\">\n",
              "      <th></th>\n",
              "      <th>601810307</th>\n",
              "    </tr>\n",
              "  </thead>\n",
              "  <tbody>\n",
              "    <tr>\n",
              "      <th>project</th>\n",
              "      <td>mIVSCC-MET</td>\n",
              "    </tr>\n",
              "    <tr>\n",
              "      <th>cell_specimen_name</th>\n",
              "      <td>Sst-IRES-Cre;Ai14-331663.04.02.04</td>\n",
              "    </tr>\n",
              "    <tr>\n",
              "      <th>hemisphere</th>\n",
              "      <td>right</td>\n",
              "    </tr>\n",
              "    <tr>\n",
              "      <th>structure</th>\n",
              "      <td>VISp2/3</td>\n",
              "    </tr>\n",
              "    <tr>\n",
              "      <th>donor_id</th>\n",
              "      <td>331663</td>\n",
              "    </tr>\n",
              "    <tr>\n",
              "      <th>donor_name</th>\n",
              "      <td>Sst-IRES-Cre;Ai14-331663</td>\n",
              "    </tr>\n",
              "    <tr>\n",
              "      <th>biological_sex</th>\n",
              "      <td>F</td>\n",
              "    </tr>\n",
              "    <tr>\n",
              "      <th>age</th>\n",
              "      <td>P57</td>\n",
              "    </tr>\n",
              "    <tr>\n",
              "      <th>ethnicity</th>\n",
              "      <td>NaN</td>\n",
              "    </tr>\n",
              "    <tr>\n",
              "      <th>medical_conditions</th>\n",
              "      <td>NaN</td>\n",
              "    </tr>\n",
              "    <tr>\n",
              "      <th>full_genotype</th>\n",
              "      <td>Sst-IRES-Cre/wt;Ai14(RCL-tdT)/wt</td>\n",
              "    </tr>\n",
              "    <tr>\n",
              "      <th>dendrite_type</th>\n",
              "      <td>aspiny</td>\n",
              "    </tr>\n",
              "    <tr>\n",
              "      <th>apical_dendrite_status</th>\n",
              "      <td>NaN</td>\n",
              "    </tr>\n",
              "    <tr>\n",
              "      <th>neuron_reconstruction_type</th>\n",
              "      <td>full</td>\n",
              "    </tr>\n",
              "    <tr>\n",
              "      <th>cell_soma_normalized_depth</th>\n",
              "      <td>0.295656</td>\n",
              "    </tr>\n",
              "    <tr>\n",
              "      <th>depth_from_pia_um</th>\n",
              "      <td>NaN</td>\n",
              "    </tr>\n",
              "    <tr>\n",
              "      <th>ephys_session_id</th>\n",
              "      <td>601810292</td>\n",
              "    </tr>\n",
              "    <tr>\n",
              "      <th>transcriptomics_sample_id</th>\n",
              "      <td>PS0817_E1-50_S27</td>\n",
              "    </tr>\n",
              "    <tr>\n",
              "      <th>transcriptomics_batch</th>\n",
              "      <td>BT036</td>\n",
              "    </tr>\n",
              "    <tr>\n",
              "      <th>T-type Accession ID</th>\n",
              "      <td>CS180626100034</td>\n",
              "    </tr>\n",
              "    <tr>\n",
              "      <th>T-type Label</th>\n",
              "      <td>Sst Calb2 Necab1</td>\n",
              "    </tr>\n",
              "    <tr>\n",
              "      <th>MET-type Label</th>\n",
              "      <td>Sst-MET-3</td>\n",
              "    </tr>\n",
              "  </tbody>\n",
              "</table>\n",
              "</div><br><label><b>dtype:</b> object</label>"
            ]
          },
          "metadata": {},
          "execution_count": 6
        }
      ]
    },
    {
      "cell_type": "markdown",
      "source": [
        "This is a unified format for both mice and humans, but our cells are all mice: certain features (ethnicity, medical conditions) therefore aren't recorded"
      ],
      "metadata": {
        "id": "JeJajNm3cgeb"
      }
    },
    {
      "cell_type": "markdown",
      "source": [
        "### How many cells are there total?"
      ],
      "metadata": {
        "id": "FBRngFE4Q9xD"
      }
    },
    {
      "cell_type": "code",
      "source": [
        "cell_metadata.shape"
      ],
      "metadata": {
        "colab": {
          "base_uri": "https://localhost:8080/"
        },
        "id": "n4g0egkzSSPv",
        "outputId": "93f93951-b12b-4162-c117-5722e1151c0e"
      },
      "execution_count": 7,
      "outputs": [
        {
          "output_type": "execute_result",
          "data": {
            "text/plain": [
              "(4435, 22)"
            ]
          },
          "metadata": {},
          "execution_count": 7
        }
      ]
    },
    {
      "cell_type": "markdown",
      "source": [
        "There are 4,435 cells."
      ],
      "metadata": {
        "id": "6jmcEiunS06j"
      }
    },
    {
      "cell_type": "markdown",
      "source": [
        "### How many total mice are represented in the dataset?"
      ],
      "metadata": {
        "id": "mkdBaSiBRAR8"
      }
    },
    {
      "cell_type": "code",
      "source": [
        "cell_metadata['donor_id'].nunique()"
      ],
      "metadata": {
        "colab": {
          "base_uri": "https://localhost:8080/"
        },
        "id": "cUHA55CCS6u8",
        "outputId": "457f0ed5-703f-4ff4-97ae-42f59b4e3357"
      },
      "execution_count": 8,
      "outputs": [
        {
          "output_type": "execute_result",
          "data": {
            "text/plain": [
              "1040"
            ]
          },
          "metadata": {},
          "execution_count": 8
        }
      ]
    },
    {
      "cell_type": "markdown",
      "source": [
        "There 1,040 unique donor mice in the dataset -- only an average of 4 cells per mouse"
      ],
      "metadata": {
        "id": "jaLfmov8TRCD"
      }
    },
    {
      "cell_type": "code",
      "source": [
        "sns.boxplot(x=cell_metadata['donor_id'].value_counts())\n",
        "plt.xlabel('Number of cells donated')"
      ],
      "metadata": {
        "colab": {
          "base_uri": "https://localhost:8080/",
          "height": 467
        },
        "id": "jgEYIEhOTW4S",
        "outputId": "8d46e766-6c20-4af6-8cc9-1ababb5acd37"
      },
      "execution_count": 13,
      "outputs": [
        {
          "output_type": "execute_result",
          "data": {
            "text/plain": [
              "Text(0.5, 0, 'Number of cells donated')"
            ]
          },
          "metadata": {},
          "execution_count": 13
        },
        {
          "output_type": "display_data",
          "data": {
            "text/plain": [
              "<Figure size 640x480 with 1 Axes>"
            ],
            "image/png": "[encoded data removed]"
          },
          "metadata": {}
        }
      ]
    },
    {
      "cell_type": "markdown",
      "source": [
        "### Which brain structures are represented in the dataset?"
      ],
      "metadata": {
        "id": "z7GaoyJ2RIe-"
      }
    },
    {
      "cell_type": "code",
      "source": [
        "cell_metadata['structure'].value_counts()"
      ],
      "metadata": {
        "collapsed": true,
        "id": "GhBB4qXNRLY6"
      },
      "execution_count": null,
      "outputs": []
    },
    {
      "cell_type": "markdown",
      "source": [
        "There are a lot of different structures- seems like this field indicates a lot of info:\n",
        "* VIS - visual cortex\n",
        "* p/a/m - posterior/anterior/medial\n",
        "* Number - layer?"
      ],
      "metadata": {
        "id": "-5M7diFJVmdb"
      }
    },
    {
      "cell_type": "markdown",
      "source": [
        "## Categorical splits"
      ],
      "metadata": {
        "id": "xyN_KD-5WWs4"
      }
    },
    {
      "cell_type": "code",
      "source": [
        "cell_metadata['hemisphere'].value_counts()"
      ],
      "metadata": {
        "colab": {
          "base_uri": "https://localhost:8080/",
          "height": 178
        },
        "id": "Dpv1hK8MWXji",
        "outputId": "93370901-83b3-4ddf-b290-96c7b7067458"
      },
      "execution_count": 17,
      "outputs": [
        {
          "output_type": "execute_result",
          "data": {
            "text/plain": [
              "hemisphere\n",
              "right    2352\n",
              "left     2083\n",
              "Name: count, dtype: int64"
            ],
            "text/html": [
              "<div>\n",
              "<style scoped>\n",
              "    .dataframe tbody tr th:only-of-type {\n",
              "        vertical-align: middle;\n",
              "    }\n",
              "\n",
              "    .dataframe tbody tr th {\n",
              "        vertical-align: top;\n",
              "    }\n",
              "\n",
              "    .dataframe thead th {\n",
              "        text-align: right;\n",
              "    }\n",
              "</style>\n",
              "<table border=\"1\" class=\"dataframe\">\n",
              "  <thead>\n",
              "    <tr style=\"text-align: right;\">\n",
              "      <th></th>\n",
              "      <th>count</th>\n",
              "    </tr>\n",
              "    <tr>\n",
              "      <th>hemisphere</th>\n",
              "      <th></th>\n",
              "    </tr>\n",
              "  </thead>\n",
              "  <tbody>\n",
              "    <tr>\n",
              "      <th>right</th>\n",
              "      <td>2352</td>\n",
              "    </tr>\n",
              "    <tr>\n",
              "      <th>left</th>\n",
              "      <td>2083</td>\n",
              "    </tr>\n",
              "  </tbody>\n",
              "</table>\n",
              "</div><br><label><b>dtype:</b> int64</label>"
            ]
          },
          "metadata": {},
          "execution_count": 17
        }
      ]
    },
    {
      "cell_type": "code",
      "source": [
        "cell_metadata['biological_sex'].value_counts()"
      ],
      "metadata": {
        "colab": {
          "base_uri": "https://localhost:8080/",
          "height": 178
        },
        "id": "d1MHLO76WaOe",
        "outputId": "6fdc50e8-3e60-421a-f14d-f4f293e41887"
      },
      "execution_count": 18,
      "outputs": [
        {
          "output_type": "execute_result",
          "data": {
            "text/plain": [
              "biological_sex\n",
              "M    2417\n",
              "F    2018\n",
              "Name: count, dtype: int64"
            ],
            "text/html": [
              "<div>\n",
              "<style scoped>\n",
              "    .dataframe tbody tr th:only-of-type {\n",
              "        vertical-align: middle;\n",
              "    }\n",
              "\n",
              "    .dataframe tbody tr th {\n",
              "        vertical-align: top;\n",
              "    }\n",
              "\n",
              "    .dataframe thead th {\n",
              "        text-align: right;\n",
              "    }\n",
              "</style>\n",
              "<table border=\"1\" class=\"dataframe\">\n",
              "  <thead>\n",
              "    <tr style=\"text-align: right;\">\n",
              "      <th></th>\n",
              "      <th>count</th>\n",
              "    </tr>\n",
              "    <tr>\n",
              "      <th>biological_sex</th>\n",
              "      <th></th>\n",
              "    </tr>\n",
              "  </thead>\n",
              "  <tbody>\n",
              "    <tr>\n",
              "      <th>M</th>\n",
              "      <td>2417</td>\n",
              "    </tr>\n",
              "    <tr>\n",
              "      <th>F</th>\n",
              "      <td>2018</td>\n",
              "    </tr>\n",
              "  </tbody>\n",
              "</table>\n",
              "</div><br><label><b>dtype:</b> int64</label>"
            ]
          },
          "metadata": {},
          "execution_count": 18
        }
      ]
    },
    {
      "cell_type": "markdown",
      "source": [
        "Roughly even split between hemispheres, biological sexes"
      ],
      "metadata": {
        "id": "G98GoD4kWk_t"
      }
    },
    {
      "cell_type": "markdown",
      "source": [
        "## Genetic Data"
      ],
      "metadata": {
        "id": "AOQLbn_dW0r8"
      }
    },
    {
      "cell_type": "markdown",
      "source": [
        "Our transcriptomic data is saved in an hdf file because it is so large (4,000 cells $\\times$ 40,000 genes $\\approx$ 160 million counts!)"
      ],
      "metadata": {
        "id": "_q49EBIpdo32"
      }
    },
    {
      "cell_type": "code",
      "source": [
        "rna_data = pd.read_hdf(\"/content/drive/Shareddrives/Lisman Laboratory/Lisman 2025/Neuroscience 2025/Data/gene_counts_ppm.hdf5.lz4\")"
      ],
      "metadata": {
        "id": "utocQMlQW1ta"
      },
      "execution_count": 19,
      "outputs": []
    },
    {
      "cell_type": "markdown",
      "source": [
        "Each column represents a gene- some are unidentified, but most have meaningful names that reflect their function\n",
        " * Should we ignore some of these?"
      ],
      "metadata": {
        "id": "-vQ0vFG7YwdX"
      }
    },
    {
      "cell_type": "code",
      "source": [
        "rna_data.columns"
      ],
      "metadata": {
        "colab": {
          "base_uri": "https://localhost:8080/"
        },
        "id": "7YxpvgIVYuSE",
        "outputId": "dafca8fc-4803-47f6-e0f9-77988bfb1b90"
      },
      "execution_count": 20,
      "outputs": [
        {
          "output_type": "execute_result",
          "data": {
            "text/plain": [
              "Index(['0610005C13Rik', '0610006L08Rik', '0610007P14Rik', '0610009B22Rik',\n",
              "       '0610009E02Rik', '0610009L18Rik', '0610009O20Rik', '0610010B08Rik',\n",
              "       '0610010F05Rik', '0610010K14Rik',\n",
              "       ...\n",
              "       'n-R5s134', 'n-R5s136', 'n-R5s138', 'n-R5s139', 'n-R5s141', 'n-R5s142',\n",
              "       'n-R5s143', 'n-R5s144', 'n-R5s146', 'n-R5s149'],\n",
              "      dtype='object', name='sample_id', length=45768)"
            ]
          },
          "metadata": {},
          "execution_count": 20
        }
      ]
    },
    {
      "cell_type": "markdown",
      "source": [
        "A random sampling of gene names:"
      ],
      "metadata": {
        "id": "TUGEFkGrYb_a"
      }
    },
    {
      "cell_type": "code",
      "source": [
        "import numpy as np\n",
        "np.random.choice(rna_data.columns, 20)"
      ],
      "metadata": {
        "colab": {
          "base_uri": "https://localhost:8080/"
        },
        "id": "3-AN7YrFXZVP",
        "outputId": "5f115786-fdf4-4f34-a6cf-adffa5ad86d2"
      },
      "execution_count": 23,
      "outputs": [
        {
          "output_type": "execute_result",
          "data": {
            "text/plain": [
              "array(['Hexim1', 'Rpl9-ps5', 'Plin5', '2310015K22Rik', 'Grin3b',\n",
              "       '4930522P08Rik', 'Cbr3', 'Rdh8', 'Cd2', '1700016P04Rik',\n",
              "       'LOC105247182', 'Gm31595', 'Gm32780', 'Gm20570', 'Zfp941',\n",
              "       'Gm4265', 'Gm5547', 'Tnfrsf12a', 'Gm33527', 'Cdk1'], dtype=object)"
            ]
          },
          "metadata": {},
          "execution_count": 23
        }
      ]
    },
    {
      "cell_type": "markdown",
      "source": [
        "Each row represents a cell, with the columns representing the relative amount of gene expression in ppm\n",
        "\n",
        "For example, if we just have genes A, B, and C, and there are 10 copies of A, 90 copies of B, 0 copies of C in the cell, that would result in:\n",
        "\n",
        "* A - 100,000\n",
        "* B - 900,000\n",
        "* C - 0\n",
        "\n",
        "5% of RNA is Gene X --> Gene X is 50,000 cpm\n",
        "\n",
        "Normalized per cell -- we're looking at the"
      ],
      "metadata": {
        "id": "0I_CdOdKZRKW"
      }
    },
    {
      "cell_type": "markdown",
      "source": [
        "## Looking at a cell"
      ],
      "metadata": {
        "id": "p70Qi5ODbogg"
      }
    },
    {
      "cell_type": "markdown",
      "source": [
        "Let's look at the top 10 genes expressed in a cell:"
      ],
      "metadata": {
        "id": "YKtHd0ymbq7a"
      }
    },
    {
      "cell_type": "code",
      "source": [
        "# sort the values in the cell in descending order\n",
        "rna_data.loc[992825872].sort_values(ascending = False).head(10)"
      ],
      "metadata": {
        "colab": {
          "base_uri": "https://localhost:8080/",
          "height": 429
        },
        "id": "x1OK_pf4becp",
        "outputId": "721ce6bd-72e4-4803-ede2-ec0a050fb770"
      },
      "execution_count": 26,
      "outputs": [
        {
          "output_type": "execute_result",
          "data": {
            "text/plain": [
              "sample_id\n",
              "Malat1       8896.351940\n",
              "Rn18s-rs5    8712.864681\n",
              "Nrxn3        8099.387078\n",
              "Adarb2       6696.358241\n",
              "Lars2        6483.216476\n",
              "Calm1        5706.639088\n",
              "Arpp21       4700.239275\n",
              "Zc3h7a       4207.233105\n",
              "Snap25       4025.599253\n",
              "Meg3         3352.812637\n",
              "Name: 992825872, dtype: float64"
            ],
            "text/html": [
              "<div>\n",
              "<style scoped>\n",
              "    .dataframe tbody tr th:only-of-type {\n",
              "        vertical-align: middle;\n",
              "    }\n",
              "\n",
              "    .dataframe tbody tr th {\n",
              "        vertical-align: top;\n",
              "    }\n",
              "\n",
              "    .dataframe thead th {\n",
              "        text-align: right;\n",
              "    }\n",
              "</style>\n",
              "<table border=\"1\" class=\"dataframe\">\n",
              "  <thead>\n",
              "    <tr style=\"text-align: right;\">\n",
              "      <th></th>\n",
              "      <th>992825872</th>\n",
              "    </tr>\n",
              "    <tr>\n",
              "      <th>sample_id</th>\n",
              "      <th></th>\n",
              "    </tr>\n",
              "  </thead>\n",
              "  <tbody>\n",
              "    <tr>\n",
              "      <th>Malat1</th>\n",
              "      <td>8896.351940</td>\n",
              "    </tr>\n",
              "    <tr>\n",
              "      <th>Rn18s-rs5</th>\n",
              "      <td>8712.864681</td>\n",
              "    </tr>\n",
              "    <tr>\n",
              "      <th>Nrxn3</th>\n",
              "      <td>8099.387078</td>\n",
              "    </tr>\n",
              "    <tr>\n",
              "      <th>Adarb2</th>\n",
              "      <td>6696.358241</td>\n",
              "    </tr>\n",
              "    <tr>\n",
              "      <th>Lars2</th>\n",
              "      <td>6483.216476</td>\n",
              "    </tr>\n",
              "    <tr>\n",
              "      <th>Calm1</th>\n",
              "      <td>5706.639088</td>\n",
              "    </tr>\n",
              "    <tr>\n",
              "      <th>Arpp21</th>\n",
              "      <td>4700.239275</td>\n",
              "    </tr>\n",
              "    <tr>\n",
              "      <th>Zc3h7a</th>\n",
              "      <td>4207.233105</td>\n",
              "    </tr>\n",
              "    <tr>\n",
              "      <th>Snap25</th>\n",
              "      <td>4025.599253</td>\n",
              "    </tr>\n",
              "    <tr>\n",
              "      <th>Meg3</th>\n",
              "      <td>3352.812637</td>\n",
              "    </tr>\n",
              "  </tbody>\n",
              "</table>\n",
              "</div><br><label><b>dtype:</b> float64</label>"
            ]
          },
          "metadata": {},
          "execution_count": 26
        }
      ]
    },
    {
      "cell_type": "markdown",
      "source": [
        "Malat1 has 8896 cpm expression $\\rightarrow$ accounts for 0.89% of cell's measured transcriptome"
      ],
      "metadata": {
        "id": "tbJoW2b-eg0T"
      }
    }
  ]
}