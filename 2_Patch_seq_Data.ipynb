{
  "nbformat": 4,
  "nbformat_minor": 0,
  "metadata": {
    "colab": {
      "provenance": [],
      "toc_visible": true,
      "authorship_tag": "ABX9TyPWZgetnozo0lqMHMuw2txb",
      "include_colab_link": true
    },
    "kernelspec": {
      "name": "python3",
      "display_name": "Python 3"
    },
    "language_info": {
      "name": "python"
    }
  },
  "cells": [
    {
      "cell_type": "markdown",
      "metadata": {
        "id": "view-in-github",
        "colab_type": "text"
      },
      "source": [
        "<a href=\"https://colab.research.google.com/github/tb-harris/neuroscience-2025/blob/main/2_Patch_seq_Data.ipynb\" target=\"_parent\"><img src=\"https://colab.research.google.com/assets/colab-badge.svg\" alt=\"Open In Colab\"/></a>"
      ]
    },
    {
      "cell_type": "markdown",
      "source": [
        "# Patch-seq Data"
      ],
      "metadata": {
        "id": "ZR0Y2SVDcUrO"
      }
    },
    {
      "cell_type": "markdown",
      "source": [
        "## Setup"
      ],
      "metadata": {
        "id": "Q7P8a_aoNS52"
      }
    },
    {
      "cell_type": "markdown",
      "source": [
        "Loading our Google Drive files:"
      ],
      "metadata": {
        "id": "vv0FL77rNV_H"
      }
    },
    {
      "cell_type": "code",
      "execution_count": 1,
      "metadata": {
        "id": "dIzzt1P-Mv7m",
        "colab": {
          "base_uri": "https://localhost:8080/"
        },
        "outputId": "ef20cf9a-2864-4de5-a020-0ce3f3bcf426"
      },
      "outputs": [
        {
          "output_type": "stream",
          "name": "stdout",
          "text": [
            "Mounted at /content/drive/\n"
          ]
        }
      ],
      "source": [
        "from google.colab import drive\n",
        "drive.mount(\"/content/drive/\")"
      ]
    },
    {
      "cell_type": "code",
      "source": [
        "import pandas as pd\n",
        "import matplotlib.pyplot as plt\n",
        "import seaborn as sns"
      ],
      "metadata": {
        "id": "EcnsqIoROBmN"
      },
      "execution_count": 2,
      "outputs": []
    },
    {
      "cell_type": "markdown",
      "source": [
        "## Metadata"
      ],
      "metadata": {
        "id": "Zzo2AZu1OGT8"
      }
    },
    {
      "cell_type": "markdown",
      "source": [
        "Let's load in the metadata file, which has information about each neuron that was analyzed in Gouwens et al, 2020.\n",
        "\n",
        "We can use `index_col` to set the cell_specimen_id column to be the index of the dataframe"
      ],
      "metadata": {
        "id": "zCvCyxaBM39Y"
      }
    },
    {
      "cell_type": "code",
      "source": [
        "cell_metadata = pd.read_csv(\"/content/drive/Shareddrives/Lisman Laboratory/Lisman 2025/Neuroscience 2025/Data/20200711_patchseq_metadata_mouse.csv\", index_col=\"cell_specimen_id\")"
      ],
      "metadata": {
        "id": "kqdf1FR9NJ7f"
      },
      "execution_count": 3,
      "outputs": []
    },
    {
      "cell_type": "code",
      "source": [
        "cell_metadata.head()"
      ],
      "metadata": {
        "id": "yZtnLxjHOQms",
        "colab": {
          "base_uri": "https://localhost:8080/",
          "height": 495
        },
        "outputId": "6d369ad1-9774-47b7-e5a7-004690f5c7e3"
      },
      "execution_count": 4,
      "outputs": [
        {
          "output_type": "execute_result",
          "data": {
            "text/plain": [
              "                     project                 cell_specimen_name hemisphere  \\\n",
              "cell_specimen_id                                                             \n",
              "601506507         mIVSCC-MET  Vip-IRES-Cre;Ai14-331294.04.01.01       left   \n",
              "601790961         mIVSCC-MET  Sst-IRES-Cre;Ai14-331663.04.01.01       left   \n",
              "601803754         mIVSCC-MET  Sst-IRES-Cre;Ai14-331663.04.02.02      right   \n",
              "601808698         mIVSCC-MET  Sst-IRES-Cre;Ai14-331663.04.02.03      right   \n",
              "601810307         mIVSCC-MET  Sst-IRES-Cre;Ai14-331663.04.02.04      right   \n",
              "\n",
              "                 structure  donor_id                donor_name biological_sex  \\\n",
              "cell_specimen_id                                                                \n",
              "601506507           VISpm4    331294  Vip-IRES-Cre;Ai14-331294              M   \n",
              "601790961           VISpm5    331663  Sst-IRES-Cre;Ai14-331663              F   \n",
              "601803754          VISp2/3    331663  Sst-IRES-Cre;Ai14-331663              F   \n",
              "601808698            VISp5    331663  Sst-IRES-Cre;Ai14-331663              F   \n",
              "601810307          VISp2/3    331663  Sst-IRES-Cre;Ai14-331663              F   \n",
              "\n",
              "                  age  ethnicity  medical_conditions  ...  \\\n",
              "cell_specimen_id                                      ...   \n",
              "601506507         P55        NaN                 NaN  ...   \n",
              "601790961         P57        NaN                 NaN  ...   \n",
              "601803754         P57        NaN                 NaN  ...   \n",
              "601808698         P57        NaN                 NaN  ...   \n",
              "601810307         P57        NaN                 NaN  ...   \n",
              "\n",
              "                 apical_dendrite_status neuron_reconstruction_type  \\\n",
              "cell_specimen_id                                                     \n",
              "601506507                           NaN                       full   \n",
              "601790961                           NaN                       full   \n",
              "601803754                           NaN                       full   \n",
              "601808698                           NaN                       full   \n",
              "601810307                           NaN                       full   \n",
              "\n",
              "                 cell_soma_normalized_depth depth_from_pia_um  \\\n",
              "cell_specimen_id                                                \n",
              "601506507                          0.361015               NaN   \n",
              "601790961                          0.621829               NaN   \n",
              "601803754                          0.164240               NaN   \n",
              "601808698                          0.483030               NaN   \n",
              "601810307                          0.295656               NaN   \n",
              "\n",
              "                  ephys_session_id  transcriptomics_sample_id  \\\n",
              "cell_specimen_id                                                \n",
              "601506507                601506492           PS0810_E1-50_S88   \n",
              "601790961                601790945           PS0817_E1-50_S19   \n",
              "601803754                601803733           PS0817_E1-50_S25   \n",
              "601808698                601808619           PS0817_E1-50_S26   \n",
              "601810307                601810292           PS0817_E1-50_S27   \n",
              "\n",
              "                  transcriptomics_batch T-type Accession ID      T-type Label  \\\n",
              "cell_specimen_id                                                                \n",
              "601506507                         BT035      CS180626100018  Vip Gpc3 Slc18a3   \n",
              "601790961                         BT036      CS180626100041     Sst Tac2 Myh4   \n",
              "601803754                         BT036      CS180626100035  Sst Calb2 Pdlim5   \n",
              "601808698                         BT036      CS180626100043    Sst Hpse Cbln4   \n",
              "601810307                         BT036      CS180626100034  Sst Calb2 Necab1   \n",
              "\n",
              "                 MET-type Label  \n",
              "cell_specimen_id                 \n",
              "601506507             Vip-MET-2  \n",
              "601790961                   NaN  \n",
              "601803754             Sst-MET-3  \n",
              "601808698             Sst-MET-8  \n",
              "601810307             Sst-MET-3  \n",
              "\n",
              "[5 rows x 22 columns]"
            ],
            "text/html": [
              "\n",
              "  <div id=\"df-512b563a-7943-4757-aaef-b1dc83544133\" class=\"colab-df-container\">\n",
              "    <div>\n",
              "<style scoped>\n",
              "    .dataframe tbody tr th:only-of-type {\n",
              "        vertical-align: middle;\n",
              "    }\n",
              "\n",
              "    .dataframe tbody tr th {\n",
              "        vertical-align: top;\n",
              "    }\n",
              "\n",
              "    .dataframe thead th {\n",
              "        text-align: right;\n",
              "    }\n",
              "</style>\n",
              "<table border=\"1\" class=\"dataframe\">\n",
              "  <thead>\n",
              "    <tr style=\"text-align: right;\">\n",
              "      <th></th>\n",
              "      <th>project</th>\n",
              "      <th>cell_specimen_name</th>\n",
              "      <th>hemisphere</th>\n",
              "      <th>structure</th>\n",
              "      <th>donor_id</th>\n",
              "      <th>donor_name</th>\n",
              "      <th>biological_sex</th>\n",
              "      <th>age</th>\n",
              "      <th>ethnicity</th>\n",
              "      <th>medical_conditions</th>\n",
              "      <th>...</th>\n",
              "      <th>apical_dendrite_status</th>\n",
              "      <th>neuron_reconstruction_type</th>\n",
              "      <th>cell_soma_normalized_depth</th>\n",
              "      <th>depth_from_pia_um</th>\n",
              "      <th>ephys_session_id</th>\n",
              "      <th>transcriptomics_sample_id</th>\n",
              "      <th>transcriptomics_batch</th>\n",
              "      <th>T-type Accession ID</th>\n",
              "      <th>T-type Label</th>\n",
              "      <th>MET-type Label</th>\n",
              "    </tr>\n",
              "    <tr>\n",
              "      <th>cell_specimen_id</th>\n",
              "      <th></th>\n",
              "      <th></th>\n",
              "      <th></th>\n",
              "      <th></th>\n",
              "      <th></th>\n",
              "      <th></th>\n",
              "      <th></th>\n",
              "      <th></th>\n",
              "      <th></th>\n",
              "      <th></th>\n",
              "      <th></th>\n",
              "      <th></th>\n",
              "      <th></th>\n",
              "      <th></th>\n",
              "      <th></th>\n",
              "      <th></th>\n",
              "      <th></th>\n",
              "      <th></th>\n",
              "      <th></th>\n",
              "      <th></th>\n",
              "      <th></th>\n",
              "    </tr>\n",
              "  </thead>\n",
              "  <tbody>\n",
              "    <tr>\n",
              "      <th>601506507</th>\n",
              "      <td>mIVSCC-MET</td>\n",
              "      <td>Vip-IRES-Cre;Ai14-331294.04.01.01</td>\n",
              "      <td>left</td>\n",
              "      <td>VISpm4</td>\n",
              "      <td>331294</td>\n",
              "      <td>Vip-IRES-Cre;Ai14-331294</td>\n",
              "      <td>M</td>\n",
              "      <td>P55</td>\n",
              "      <td>NaN</td>\n",
              "      <td>NaN</td>\n",
              "      <td>...</td>\n",
              "      <td>NaN</td>\n",
              "      <td>full</td>\n",
              "      <td>0.361015</td>\n",
              "      <td>NaN</td>\n",
              "      <td>601506492</td>\n",
              "      <td>PS0810_E1-50_S88</td>\n",
              "      <td>BT035</td>\n",
              "      <td>CS180626100018</td>\n",
              "      <td>Vip Gpc3 Slc18a3</td>\n",
              "      <td>Vip-MET-2</td>\n",
              "    </tr>\n",
              "    <tr>\n",
              "      <th>601790961</th>\n",
              "      <td>mIVSCC-MET</td>\n",
              "      <td>Sst-IRES-Cre;Ai14-331663.04.01.01</td>\n",
              "      <td>left</td>\n",
              "      <td>VISpm5</td>\n",
              "      <td>331663</td>\n",
              "      <td>Sst-IRES-Cre;Ai14-331663</td>\n",
              "      <td>F</td>\n",
              "      <td>P57</td>\n",
              "      <td>NaN</td>\n",
              "      <td>NaN</td>\n",
              "      <td>...</td>\n",
              "      <td>NaN</td>\n",
              "      <td>full</td>\n",
              "      <td>0.621829</td>\n",
              "      <td>NaN</td>\n",
              "      <td>601790945</td>\n",
              "      <td>PS0817_E1-50_S19</td>\n",
              "      <td>BT036</td>\n",
              "      <td>CS180626100041</td>\n",
              "      <td>Sst Tac2 Myh4</td>\n",
              "      <td>NaN</td>\n",
              "    </tr>\n",
              "    <tr>\n",
              "      <th>601803754</th>\n",
              "      <td>mIVSCC-MET</td>\n",
              "      <td>Sst-IRES-Cre;Ai14-331663.04.02.02</td>\n",
              "      <td>right</td>\n",
              "      <td>VISp2/3</td>\n",
              "      <td>331663</td>\n",
              "      <td>Sst-IRES-Cre;Ai14-331663</td>\n",
              "      <td>F</td>\n",
              "      <td>P57</td>\n",
              "      <td>NaN</td>\n",
              "      <td>NaN</td>\n",
              "      <td>...</td>\n",
              "      <td>NaN</td>\n",
              "      <td>full</td>\n",
              "      <td>0.164240</td>\n",
              "      <td>NaN</td>\n",
              "      <td>601803733</td>\n",
              "      <td>PS0817_E1-50_S25</td>\n",
              "      <td>BT036</td>\n",
              "      <td>CS180626100035</td>\n",
              "      <td>Sst Calb2 Pdlim5</td>\n",
              "      <td>Sst-MET-3</td>\n",
              "    </tr>\n",
              "    <tr>\n",
              "      <th>601808698</th>\n",
              "      <td>mIVSCC-MET</td>\n",
              "      <td>Sst-IRES-Cre;Ai14-331663.04.02.03</td>\n",
              "      <td>right</td>\n",
              "      <td>VISp5</td>\n",
              "      <td>331663</td>\n",
              "      <td>Sst-IRES-Cre;Ai14-331663</td>\n",
              "      <td>F</td>\n",
              "      <td>P57</td>\n",
              "      <td>NaN</td>\n",
              "      <td>NaN</td>\n",
              "      <td>...</td>\n",
              "      <td>NaN</td>\n",
              "      <td>full</td>\n",
              "      <td>0.483030</td>\n",
              "      <td>NaN</td>\n",
              "      <td>601808619</td>\n",
              "      <td>PS0817_E1-50_S26</td>\n",
              "      <td>BT036</td>\n",
              "      <td>CS180626100043</td>\n",
              "      <td>Sst Hpse Cbln4</td>\n",
              "      <td>Sst-MET-8</td>\n",
              "    </tr>\n",
              "    <tr>\n",
              "      <th>601810307</th>\n",
              "      <td>mIVSCC-MET</td>\n",
              "      <td>Sst-IRES-Cre;Ai14-331663.04.02.04</td>\n",
              "      <td>right</td>\n",
              "      <td>VISp2/3</td>\n",
              "      <td>331663</td>\n",
              "      <td>Sst-IRES-Cre;Ai14-331663</td>\n",
              "      <td>F</td>\n",
              "      <td>P57</td>\n",
              "      <td>NaN</td>\n",
              "      <td>NaN</td>\n",
              "      <td>...</td>\n",
              "      <td>NaN</td>\n",
              "      <td>full</td>\n",
              "      <td>0.295656</td>\n",
              "      <td>NaN</td>\n",
              "      <td>601810292</td>\n",
              "      <td>PS0817_E1-50_S27</td>\n",
              "      <td>BT036</td>\n",
              "      <td>CS180626100034</td>\n",
              "      <td>Sst Calb2 Necab1</td>\n",
              "      <td>Sst-MET-3</td>\n",
              "    </tr>\n",
              "  </tbody>\n",
              "</table>\n",
              "<p>5 rows × 22 columns</p>\n",
              "</div>\n",
              "    <div class=\"colab-df-buttons\">\n",
              "\n",
              "  <div class=\"colab-df-container\">\n",
              "    <button class=\"colab-df-convert\" onclick=\"convertToInteractive('df-512b563a-7943-4757-aaef-b1dc83544133')\"\n",
              "            title=\"Convert this dataframe to an interactive table.\"\n",
              "            style=\"display:none;\">\n",
              "\n",
              "  <svg xmlns=\"http://www.w3.org/2000/svg\" height=\"24px\" viewBox=\"0 -960 960 960\">\n",
              "    <path d=\"M120-120v-720h720v720H120Zm60-500h600v-160H180v160Zm220 220h160v-160H400v160Zm0 220h160v-160H400v160ZM180-400h160v-160H180v160Zm440 0h160v-160H620v160ZM180-180h160v-160H180v160Zm440 0h160v-160H620v160Z\"/>\n",
              "  </svg>\n",
              "    </button>\n",
              "\n",
              "  <style>\n",
              "    .colab-df-container {\n",
              "      display:flex;\n",
              "      gap: 12px;\n",
              "    }\n",
              "\n",
              "    .colab-df-convert {\n",
              "      background-color: #E8F0FE;\n",
              "      border: none;\n",
              "      border-radius: 50%;\n",
              "      cursor: pointer;\n",
              "      display: none;\n",
              "      fill: #1967D2;\n",
              "      height: 32px;\n",
              "      padding: 0 0 0 0;\n",
              "      width: 32px;\n",
              "    }\n",
              "\n",
              "    .colab-df-convert:hover {\n",
              "      background-color: #E2EBFA;\n",
              "      box-shadow: 0px 1px 2px rgba(60, 64, 67, 0.3), 0px 1px 3px 1px rgba(60, 64, 67, 0.15);\n",
              "      fill: #174EA6;\n",
              "    }\n",
              "\n",
              "    .colab-df-buttons div {\n",
              "      margin-bottom: 4px;\n",
              "    }\n",
              "\n",
              "    [theme=dark] .colab-df-convert {\n",
              "      background-color: #3B4455;\n",
              "      fill: #D2E3FC;\n",
              "    }\n",
              "\n",
              "    [theme=dark] .colab-df-convert:hover {\n",
              "      background-color: #434B5C;\n",
              "      box-shadow: 0px 1px 3px 1px rgba(0, 0, 0, 0.15);\n",
              "      filter: drop-shadow(0px 1px 2px rgba(0, 0, 0, 0.3));\n",
              "      fill: #FFFFFF;\n",
              "    }\n",
              "  </style>\n",
              "\n",
              "    <script>\n",
              "      const buttonEl =\n",
              "        document.querySelector('#df-512b563a-7943-4757-aaef-b1dc83544133 button.colab-df-convert');\n",
              "      buttonEl.style.display =\n",
              "        google.colab.kernel.accessAllowed ? 'block' : 'none';\n",
              "\n",
              "      async function convertToInteractive(key) {\n",
              "        const element = document.querySelector('#df-512b563a-7943-4757-aaef-b1dc83544133');\n",
              "        const dataTable =\n",
              "          await google.colab.kernel.invokeFunction('convertToInteractive',\n",
              "                                                    [key], {});\n",
              "        if (!dataTable) return;\n",
              "\n",
              "        const docLinkHtml = 'Like what you see? Visit the ' +\n",
              "          '<a target=\"_blank\" href=https://colab.research.google.com/notebooks/data_table.ipynb>data table notebook</a>'\n",
              "          + ' to learn more about interactive tables.';\n",
              "        element.innerHTML = '';\n",
              "        dataTable['output_type'] = 'display_data';\n",
              "        await google.colab.output.renderOutput(dataTable, element);\n",
              "        const docLink = document.createElement('div');\n",
              "        docLink.innerHTML = docLinkHtml;\n",
              "        element.appendChild(docLink);\n",
              "      }\n",
              "    </script>\n",
              "  </div>\n",
              "\n",
              "\n",
              "    <div id=\"df-700c0f4a-3495-4bce-9d40-14650bf66860\">\n",
              "      <button class=\"colab-df-quickchart\" onclick=\"quickchart('df-700c0f4a-3495-4bce-9d40-14650bf66860')\"\n",
              "                title=\"Suggest charts\"\n",
              "                style=\"display:none;\">\n",
              "\n",
              "<svg xmlns=\"http://www.w3.org/2000/svg\" height=\"24px\"viewBox=\"0 0 24 24\"\n",
              "     width=\"24px\">\n",
              "    <g>\n",
              "        <path d=\"M19 3H5c-1.1 0-2 .9-2 2v14c0 1.1.9 2 2 2h14c1.1 0 2-.9 2-2V5c0-1.1-.9-2-2-2zM9 17H7v-7h2v7zm4 0h-2V7h2v10zm4 0h-2v-4h2v4z\"/>\n",
              "    </g>\n",
              "</svg>\n",
              "      </button>\n",
              "\n",
              "<style>\n",
              "  .colab-df-quickchart {\n",
              "      --bg-color: #E8F0FE;\n",
              "      --fill-color: #1967D2;\n",
              "      --hover-bg-color: #E2EBFA;\n",
              "      --hover-fill-color: #174EA6;\n",
              "      --disabled-fill-color: #AAA;\n",
              "      --disabled-bg-color: #DDD;\n",
              "  }\n",
              "\n",
              "  [theme=dark] .colab-df-quickchart {\n",
              "      --bg-color: #3B4455;\n",
              "      --fill-color: #D2E3FC;\n",
              "      --hover-bg-color: #434B5C;\n",
              "      --hover-fill-color: #FFFFFF;\n",
              "      --disabled-bg-color: #3B4455;\n",
              "      --disabled-fill-color: #666;\n",
              "  }\n",
              "\n",
              "  .colab-df-quickchart {\n",
              "    background-color: var(--bg-color);\n",
              "    border: none;\n",
              "    border-radius: 50%;\n",
              "    cursor: pointer;\n",
              "    display: none;\n",
              "    fill: var(--fill-color);\n",
              "    height: 32px;\n",
              "    padding: 0;\n",
              "    width: 32px;\n",
              "  }\n",
              "\n",
              "  .colab-df-quickchart:hover {\n",
              "    background-color: var(--hover-bg-color);\n",
              "    box-shadow: 0 1px 2px rgba(60, 64, 67, 0.3), 0 1px 3px 1px rgba(60, 64, 67, 0.15);\n",
              "    fill: var(--button-hover-fill-color);\n",
              "  }\n",
              "\n",
              "  .colab-df-quickchart-complete:disabled,\n",
              "  .colab-df-quickchart-complete:disabled:hover {\n",
              "    background-color: var(--disabled-bg-color);\n",
              "    fill: var(--disabled-fill-color);\n",
              "    box-shadow: none;\n",
              "  }\n",
              "\n",
              "  .colab-df-spinner {\n",
              "    border: 2px solid var(--fill-color);\n",
              "    border-color: transparent;\n",
              "    border-bottom-color: var(--fill-color);\n",
              "    animation:\n",
              "      spin 1s steps(1) infinite;\n",
              "  }\n",
              "\n",
              "  @keyframes spin {\n",
              "    0% {\n",
              "      border-color: transparent;\n",
              "      border-bottom-color: var(--fill-color);\n",
              "      border-left-color: var(--fill-color);\n",
              "    }\n",
              "    20% {\n",
              "      border-color: transparent;\n",
              "      border-left-color: var(--fill-color);\n",
              "      border-top-color: var(--fill-color);\n",
              "    }\n",
              "    30% {\n",
              "      border-color: transparent;\n",
              "      border-left-color: var(--fill-color);\n",
              "      border-top-color: var(--fill-color);\n",
              "      border-right-color: var(--fill-color);\n",
              "    }\n",
              "    40% {\n",
              "      border-color: transparent;\n",
              "      border-right-color: var(--fill-color);\n",
              "      border-top-color: var(--fill-color);\n",
              "    }\n",
              "    60% {\n",
              "      border-color: transparent;\n",
              "      border-right-color: var(--fill-color);\n",
              "    }\n",
              "    80% {\n",
              "      border-color: transparent;\n",
              "      border-right-color: var(--fill-color);\n",
              "      border-bottom-color: var(--fill-color);\n",
              "    }\n",
              "    90% {\n",
              "      border-color: transparent;\n",
              "      border-bottom-color: var(--fill-color);\n",
              "    }\n",
              "  }\n",
              "</style>\n",
              "\n",
              "      <script>\n",
              "        async function quickchart(key) {\n",
              "          const quickchartButtonEl =\n",
              "            document.querySelector('#' + key + ' button');\n",
              "          quickchartButtonEl.disabled = true;  // To prevent multiple clicks.\n",
              "          quickchartButtonEl.classList.add('colab-df-spinner');\n",
              "          try {\n",
              "            const charts = await google.colab.kernel.invokeFunction(\n",
              "                'suggestCharts', [key], {});\n",
              "          } catch (error) {\n",
              "            console.error('Error during call to suggestCharts:', error);\n",
              "          }\n",
              "          quickchartButtonEl.classList.remove('colab-df-spinner');\n",
              "          quickchartButtonEl.classList.add('colab-df-quickchart-complete');\n",
              "        }\n",
              "        (() => {\n",
              "          let quickchartButtonEl =\n",
              "            document.querySelector('#df-700c0f4a-3495-4bce-9d40-14650bf66860 button');\n",
              "          quickchartButtonEl.style.display =\n",
              "            google.colab.kernel.accessAllowed ? 'block' : 'none';\n",
              "        })();\n",
              "      </script>\n",
              "    </div>\n",
              "\n",
              "    </div>\n",
              "  </div>\n"
            ],
            "application/vnd.google.colaboratory.intrinsic+json": {
              "type": "dataframe",
              "variable_name": "cell_metadata"
            }
          },
          "metadata": {},
          "execution_count": 4
        }
      ]
    },
    {
      "cell_type": "markdown",
      "source": [
        "### Examining a cell"
      ],
      "metadata": {
        "id": "n2ef9ClMcY59"
      }
    },
    {
      "cell_type": "markdown",
      "source": [
        "Let's look at one cell to see what information the dataset contains about each cell:"
      ],
      "metadata": {
        "id": "XmCk-3Qscauy"
      }
    },
    {
      "cell_type": "code",
      "source": [
        "cell_metadata.loc[601810307]"
      ],
      "metadata": {
        "id": "NXiML1g6OTv8",
        "colab": {
          "base_uri": "https://localhost:8080/",
          "height": 774
        },
        "outputId": "0b57649f-0dda-4685-e5ad-2c7fde018d6e"
      },
      "execution_count": 5,
      "outputs": [
        {
          "output_type": "execute_result",
          "data": {
            "text/plain": [
              "project                                              mIVSCC-MET\n",
              "cell_specimen_name            Sst-IRES-Cre;Ai14-331663.04.02.04\n",
              "hemisphere                                                right\n",
              "structure                                               VISp2/3\n",
              "donor_id                                                 331663\n",
              "donor_name                             Sst-IRES-Cre;Ai14-331663\n",
              "biological_sex                                                F\n",
              "age                                                         P57\n",
              "ethnicity                                                   NaN\n",
              "medical_conditions                                          NaN\n",
              "full_genotype                  Sst-IRES-Cre/wt;Ai14(RCL-tdT)/wt\n",
              "dendrite_type                                            aspiny\n",
              "apical_dendrite_status                                      NaN\n",
              "neuron_reconstruction_type                                 full\n",
              "cell_soma_normalized_depth                             0.295656\n",
              "depth_from_pia_um                                           NaN\n",
              "ephys_session_id                                      601810292\n",
              "transcriptomics_sample_id                      PS0817_E1-50_S27\n",
              "transcriptomics_batch                                     BT036\n",
              "T-type Accession ID                              CS180626100034\n",
              "T-type Label                                   Sst Calb2 Necab1\n",
              "MET-type Label                                        Sst-MET-3\n",
              "Name: 601810307, dtype: object"
            ],
            "text/html": [
              "<div>\n",
              "<style scoped>\n",
              "    .dataframe tbody tr th:only-of-type {\n",
              "        vertical-align: middle;\n",
              "    }\n",
              "\n",
              "    .dataframe tbody tr th {\n",
              "        vertical-align: top;\n",
              "    }\n",
              "\n",
              "    .dataframe thead th {\n",
              "        text-align: right;\n",
              "    }\n",
              "</style>\n",
              "<table border=\"1\" class=\"dataframe\">\n",
              "  <thead>\n",
              "    <tr style=\"text-align: right;\">\n",
              "      <th></th>\n",
              "      <th>601810307</th>\n",
              "    </tr>\n",
              "  </thead>\n",
              "  <tbody>\n",
              "    <tr>\n",
              "      <th>project</th>\n",
              "      <td>mIVSCC-MET</td>\n",
              "    </tr>\n",
              "    <tr>\n",
              "      <th>cell_specimen_name</th>\n",
              "      <td>Sst-IRES-Cre;Ai14-331663.04.02.04</td>\n",
              "    </tr>\n",
              "    <tr>\n",
              "      <th>hemisphere</th>\n",
              "      <td>right</td>\n",
              "    </tr>\n",
              "    <tr>\n",
              "      <th>structure</th>\n",
              "      <td>VISp2/3</td>\n",
              "    </tr>\n",
              "    <tr>\n",
              "      <th>donor_id</th>\n",
              "      <td>331663</td>\n",
              "    </tr>\n",
              "    <tr>\n",
              "      <th>donor_name</th>\n",
              "      <td>Sst-IRES-Cre;Ai14-331663</td>\n",
              "    </tr>\n",
              "    <tr>\n",
              "      <th>biological_sex</th>\n",
              "      <td>F</td>\n",
              "    </tr>\n",
              "    <tr>\n",
              "      <th>age</th>\n",
              "      <td>P57</td>\n",
              "    </tr>\n",
              "    <tr>\n",
              "      <th>ethnicity</th>\n",
              "      <td>NaN</td>\n",
              "    </tr>\n",
              "    <tr>\n",
              "      <th>medical_conditions</th>\n",
              "      <td>NaN</td>\n",
              "    </tr>\n",
              "    <tr>\n",
              "      <th>full_genotype</th>\n",
              "      <td>Sst-IRES-Cre/wt;Ai14(RCL-tdT)/wt</td>\n",
              "    </tr>\n",
              "    <tr>\n",
              "      <th>dendrite_type</th>\n",
              "      <td>aspiny</td>\n",
              "    </tr>\n",
              "    <tr>\n",
              "      <th>apical_dendrite_status</th>\n",
              "      <td>NaN</td>\n",
              "    </tr>\n",
              "    <tr>\n",
              "      <th>neuron_reconstruction_type</th>\n",
              "      <td>full</td>\n",
              "    </tr>\n",
              "    <tr>\n",
              "      <th>cell_soma_normalized_depth</th>\n",
              "      <td>0.295656</td>\n",
              "    </tr>\n",
              "    <tr>\n",
              "      <th>depth_from_pia_um</th>\n",
              "      <td>NaN</td>\n",
              "    </tr>\n",
              "    <tr>\n",
              "      <th>ephys_session_id</th>\n",
              "      <td>601810292</td>\n",
              "    </tr>\n",
              "    <tr>\n",
              "      <th>transcriptomics_sample_id</th>\n",
              "      <td>PS0817_E1-50_S27</td>\n",
              "    </tr>\n",
              "    <tr>\n",
              "      <th>transcriptomics_batch</th>\n",
              "      <td>BT036</td>\n",
              "    </tr>\n",
              "    <tr>\n",
              "      <th>T-type Accession ID</th>\n",
              "      <td>CS180626100034</td>\n",
              "    </tr>\n",
              "    <tr>\n",
              "      <th>T-type Label</th>\n",
              "      <td>Sst Calb2 Necab1</td>\n",
              "    </tr>\n",
              "    <tr>\n",
              "      <th>MET-type Label</th>\n",
              "      <td>Sst-MET-3</td>\n",
              "    </tr>\n",
              "  </tbody>\n",
              "</table>\n",
              "</div><br><label><b>dtype:</b> object</label>"
            ]
          },
          "metadata": {},
          "execution_count": 5
        }
      ]
    },
    {
      "cell_type": "markdown",
      "source": [
        "This is a unified format for both mice and humans, but our cells are all mice: certain features (ethnicity, medical conditions) therefore aren't recorded"
      ],
      "metadata": {
        "id": "JeJajNm3cgeb"
      }
    },
    {
      "cell_type": "markdown",
      "source": [
        "### How many cells are there total?"
      ],
      "metadata": {
        "id": "FBRngFE4Q9xD"
      }
    },
    {
      "cell_type": "code",
      "source": [
        "cell_metadata.shape"
      ],
      "metadata": {
        "id": "n4g0egkzSSPv",
        "colab": {
          "base_uri": "https://localhost:8080/"
        },
        "outputId": "8f96122c-524f-4ffa-99db-a577e8699bdb"
      },
      "execution_count": 6,
      "outputs": [
        {
          "output_type": "execute_result",
          "data": {
            "text/plain": [
              "(4435, 22)"
            ]
          },
          "metadata": {},
          "execution_count": 6
        }
      ]
    },
    {
      "cell_type": "markdown",
      "source": [
        "There are 4,435 cells."
      ],
      "metadata": {
        "id": "6jmcEiunS06j"
      }
    },
    {
      "cell_type": "markdown",
      "source": [
        "### How many total mice are represented in the dataset?"
      ],
      "metadata": {
        "id": "mkdBaSiBRAR8"
      }
    },
    {
      "cell_type": "code",
      "source": [
        "cell_metadata['donor_id'].nunique()"
      ],
      "metadata": {
        "id": "cUHA55CCS6u8",
        "colab": {
          "base_uri": "https://localhost:8080/"
        },
        "outputId": "50df8830-9c71-41f9-e933-5f7b57f0a2d4"
      },
      "execution_count": 7,
      "outputs": [
        {
          "output_type": "execute_result",
          "data": {
            "text/plain": [
              "1040"
            ]
          },
          "metadata": {},
          "execution_count": 7
        }
      ]
    },
    {
      "cell_type": "markdown",
      "source": [
        "There 1,040 unique donor mice in the dataset -- only an average of 4 cells per mouse"
      ],
      "metadata": {
        "id": "jaLfmov8TRCD"
      }
    },
    {
      "cell_type": "code",
      "source": [
        "sns.boxplot(x=cell_metadata['donor_id'].value_counts())\n",
        "plt.xlabel('Number of cells donated')"
      ],
      "metadata": {
        "id": "jgEYIEhOTW4S",
        "colab": {
          "base_uri": "https://localhost:8080/",
          "height": 467
        },
        "outputId": "8fdf9808-003d-4d53-b7a2-bee285b0d38d"
      },
      "execution_count": 8,
      "outputs": [
        {
          "output_type": "execute_result",
          "data": {
            "text/plain": [
              "Text(0.5, 0, 'Number of cells donated')"
            ]
          },
          "metadata": {},
          "execution_count": 8
        },
        {
          "output_type": "display_data",
          "data": {
            "text/plain": [
              "<Figure size 640x480 with 1 Axes>"
            ],
            "image/png": "[encoded data removed]"
          },
          "metadata": {}
        }
      ]
    },
    {
      "cell_type": "markdown",
      "source": [
        "### Which brain structures are represented in the dataset?"
      ],
      "metadata": {
        "id": "z7GaoyJ2RIe-"
      }
    },
    {
      "cell_type": "code",
      "source": [
        "cell_metadata['structure'].value_counts()"
      ],
      "metadata": {
        "collapsed": true,
        "id": "GhBB4qXNRLY6",
        "colab": {
          "base_uri": "https://localhost:8080/",
          "height": 1000
        },
        "outputId": "fdb3b581-ce9d-45ff-bd1c-b25232738330"
      },
      "execution_count": 9,
      "outputs": [
        {
          "output_type": "execute_result",
          "data": {
            "text/plain": [
              "structure\n",
              "VISp2/3      1148\n",
              "VISp5        1120\n",
              "VISp6a        729\n",
              "VISp4         388\n",
              "VISp1         239\n",
              "VISpm5        139\n",
              "VISpm2/3      117\n",
              "VISl5          78\n",
              "VISpm6a        66\n",
              "VISl2/3        59\n",
              "VISl6a         43\n",
              "VISpm4         39\n",
              "VISpm1         30\n",
              "VISp6b         25\n",
              "VISpor5        22\n",
              "VISl4          19\n",
              "VISli5         16\n",
              "VISl1          15\n",
              "VISli2/3       13\n",
              "VISpor6a       12\n",
              "VISpor2/3      11\n",
              "VISpl6a        10\n",
              "VISam5          8\n",
              "VISpl5          8\n",
              "VISam4          8\n",
              "VISal5          7\n",
              "VISam2/3        6\n",
              "VISam6a         5\n",
              "VISli6a         5\n",
              "VISli4          5\n",
              "VISal6a         5\n",
              "VISl6b          4\n",
              "VISal2/3        4\n",
              "VISpor1         4\n",
              "VISrl5          4\n",
              "VISal4          3\n",
              "VISrl2/3        3\n",
              "VISpor4         2\n",
              "VISpl2/3        2\n",
              "VISal1          2\n",
              "VISli1          2\n",
              "VISrl6a         2\n",
              "VISrl4          2\n",
              "VISpl4          1\n",
              "VISli6b         1\n",
              "VISp            1\n",
              "VISpor6b        1\n",
              "VISa5           1\n",
              "VISa6a          1\n",
              "Name: count, dtype: int64"
            ],
            "text/html": [
              "<div>\n",
              "<style scoped>\n",
              "    .dataframe tbody tr th:only-of-type {\n",
              "        vertical-align: middle;\n",
              "    }\n",
              "\n",
              "    .dataframe tbody tr th {\n",
              "        vertical-align: top;\n",
              "    }\n",
              "\n",
              "    .dataframe thead th {\n",
              "        text-align: right;\n",
              "    }\n",
              "</style>\n",
              "<table border=\"1\" class=\"dataframe\">\n",
              "  <thead>\n",
              "    <tr style=\"text-align: right;\">\n",
              "      <th></th>\n",
              "      <th>count</th>\n",
              "    </tr>\n",
              "    <tr>\n",
              "      <th>structure</th>\n",
              "      <th></th>\n",
              "    </tr>\n",
              "  </thead>\n",
              "  <tbody>\n",
              "    <tr>\n",
              "      <th>VISp2/3</th>\n",
              "      <td>1148</td>\n",
              "    </tr>\n",
              "    <tr>\n",
              "      <th>VISp5</th>\n",
              "      <td>1120</td>\n",
              "    </tr>\n",
              "    <tr>\n",
              "      <th>VISp6a</th>\n",
              "      <td>729</td>\n",
              "    </tr>\n",
              "    <tr>\n",
              "      <th>VISp4</th>\n",
              "      <td>388</td>\n",
              "    </tr>\n",
              "    <tr>\n",
              "      <th>VISp1</th>\n",
              "      <td>239</td>\n",
              "    </tr>\n",
              "    <tr>\n",
              "      <th>VISpm5</th>\n",
              "      <td>139</td>\n",
              "    </tr>\n",
              "    <tr>\n",
              "      <th>VISpm2/3</th>\n",
              "      <td>117</td>\n",
              "    </tr>\n",
              "    <tr>\n",
              "      <th>VISl5</th>\n",
              "      <td>78</td>\n",
              "    </tr>\n",
              "    <tr>\n",
              "      <th>VISpm6a</th>\n",
              "      <td>66</td>\n",
              "    </tr>\n",
              "    <tr>\n",
              "      <th>VISl2/3</th>\n",
              "      <td>59</td>\n",
              "    </tr>\n",
              "    <tr>\n",
              "      <th>VISl6a</th>\n",
              "      <td>43</td>\n",
              "    </tr>\n",
              "    <tr>\n",
              "      <th>VISpm4</th>\n",
              "      <td>39</td>\n",
              "    </tr>\n",
              "    <tr>\n",
              "      <th>VISpm1</th>\n",
              "      <td>30</td>\n",
              "    </tr>\n",
              "    <tr>\n",
              "      <th>VISp6b</th>\n",
              "      <td>25</td>\n",
              "    </tr>\n",
              "    <tr>\n",
              "      <th>VISpor5</th>\n",
              "      <td>22</td>\n",
              "    </tr>\n",
              "    <tr>\n",
              "      <th>VISl4</th>\n",
              "      <td>19</td>\n",
              "    </tr>\n",
              "    <tr>\n",
              "      <th>VISli5</th>\n",
              "      <td>16</td>\n",
              "    </tr>\n",
              "    <tr>\n",
              "      <th>VISl1</th>\n",
              "      <td>15</td>\n",
              "    </tr>\n",
              "    <tr>\n",
              "      <th>VISli2/3</th>\n",
              "      <td>13</td>\n",
              "    </tr>\n",
              "    <tr>\n",
              "      <th>VISpor6a</th>\n",
              "      <td>12</td>\n",
              "    </tr>\n",
              "    <tr>\n",
              "      <th>VISpor2/3</th>\n",
              "      <td>11</td>\n",
              "    </tr>\n",
              "    <tr>\n",
              "      <th>VISpl6a</th>\n",
              "      <td>10</td>\n",
              "    </tr>\n",
              "    <tr>\n",
              "      <th>VISam5</th>\n",
              "      <td>8</td>\n",
              "    </tr>\n",
              "    <tr>\n",
              "      <th>VISpl5</th>\n",
              "      <td>8</td>\n",
              "    </tr>\n",
              "    <tr>\n",
              "      <th>VISam4</th>\n",
              "      <td>8</td>\n",
              "    </tr>\n",
              "    <tr>\n",
              "      <th>VISal5</th>\n",
              "      <td>7</td>\n",
              "    </tr>\n",
              "    <tr>\n",
              "      <th>VISam2/3</th>\n",
              "      <td>6</td>\n",
              "    </tr>\n",
              "    <tr>\n",
              "      <th>VISam6a</th>\n",
              "      <td>5</td>\n",
              "    </tr>\n",
              "    <tr>\n",
              "      <th>VISli6a</th>\n",
              "      <td>5</td>\n",
              "    </tr>\n",
              "    <tr>\n",
              "      <th>VISli4</th>\n",
              "      <td>5</td>\n",
              "    </tr>\n",
              "    <tr>\n",
              "      <th>VISal6a</th>\n",
              "      <td>5</td>\n",
              "    </tr>\n",
              "    <tr>\n",
              "      <th>VISl6b</th>\n",
              "      <td>4</td>\n",
              "    </tr>\n",
              "    <tr>\n",
              "      <th>VISal2/3</th>\n",
              "      <td>4</td>\n",
              "    </tr>\n",
              "    <tr>\n",
              "      <th>VISpor1</th>\n",
              "      <td>4</td>\n",
              "    </tr>\n",
              "    <tr>\n",
              "      <th>VISrl5</th>\n",
              "      <td>4</td>\n",
              "    </tr>\n",
              "    <tr>\n",
              "      <th>VISal4</th>\n",
              "      <td>3</td>\n",
              "    </tr>\n",
              "    <tr>\n",
              "      <th>VISrl2/3</th>\n",
              "      <td>3</td>\n",
              "    </tr>\n",
              "    <tr>\n",
              "      <th>VISpor4</th>\n",
              "      <td>2</td>\n",
              "    </tr>\n",
              "    <tr>\n",
              "      <th>VISpl2/3</th>\n",
              "      <td>2</td>\n",
              "    </tr>\n",
              "    <tr>\n",
              "      <th>VISal1</th>\n",
              "      <td>2</td>\n",
              "    </tr>\n",
              "    <tr>\n",
              "      <th>VISli1</th>\n",
              "      <td>2</td>\n",
              "    </tr>\n",
              "    <tr>\n",
              "      <th>VISrl6a</th>\n",
              "      <td>2</td>\n",
              "    </tr>\n",
              "    <tr>\n",
              "      <th>VISrl4</th>\n",
              "      <td>2</td>\n",
              "    </tr>\n",
              "    <tr>\n",
              "      <th>VISpl4</th>\n",
              "      <td>1</td>\n",
              "    </tr>\n",
              "    <tr>\n",
              "      <th>VISli6b</th>\n",
              "      <td>1</td>\n",
              "    </tr>\n",
              "    <tr>\n",
              "      <th>VISp</th>\n",
              "      <td>1</td>\n",
              "    </tr>\n",
              "    <tr>\n",
              "      <th>VISpor6b</th>\n",
              "      <td>1</td>\n",
              "    </tr>\n",
              "    <tr>\n",
              "      <th>VISa5</th>\n",
              "      <td>1</td>\n",
              "    </tr>\n",
              "    <tr>\n",
              "      <th>VISa6a</th>\n",
              "      <td>1</td>\n",
              "    </tr>\n",
              "  </tbody>\n",
              "</table>\n",
              "</div><br><label><b>dtype:</b> int64</label>"
            ]
          },
          "metadata": {},
          "execution_count": 9
        }
      ]
    },
    {
      "cell_type": "markdown",
      "source": [
        "There are a lot of different structures- seems like this field indicates a lot of info:\n",
        "* VIS - visual cortex\n",
        "* p/a/m - posterior/anterior/medial\n",
        "* Number - layer?"
      ],
      "metadata": {
        "id": "-5M7diFJVmdb"
      }
    },
    {
      "cell_type": "markdown",
      "source": [
        "## Categorical splits"
      ],
      "metadata": {
        "id": "xyN_KD-5WWs4"
      }
    },
    {
      "cell_type": "code",
      "source": [
        "cell_metadata['hemisphere'].value_counts()"
      ],
      "metadata": {
        "id": "Dpv1hK8MWXji",
        "colab": {
          "base_uri": "https://localhost:8080/",
          "height": 178
        },
        "outputId": "30689d34-b3e6-4c98-b7bf-bc2d88fa755e"
      },
      "execution_count": 10,
      "outputs": [
        {
          "output_type": "execute_result",
          "data": {
            "text/plain": [
              "hemisphere\n",
              "right    2352\n",
              "left     2083\n",
              "Name: count, dtype: int64"
            ],
            "text/html": [
              "<div>\n",
              "<style scoped>\n",
              "    .dataframe tbody tr th:only-of-type {\n",
              "        vertical-align: middle;\n",
              "    }\n",
              "\n",
              "    .dataframe tbody tr th {\n",
              "        vertical-align: top;\n",
              "    }\n",
              "\n",
              "    .dataframe thead th {\n",
              "        text-align: right;\n",
              "    }\n",
              "</style>\n",
              "<table border=\"1\" class=\"dataframe\">\n",
              "  <thead>\n",
              "    <tr style=\"text-align: right;\">\n",
              "      <th></th>\n",
              "      <th>count</th>\n",
              "    </tr>\n",
              "    <tr>\n",
              "      <th>hemisphere</th>\n",
              "      <th></th>\n",
              "    </tr>\n",
              "  </thead>\n",
              "  <tbody>\n",
              "    <tr>\n",
              "      <th>right</th>\n",
              "      <td>2352</td>\n",
              "    </tr>\n",
              "    <tr>\n",
              "      <th>left</th>\n",
              "      <td>2083</td>\n",
              "    </tr>\n",
              "  </tbody>\n",
              "</table>\n",
              "</div><br><label><b>dtype:</b> int64</label>"
            ]
          },
          "metadata": {},
          "execution_count": 10
        }
      ]
    },
    {
      "cell_type": "code",
      "source": [
        "cell_metadata['biological_sex'].value_counts()"
      ],
      "metadata": {
        "id": "d1MHLO76WaOe",
        "colab": {
          "base_uri": "https://localhost:8080/",
          "height": 178
        },
        "outputId": "359a54a1-f07d-450e-d55c-4a6401748b22"
      },
      "execution_count": 11,
      "outputs": [
        {
          "output_type": "execute_result",
          "data": {
            "text/plain": [
              "biological_sex\n",
              "M    2417\n",
              "F    2018\n",
              "Name: count, dtype: int64"
            ],
            "text/html": [
              "<div>\n",
              "<style scoped>\n",
              "    .dataframe tbody tr th:only-of-type {\n",
              "        vertical-align: middle;\n",
              "    }\n",
              "\n",
              "    .dataframe tbody tr th {\n",
              "        vertical-align: top;\n",
              "    }\n",
              "\n",
              "    .dataframe thead th {\n",
              "        text-align: right;\n",
              "    }\n",
              "</style>\n",
              "<table border=\"1\" class=\"dataframe\">\n",
              "  <thead>\n",
              "    <tr style=\"text-align: right;\">\n",
              "      <th></th>\n",
              "      <th>count</th>\n",
              "    </tr>\n",
              "    <tr>\n",
              "      <th>biological_sex</th>\n",
              "      <th></th>\n",
              "    </tr>\n",
              "  </thead>\n",
              "  <tbody>\n",
              "    <tr>\n",
              "      <th>M</th>\n",
              "      <td>2417</td>\n",
              "    </tr>\n",
              "    <tr>\n",
              "      <th>F</th>\n",
              "      <td>2018</td>\n",
              "    </tr>\n",
              "  </tbody>\n",
              "</table>\n",
              "</div><br><label><b>dtype:</b> int64</label>"
            ]
          },
          "metadata": {},
          "execution_count": 11
        }
      ]
    },
    {
      "cell_type": "markdown",
      "source": [
        "Roughly even split between hemispheres, biological sexes"
      ],
      "metadata": {
        "id": "G98GoD4kWk_t"
      }
    },
    {
      "cell_type": "markdown",
      "source": [
        "## Genetic Data"
      ],
      "metadata": {
        "id": "AOQLbn_dW0r8"
      }
    },
    {
      "cell_type": "markdown",
      "source": [
        "Our transcriptomic data is saved in an hdf file because it is so large (4,000 cells $\\times$ 40,000 genes $\\approx$ 160 million counts!)"
      ],
      "metadata": {
        "id": "_q49EBIpdo32"
      }
    },
    {
      "cell_type": "code",
      "source": [
        "rna_data = pd.read_hdf(\"/content/drive/Shareddrives/Lisman Laboratory/Lisman 2025/Neuroscience 2025/Data/gene_counts_ppm.hdf5.lz4\")"
      ],
      "metadata": {
        "id": "utocQMlQW1ta"
      },
      "execution_count": 12,
      "outputs": []
    },
    {
      "cell_type": "markdown",
      "source": [
        "Each column represents a gene- some are unidentified, but most have meaningful names that reflect their function\n",
        " * Should we ignore some of these?"
      ],
      "metadata": {
        "id": "-vQ0vFG7YwdX"
      }
    },
    {
      "cell_type": "code",
      "source": [
        "rna_data.columns"
      ],
      "metadata": {
        "id": "7YxpvgIVYuSE",
        "colab": {
          "base_uri": "https://localhost:8080/"
        },
        "outputId": "80cfba1b-efd4-4c64-db73-de4823fd17b8"
      },
      "execution_count": 13,
      "outputs": [
        {
          "output_type": "execute_result",
          "data": {
            "text/plain": [
              "Index(['0610005C13Rik', '0610006L08Rik', '0610007P14Rik', '0610009B22Rik',\n",
              "       '0610009E02Rik', '0610009L18Rik', '0610009O20Rik', '0610010B08Rik',\n",
              "       '0610010F05Rik', '0610010K14Rik',\n",
              "       ...\n",
              "       'n-R5s134', 'n-R5s136', 'n-R5s138', 'n-R5s139', 'n-R5s141', 'n-R5s142',\n",
              "       'n-R5s143', 'n-R5s144', 'n-R5s146', 'n-R5s149'],\n",
              "      dtype='object', name='sample_id', length=45768)"
            ]
          },
          "metadata": {},
          "execution_count": 13
        }
      ]
    },
    {
      "cell_type": "markdown",
      "source": [
        "A random sampling of gene names:"
      ],
      "metadata": {
        "id": "TUGEFkGrYb_a"
      }
    },
    {
      "cell_type": "code",
      "source": [
        "import numpy as np\n",
        "np.random.choice(rna_data.columns, 20)"
      ],
      "metadata": {
        "id": "3-AN7YrFXZVP",
        "colab": {
          "base_uri": "https://localhost:8080/"
        },
        "outputId": "f93655c9-cceb-4328-b96f-23c69f53a9f8"
      },
      "execution_count": 14,
      "outputs": [
        {
          "output_type": "execute_result",
          "data": {
            "text/plain": [
              "array(['Gm9540', 'Gm11476', 'Nrbf2', 'Gm34887', 'Olfr825', 'Mir6351',\n",
              "       'LOC105246250', 'Kalrn', 'Lrrn4cl', 'Gm31808', 'Myl7', 'Krtap19-4',\n",
              "       'C230004F18Rik', 'Gm31278', 'Mup20', 'Tax1bp1', 'Tfg', 'Gm18055',\n",
              "       'Gm10327', 'Gm34130'], dtype=object)"
            ]
          },
          "metadata": {},
          "execution_count": 14
        }
      ]
    },
    {
      "cell_type": "markdown",
      "source": [
        "Each row represents a cell, with the columns representing the relative amount of gene expression in ppm\n",
        "\n",
        "For example, if we just have genes A, B, and C, and there are 10 copies of A, 90 copies of B, 0 copies of C in the cell, that would result in:\n",
        "\n",
        "* A - 100,000\n",
        "* B - 900,000\n",
        "* C - 0\n",
        "\n",
        "5% of RNA is Gene X --> Gene X is 50,000 cpm\n",
        "\n",
        "Normalized per cell -- we're looking at the"
      ],
      "metadata": {
        "id": "0I_CdOdKZRKW"
      }
    },
    {
      "cell_type": "markdown",
      "source": [
        "## Looking at a cell"
      ],
      "metadata": {
        "id": "p70Qi5ODbogg"
      }
    },
    {
      "cell_type": "markdown",
      "source": [
        "Let's look at the top 10 genes expressed in a cell:"
      ],
      "metadata": {
        "id": "YKtHd0ymbq7a"
      }
    },
    {
      "cell_type": "code",
      "source": [
        "# sort the values in the cell in descending order\n",
        "rna_data.loc[992825872].sort_values(ascending = False).head(10)"
      ],
      "metadata": {
        "id": "x1OK_pf4becp",
        "colab": {
          "base_uri": "https://localhost:8080/",
          "height": 429
        },
        "outputId": "c1666dc0-60f8-423b-ee1e-fe40e5b9d1a3"
      },
      "execution_count": 15,
      "outputs": [
        {
          "output_type": "execute_result",
          "data": {
            "text/plain": [
              "sample_id\n",
              "Malat1       8896.351940\n",
              "Rn18s-rs5    8712.864681\n",
              "Nrxn3        8099.387078\n",
              "Adarb2       6696.358241\n",
              "Lars2        6483.216476\n",
              "Calm1        5706.639088\n",
              "Arpp21       4700.239275\n",
              "Zc3h7a       4207.233105\n",
              "Snap25       4025.599253\n",
              "Meg3         3352.812637\n",
              "Name: 992825872, dtype: float64"
            ],
            "text/html": [
              "<div>\n",
              "<style scoped>\n",
              "    .dataframe tbody tr th:only-of-type {\n",
              "        vertical-align: middle;\n",
              "    }\n",
              "\n",
              "    .dataframe tbody tr th {\n",
              "        vertical-align: top;\n",
              "    }\n",
              "\n",
              "    .dataframe thead th {\n",
              "        text-align: right;\n",
              "    }\n",
              "</style>\n",
              "<table border=\"1\" class=\"dataframe\">\n",
              "  <thead>\n",
              "    <tr style=\"text-align: right;\">\n",
              "      <th></th>\n",
              "      <th>992825872</th>\n",
              "    </tr>\n",
              "    <tr>\n",
              "      <th>sample_id</th>\n",
              "      <th></th>\n",
              "    </tr>\n",
              "  </thead>\n",
              "  <tbody>\n",
              "    <tr>\n",
              "      <th>Malat1</th>\n",
              "      <td>8896.351940</td>\n",
              "    </tr>\n",
              "    <tr>\n",
              "      <th>Rn18s-rs5</th>\n",
              "      <td>8712.864681</td>\n",
              "    </tr>\n",
              "    <tr>\n",
              "      <th>Nrxn3</th>\n",
              "      <td>8099.387078</td>\n",
              "    </tr>\n",
              "    <tr>\n",
              "      <th>Adarb2</th>\n",
              "      <td>6696.358241</td>\n",
              "    </tr>\n",
              "    <tr>\n",
              "      <th>Lars2</th>\n",
              "      <td>6483.216476</td>\n",
              "    </tr>\n",
              "    <tr>\n",
              "      <th>Calm1</th>\n",
              "      <td>5706.639088</td>\n",
              "    </tr>\n",
              "    <tr>\n",
              "      <th>Arpp21</th>\n",
              "      <td>4700.239275</td>\n",
              "    </tr>\n",
              "    <tr>\n",
              "      <th>Zc3h7a</th>\n",
              "      <td>4207.233105</td>\n",
              "    </tr>\n",
              "    <tr>\n",
              "      <th>Snap25</th>\n",
              "      <td>4025.599253</td>\n",
              "    </tr>\n",
              "    <tr>\n",
              "      <th>Meg3</th>\n",
              "      <td>3352.812637</td>\n",
              "    </tr>\n",
              "  </tbody>\n",
              "</table>\n",
              "</div><br><label><b>dtype:</b> float64</label>"
            ]
          },
          "metadata": {},
          "execution_count": 15
        }
      ]
    },
    {
      "cell_type": "markdown",
      "source": [
        "Malat1 has 8896 cpm expression $\\rightarrow$ accounts for 0.89% of cell's measured transcriptome"
      ],
      "metadata": {
        "id": "tbJoW2b-eg0T"
      }
    },
    {
      "cell_type": "markdown",
      "source": [
        "## How many genes are there represented in the dataset?"
      ],
      "metadata": {
        "id": "PMPQBYg8ZEZh"
      }
    },
    {
      "cell_type": "code",
      "source": [
        "rna_data.shape"
      ],
      "metadata": {
        "colab": {
          "base_uri": "https://localhost:8080/"
        },
        "id": "EdOlAF6gZN5T",
        "outputId": "e88ef1bb-b1b5-4150-9e88-f8fb48a5337a"
      },
      "execution_count": 16,
      "outputs": [
        {
          "output_type": "execute_result",
          "data": {
            "text/plain": [
              "(4435, 45768)"
            ]
          },
          "metadata": {},
          "execution_count": 16
        }
      ]
    },
    {
      "cell_type": "markdown",
      "source": [
        "There are ~4.4k cells, ~45k genes represented in the dataset"
      ],
      "metadata": {
        "id": "l3LtrkpmZSG_"
      }
    },
    {
      "cell_type": "markdown",
      "source": [
        "## Are there any cells with no recorded gene expression, or genes that aren't recorded in the cells' transcriptomes?"
      ],
      "metadata": {
        "id": "wZ-1ClTFZkRz"
      }
    },
    {
      "cell_type": "markdown",
      "source": [
        "Let's make sure that each cell's gene expression sums up to 1 million (which we would expect since we're working with counts per million) - double check that there aren't cells without counts"
      ],
      "metadata": {
        "id": "4sUnNoNhaehY"
      }
    },
    {
      "cell_type": "code",
      "source": [
        "# Sum each row (cell) of the dataset - we would expect this to be 1 million\n",
        "total_expression_per_cell = rna_data.sum(axis=1)\n",
        "total_expression_per_cell.describe()"
      ],
      "metadata": {
        "colab": {
          "base_uri": "https://localhost:8080/",
          "height": 335
        },
        "id": "lmBRDFTEZpyS",
        "outputId": "12789394-ee02-4f8f-c759-a4c487b071eb"
      },
      "execution_count": 21,
      "outputs": [
        {
          "output_type": "execute_result",
          "data": {
            "text/plain": [
              "count    4.435000e+03\n",
              "mean     1.000000e+06\n",
              "std      1.995815e-08\n",
              "min      1.000000e+06\n",
              "25%      1.000000e+06\n",
              "50%      1.000000e+06\n",
              "75%      1.000000e+06\n",
              "max      1.000000e+06\n",
              "dtype: float64"
            ],
            "text/html": [
              "<div>\n",
              "<style scoped>\n",
              "    .dataframe tbody tr th:only-of-type {\n",
              "        vertical-align: middle;\n",
              "    }\n",
              "\n",
              "    .dataframe tbody tr th {\n",
              "        vertical-align: top;\n",
              "    }\n",
              "\n",
              "    .dataframe thead th {\n",
              "        text-align: right;\n",
              "    }\n",
              "</style>\n",
              "<table border=\"1\" class=\"dataframe\">\n",
              "  <thead>\n",
              "    <tr style=\"text-align: right;\">\n",
              "      <th></th>\n",
              "      <th>0</th>\n",
              "    </tr>\n",
              "  </thead>\n",
              "  <tbody>\n",
              "    <tr>\n",
              "      <th>count</th>\n",
              "      <td>4.435000e+03</td>\n",
              "    </tr>\n",
              "    <tr>\n",
              "      <th>mean</th>\n",
              "      <td>1.000000e+06</td>\n",
              "    </tr>\n",
              "    <tr>\n",
              "      <th>std</th>\n",
              "      <td>1.995815e-08</td>\n",
              "    </tr>\n",
              "    <tr>\n",
              "      <th>min</th>\n",
              "      <td>1.000000e+06</td>\n",
              "    </tr>\n",
              "    <tr>\n",
              "      <th>25%</th>\n",
              "      <td>1.000000e+06</td>\n",
              "    </tr>\n",
              "    <tr>\n",
              "      <th>50%</th>\n",
              "      <td>1.000000e+06</td>\n",
              "    </tr>\n",
              "    <tr>\n",
              "      <th>75%</th>\n",
              "      <td>1.000000e+06</td>\n",
              "    </tr>\n",
              "    <tr>\n",
              "      <th>max</th>\n",
              "      <td>1.000000e+06</td>\n",
              "    </tr>\n",
              "  </tbody>\n",
              "</table>\n",
              "</div><br><label><b>dtype:</b> float64</label>"
            ]
          },
          "metadata": {},
          "execution_count": 21
        }
      ]
    },
    {
      "cell_type": "markdown",
      "source": [
        "We can see that our min and max are both $10^6$ = 1,000,000"
      ],
      "metadata": {
        "id": "09xc2i8AatEd"
      }
    },
    {
      "cell_type": "markdown",
      "source": [
        "### Are there genes that aren't recorded at all?"
      ],
      "metadata": {
        "id": "tQpgv6H-a3zN"
      }
    },
    {
      "cell_type": "markdown",
      "source": [
        "Are there any NaN values in the dataset at all?"
      ],
      "metadata": {
        "id": "4wxCubMSbLiJ"
      }
    },
    {
      "cell_type": "code",
      "source": [
        "rna_data.isna().sum().sum()"
      ],
      "metadata": {
        "colab": {
          "base_uri": "https://localhost:8080/"
        },
        "id": "x6WgPRfmbN4d",
        "outputId": "c6787595-67c9-43e4-ec26-80e58521e343"
      },
      "execution_count": 25,
      "outputs": [
        {
          "output_type": "execute_result",
          "data": {
            "text/plain": [
              "np.int64(0)"
            ]
          },
          "metadata": {},
          "execution_count": 25
        }
      ]
    },
    {
      "cell_type": "markdown",
      "source": [
        "There are 0 NA values.\n",
        "\n",
        "Are there any columns (genes) in the dataset with all 0 values?"
      ],
      "metadata": {
        "id": "gRAoGQgTbhg3"
      }
    },
    {
      "cell_type": "code",
      "source": [
        "zero_count_genes = rna_data.sum(axis=0) == 0\n",
        "print(zero_count_genes.sum())"
      ],
      "metadata": {
        "colab": {
          "base_uri": "https://localhost:8080/"
        },
        "id": "KJHaL-jDaOTt",
        "outputId": "fca7862c-5275-4a1a-b3bf-b3072351bd6c"
      },
      "execution_count": 30,
      "outputs": [
        {
          "output_type": "stream",
          "name": "stdout",
          "text": [
            "3838\n"
          ]
        }
      ]
    },
    {
      "cell_type": "markdown",
      "source": [
        "There are 3838 genes with zero expression across cells- we can get rid of them:"
      ],
      "metadata": {
        "id": "8QXrgvEPdTCB"
      }
    },
    {
      "cell_type": "code",
      "source": [
        "zero_gene_names = rna_data.columns[zero_count_genes]\n",
        "zero_gene_names"
      ],
      "metadata": {
        "colab": {
          "base_uri": "https://localhost:8080/"
        },
        "id": "-OcDKzbTcavH",
        "outputId": "4519a031-4f4b-43fc-c692-507f36559093"
      },
      "execution_count": 39,
      "outputs": [
        {
          "output_type": "execute_result",
          "data": {
            "text/plain": [
              "Index(['1110025L11Rik', '1110057P08Rik', '1700003I22Rik', '1700018B24Rik',\n",
              "       '1700020D14Rik', '1700023G09Rik', '1700034B16Rik', '1700042O10Rik',\n",
              "       '1700047L14Rik', '1700049E17Rik1',\n",
              "       ...\n",
              "       'n-R5s133', 'n-R5s134', 'n-R5s138', 'n-R5s139', 'n-R5s141', 'n-R5s142',\n",
              "       'n-R5s143', 'n-R5s144', 'n-R5s146', 'n-R5s149'],\n",
              "      dtype='object', name='sample_id', length=3838)"
            ]
          },
          "metadata": {},
          "execution_count": 39
        }
      ]
    },
    {
      "cell_type": "code",
      "source": [
        "rna_data = rna_data.drop(zero_gene_names, axis=1)"
      ],
      "metadata": {
        "id": "QeR-9fqnaNwE"
      },
      "execution_count": 41,
      "outputs": []
    },
    {
      "cell_type": "code",
      "source": [
        "rna_data.shape"
      ],
      "metadata": {
        "colab": {
          "base_uri": "https://localhost:8080/"
        },
        "id": "0IqPHKh9cJgn",
        "outputId": "ae2bce87-8407-46d3-f774-c4411d21f453"
      },
      "execution_count": 42,
      "outputs": [
        {
          "output_type": "execute_result",
          "data": {
            "text/plain": [
              "(4435, 41930)"
            ]
          },
          "metadata": {},
          "execution_count": 42
        }
      ]
    },
    {
      "cell_type": "markdown",
      "source": [
        "Gets whether each count is zero (False) or nonzero (True):"
      ],
      "metadata": {
        "id": "3TgYHuzogckH"
      }
    },
    {
      "cell_type": "code",
      "source": [
        "rna_data != 0"
      ],
      "metadata": {
        "colab": {
          "base_uri": "https://localhost:8080/",
          "height": 492
        },
        "id": "h2miZ4AxdPcp",
        "outputId": "e3055bc4-e6f5-4cbb-fc46-191142b92e9b"
      },
      "execution_count": 43,
      "outputs": [
        {
          "output_type": "execute_result",
          "data": {
            "text/plain": [
              "sample_id         0610005C13Rik  0610006L08Rik  0610007P14Rik  0610009B22Rik  \\\n",
              "cell_specimen_id                                                               \n",
              "601506507                 False          False          False          False   \n",
              "601790961                 False          False          False          False   \n",
              "601803754                 False          False          False           True   \n",
              "601808698                 False          False           True          False   \n",
              "601810307                 False          False           True          False   \n",
              "...                         ...            ...            ...            ...   \n",
              "992825872                 False          False          False           True   \n",
              "1003305641                False          False           True          False   \n",
              "1003313398                False          False           True          False   \n",
              "1003321825                False          False           True          False   \n",
              "1003336938                False          False           True           True   \n",
              "\n",
              "sample_id         0610009E02Rik  0610009L18Rik  0610009O20Rik  0610010B08Rik  \\\n",
              "cell_specimen_id                                                               \n",
              "601506507                 False          False          False          False   \n",
              "601790961                 False          False          False          False   \n",
              "601803754                 False          False          False          False   \n",
              "601808698                 False          False          False          False   \n",
              "601810307                 False          False          False          False   \n",
              "...                         ...            ...            ...            ...   \n",
              "992825872                 False           True          False          False   \n",
              "1003305641                False           True           True          False   \n",
              "1003313398                 True          False          False          False   \n",
              "1003321825                False          False          False          False   \n",
              "1003336938                 True           True           True          False   \n",
              "\n",
              "sample_id         0610010F05Rik  0610010K14Rik  ...   Zxdb   Zxdc  Zyg11a  \\\n",
              "cell_specimen_id                                ...                         \n",
              "601506507                  True          False  ...  False  False   False   \n",
              "601790961                 False          False  ...  False  False   False   \n",
              "601803754                  True          False  ...  False  False   False   \n",
              "601808698                 False           True  ...  False   True    True   \n",
              "601810307                  True           True  ...  False   True   False   \n",
              "...                         ...            ...  ...    ...    ...     ...   \n",
              "992825872                  True           True  ...   True   True   False   \n",
              "1003305641                 True          False  ...   True   True   False   \n",
              "1003313398                 True           True  ...  False  False   False   \n",
              "1003321825                 True           True  ...  False  False   False   \n",
              "1003336938                 True          False  ...   True   True   False   \n",
              "\n",
              "sample_id         Zyg11b    Zyx  Zzef1   Zzz3      a  l7Rn6  n-R5s136  \n",
              "cell_specimen_id                                                       \n",
              "601506507          False  False   True  False  False  False     False  \n",
              "601790961          False  False  False   True  False   True     False  \n",
              "601803754           True   True  False  False  False  False     False  \n",
              "601808698           True   True   True   True   True   True     False  \n",
              "601810307           True   True   True  False  False   True     False  \n",
              "...                  ...    ...    ...    ...    ...    ...       ...  \n",
              "992825872           True   True   True   True  False   True     False  \n",
              "1003305641          True  False   True   True  False   True     False  \n",
              "1003313398          True   True   True   True  False   True     False  \n",
              "1003321825         False   True   True   True  False  False     False  \n",
              "1003336938          True  False   True   True   True  False     False  \n",
              "\n",
              "[4435 rows x 41930 columns]"
            ],
            "text/html": [
              "\n",
              "  <div id=\"df-c6809a35-5177-4536-8359-f920a2954673\" class=\"colab-df-container\">\n",
              "    <div>\n",
              "<style scoped>\n",
              "    .dataframe tbody tr th:only-of-type {\n",
              "        vertical-align: middle;\n",
              "    }\n",
              "\n",
              "    .dataframe tbody tr th {\n",
              "        vertical-align: top;\n",
              "    }\n",
              "\n",
              "    .dataframe thead th {\n",
              "        text-align: right;\n",
              "    }\n",
              "</style>\n",
              "<table border=\"1\" class=\"dataframe\">\n",
              "  <thead>\n",
              "    <tr style=\"text-align: right;\">\n",
              "      <th>sample_id</th>\n",
              "      <th>0610005C13Rik</th>\n",
              "      <th>0610006L08Rik</th>\n",
              "      <th>0610007P14Rik</th>\n",
              "      <th>0610009B22Rik</th>\n",
              "      <th>0610009E02Rik</th>\n",
              "      <th>0610009L18Rik</th>\n",
              "      <th>0610009O20Rik</th>\n",
              "      <th>0610010B08Rik</th>\n",
              "      <th>0610010F05Rik</th>\n",
              "      <th>0610010K14Rik</th>\n",
              "      <th>...</th>\n",
              "      <th>Zxdb</th>\n",
              "      <th>Zxdc</th>\n",
              "      <th>Zyg11a</th>\n",
              "      <th>Zyg11b</th>\n",
              "      <th>Zyx</th>\n",
              "      <th>Zzef1</th>\n",
              "      <th>Zzz3</th>\n",
              "      <th>a</th>\n",
              "      <th>l7Rn6</th>\n",
              "      <th>n-R5s136</th>\n",
              "    </tr>\n",
              "    <tr>\n",
              "      <th>cell_specimen_id</th>\n",
              "      <th></th>\n",
              "      <th></th>\n",
              "      <th></th>\n",
              "      <th></th>\n",
              "      <th></th>\n",
              "      <th></th>\n",
              "      <th></th>\n",
              "      <th></th>\n",
              "      <th></th>\n",
              "      <th></th>\n",
              "      <th></th>\n",
              "      <th></th>\n",
              "      <th></th>\n",
              "      <th></th>\n",
              "      <th></th>\n",
              "      <th></th>\n",
              "      <th></th>\n",
              "      <th></th>\n",
              "      <th></th>\n",
              "      <th></th>\n",
              "      <th></th>\n",
              "    </tr>\n",
              "  </thead>\n",
              "  <tbody>\n",
              "    <tr>\n",
              "      <th>601506507</th>\n",
              "      <td>False</td>\n",
              "      <td>False</td>\n",
              "      <td>False</td>\n",
              "      <td>False</td>\n",
              "      <td>False</td>\n",
              "      <td>False</td>\n",
              "      <td>False</td>\n",
              "      <td>False</td>\n",
              "      <td>True</td>\n",
              "      <td>False</td>\n",
              "      <td>...</td>\n",
              "      <td>False</td>\n",
              "      <td>False</td>\n",
              "      <td>False</td>\n",
              "      <td>False</td>\n",
              "      <td>False</td>\n",
              "      <td>True</td>\n",
              "      <td>False</td>\n",
              "      <td>False</td>\n",
              "      <td>False</td>\n",
              "      <td>False</td>\n",
              "    </tr>\n",
              "    <tr>\n",
              "      <th>601790961</th>\n",
              "      <td>False</td>\n",
              "      <td>False</td>\n",
              "      <td>False</td>\n",
              "      <td>False</td>\n",
              "      <td>False</td>\n",
              "      <td>False</td>\n",
              "      <td>False</td>\n",
              "      <td>False</td>\n",
              "      <td>False</td>\n",
              "      <td>False</td>\n",
              "      <td>...</td>\n",
              "      <td>False</td>\n",
              "      <td>False</td>\n",
              "      <td>False</td>\n",
              "      <td>False</td>\n",
              "      <td>False</td>\n",
              "      <td>False</td>\n",
              "      <td>True</td>\n",
              "      <td>False</td>\n",
              "      <td>True</td>\n",
              "      <td>False</td>\n",
              "    </tr>\n",
              "    <tr>\n",
              "      <th>601803754</th>\n",
              "      <td>False</td>\n",
              "      <td>False</td>\n",
              "      <td>False</td>\n",
              "      <td>True</td>\n",
              "      <td>False</td>\n",
              "      <td>False</td>\n",
              "      <td>False</td>\n",
              "      <td>False</td>\n",
              "      <td>True</td>\n",
              "      <td>False</td>\n",
              "      <td>...</td>\n",
              "      <td>False</td>\n",
              "      <td>False</td>\n",
              "      <td>False</td>\n",
              "      <td>True</td>\n",
              "      <td>True</td>\n",
              "      <td>False</td>\n",
              "      <td>False</td>\n",
              "      <td>False</td>\n",
              "      <td>False</td>\n",
              "      <td>False</td>\n",
              "    </tr>\n",
              "    <tr>\n",
              "      <th>601808698</th>\n",
              "      <td>False</td>\n",
              "      <td>False</td>\n",
              "      <td>True</td>\n",
              "      <td>False</td>\n",
              "      <td>False</td>\n",
              "      <td>False</td>\n",
              "      <td>False</td>\n",
              "      <td>False</td>\n",
              "      <td>False</td>\n",
              "      <td>True</td>\n",
              "      <td>...</td>\n",
              "      <td>False</td>\n",
              "      <td>True</td>\n",
              "      <td>True</td>\n",
              "      <td>True</td>\n",
              "      <td>True</td>\n",
              "      <td>True</td>\n",
              "      <td>True</td>\n",
              "      <td>True</td>\n",
              "      <td>True</td>\n",
              "      <td>False</td>\n",
              "    </tr>\n",
              "    <tr>\n",
              "      <th>601810307</th>\n",
              "      <td>False</td>\n",
              "      <td>False</td>\n",
              "      <td>True</td>\n",
              "      <td>False</td>\n",
              "      <td>False</td>\n",
              "      <td>False</td>\n",
              "      <td>False</td>\n",
              "      <td>False</td>\n",
              "      <td>True</td>\n",
              "      <td>True</td>\n",
              "      <td>...</td>\n",
              "      <td>False</td>\n",
              "      <td>True</td>\n",
              "      <td>False</td>\n",
              "      <td>True</td>\n",
              "      <td>True</td>\n",
              "      <td>True</td>\n",
              "      <td>False</td>\n",
              "      <td>False</td>\n",
              "      <td>True</td>\n",
              "      <td>False</td>\n",
              "    </tr>\n",
              "    <tr>\n",
              "      <th>...</th>\n",
              "      <td>...</td>\n",
              "      <td>...</td>\n",
              "      <td>...</td>\n",
              "      <td>...</td>\n",
              "      <td>...</td>\n",
              "      <td>...</td>\n",
              "      <td>...</td>\n",
              "      <td>...</td>\n",
              "      <td>...</td>\n",
              "      <td>...</td>\n",
              "      <td>...</td>\n",
              "      <td>...</td>\n",
              "      <td>...</td>\n",
              "      <td>...</td>\n",
              "      <td>...</td>\n",
              "      <td>...</td>\n",
              "      <td>...</td>\n",
              "      <td>...</td>\n",
              "      <td>...</td>\n",
              "      <td>...</td>\n",
              "      <td>...</td>\n",
              "    </tr>\n",
              "    <tr>\n",
              "      <th>992825872</th>\n",
              "      <td>False</td>\n",
              "      <td>False</td>\n",
              "      <td>False</td>\n",
              "      <td>True</td>\n",
              "      <td>False</td>\n",
              "      <td>True</td>\n",
              "      <td>False</td>\n",
              "      <td>False</td>\n",
              "      <td>True</td>\n",
              "      <td>True</td>\n",
              "      <td>...</td>\n",
              "      <td>True</td>\n",
              "      <td>True</td>\n",
              "      <td>False</td>\n",
              "      <td>True</td>\n",
              "      <td>True</td>\n",
              "      <td>True</td>\n",
              "      <td>True</td>\n",
              "      <td>False</td>\n",
              "      <td>True</td>\n",
              "      <td>False</td>\n",
              "    </tr>\n",
              "    <tr>\n",
              "      <th>1003305641</th>\n",
              "      <td>False</td>\n",
              "      <td>False</td>\n",
              "      <td>True</td>\n",
              "      <td>False</td>\n",
              "      <td>False</td>\n",
              "      <td>True</td>\n",
              "      <td>True</td>\n",
              "      <td>False</td>\n",
              "      <td>True</td>\n",
              "      <td>False</td>\n",
              "      <td>...</td>\n",
              "      <td>True</td>\n",
              "      <td>True</td>\n",
              "      <td>False</td>\n",
              "      <td>True</td>\n",
              "      <td>False</td>\n",
              "      <td>True</td>\n",
              "      <td>True</td>\n",
              "      <td>False</td>\n",
              "      <td>True</td>\n",
              "      <td>False</td>\n",
              "    </tr>\n",
              "    <tr>\n",
              "      <th>1003313398</th>\n",
              "      <td>False</td>\n",
              "      <td>False</td>\n",
              "      <td>True</td>\n",
              "      <td>False</td>\n",
              "      <td>True</td>\n",
              "      <td>False</td>\n",
              "      <td>False</td>\n",
              "      <td>False</td>\n",
              "      <td>True</td>\n",
              "      <td>True</td>\n",
              "      <td>...</td>\n",
              "      <td>False</td>\n",
              "      <td>False</td>\n",
              "      <td>False</td>\n",
              "      <td>True</td>\n",
              "      <td>True</td>\n",
              "      <td>True</td>\n",
              "      <td>True</td>\n",
              "      <td>False</td>\n",
              "      <td>True</td>\n",
              "      <td>False</td>\n",
              "    </tr>\n",
              "    <tr>\n",
              "      <th>1003321825</th>\n",
              "      <td>False</td>\n",
              "      <td>False</td>\n",
              "      <td>True</td>\n",
              "      <td>False</td>\n",
              "      <td>False</td>\n",
              "      <td>False</td>\n",
              "      <td>False</td>\n",
              "      <td>False</td>\n",
              "      <td>True</td>\n",
              "      <td>True</td>\n",
              "      <td>...</td>\n",
              "      <td>False</td>\n",
              "      <td>False</td>\n",
              "      <td>False</td>\n",
              "      <td>False</td>\n",
              "      <td>True</td>\n",
              "      <td>True</td>\n",
              "      <td>True</td>\n",
              "      <td>False</td>\n",
              "      <td>False</td>\n",
              "      <td>False</td>\n",
              "    </tr>\n",
              "    <tr>\n",
              "      <th>1003336938</th>\n",
              "      <td>False</td>\n",
              "      <td>False</td>\n",
              "      <td>True</td>\n",
              "      <td>True</td>\n",
              "      <td>True</td>\n",
              "      <td>True</td>\n",
              "      <td>True</td>\n",
              "      <td>False</td>\n",
              "      <td>True</td>\n",
              "      <td>False</td>\n",
              "      <td>...</td>\n",
              "      <td>True</td>\n",
              "      <td>True</td>\n",
              "      <td>False</td>\n",
              "      <td>True</td>\n",
              "      <td>False</td>\n",
              "      <td>True</td>\n",
              "      <td>True</td>\n",
              "      <td>True</td>\n",
              "      <td>False</td>\n",
              "      <td>False</td>\n",
              "    </tr>\n",
              "  </tbody>\n",
              "</table>\n",
              "<p>4435 rows × 41930 columns</p>\n",
              "</div>\n",
              "    <div class=\"colab-df-buttons\">\n",
              "\n",
              "  <div class=\"colab-df-container\">\n",
              "    <button class=\"colab-df-convert\" onclick=\"convertToInteractive('df-c6809a35-5177-4536-8359-f920a2954673')\"\n",
              "            title=\"Convert this dataframe to an interactive table.\"\n",
              "            style=\"display:none;\">\n",
              "\n",
              "  <svg xmlns=\"http://www.w3.org/2000/svg\" height=\"24px\" viewBox=\"0 -960 960 960\">\n",
              "    <path d=\"M120-120v-720h720v720H120Zm60-500h600v-160H180v160Zm220 220h160v-160H400v160Zm0 220h160v-160H400v160ZM180-400h160v-160H180v160Zm440 0h160v-160H620v160ZM180-180h160v-160H180v160Zm440 0h160v-160H620v160Z\"/>\n",
              "  </svg>\n",
              "    </button>\n",
              "\n",
              "  <style>\n",
              "    .colab-df-container {\n",
              "      display:flex;\n",
              "      gap: 12px;\n",
              "    }\n",
              "\n",
              "    .colab-df-convert {\n",
              "      background-color: #E8F0FE;\n",
              "      border: none;\n",
              "      border-radius: 50%;\n",
              "      cursor: pointer;\n",
              "      display: none;\n",
              "      fill: #1967D2;\n",
              "      height: 32px;\n",
              "      padding: 0 0 0 0;\n",
              "      width: 32px;\n",
              "    }\n",
              "\n",
              "    .colab-df-convert:hover {\n",
              "      background-color: #E2EBFA;\n",
              "      box-shadow: 0px 1px 2px rgba(60, 64, 67, 0.3), 0px 1px 3px 1px rgba(60, 64, 67, 0.15);\n",
              "      fill: #174EA6;\n",
              "    }\n",
              "\n",
              "    .colab-df-buttons div {\n",
              "      margin-bottom: 4px;\n",
              "    }\n",
              "\n",
              "    [theme=dark] .colab-df-convert {\n",
              "      background-color: #3B4455;\n",
              "      fill: #D2E3FC;\n",
              "    }\n",
              "\n",
              "    [theme=dark] .colab-df-convert:hover {\n",
              "      background-color: #434B5C;\n",
              "      box-shadow: 0px 1px 3px 1px rgba(0, 0, 0, 0.15);\n",
              "      filter: drop-shadow(0px 1px 2px rgba(0, 0, 0, 0.3));\n",
              "      fill: #FFFFFF;\n",
              "    }\n",
              "  </style>\n",
              "\n",
              "    <script>\n",
              "      const buttonEl =\n",
              "        document.querySelector('#df-c6809a35-5177-4536-8359-f920a2954673 button.colab-df-convert');\n",
              "      buttonEl.style.display =\n",
              "        google.colab.kernel.accessAllowed ? 'block' : 'none';\n",
              "\n",
              "      async function convertToInteractive(key) {\n",
              "        const element = document.querySelector('#df-c6809a35-5177-4536-8359-f920a2954673');\n",
              "        const dataTable =\n",
              "          await google.colab.kernel.invokeFunction('convertToInteractive',\n",
              "                                                    [key], {});\n",
              "        if (!dataTable) return;\n",
              "\n",
              "        const docLinkHtml = 'Like what you see? Visit the ' +\n",
              "          '<a target=\"_blank\" href=https://colab.research.google.com/notebooks/data_table.ipynb>data table notebook</a>'\n",
              "          + ' to learn more about interactive tables.';\n",
              "        element.innerHTML = '';\n",
              "        dataTable['output_type'] = 'display_data';\n",
              "        await google.colab.output.renderOutput(dataTable, element);\n",
              "        const docLink = document.createElement('div');\n",
              "        docLink.innerHTML = docLinkHtml;\n",
              "        element.appendChild(docLink);\n",
              "      }\n",
              "    </script>\n",
              "  </div>\n",
              "\n",
              "\n",
              "    <div id=\"df-9d58e73a-973d-4c44-97b6-676f7c7e8344\">\n",
              "      <button class=\"colab-df-quickchart\" onclick=\"quickchart('df-9d58e73a-973d-4c44-97b6-676f7c7e8344')\"\n",
              "                title=\"Suggest charts\"\n",
              "                style=\"display:none;\">\n",
              "\n",
              "<svg xmlns=\"http://www.w3.org/2000/svg\" height=\"24px\"viewBox=\"0 0 24 24\"\n",
              "     width=\"24px\">\n",
              "    <g>\n",
              "        <path d=\"M19 3H5c-1.1 0-2 .9-2 2v14c0 1.1.9 2 2 2h14c1.1 0 2-.9 2-2V5c0-1.1-.9-2-2-2zM9 17H7v-7h2v7zm4 0h-2V7h2v10zm4 0h-2v-4h2v4z\"/>\n",
              "    </g>\n",
              "</svg>\n",
              "      </button>\n",
              "\n",
              "<style>\n",
              "  .colab-df-quickchart {\n",
              "      --bg-color: #E8F0FE;\n",
              "      --fill-color: #1967D2;\n",
              "      --hover-bg-color: #E2EBFA;\n",
              "      --hover-fill-color: #174EA6;\n",
              "      --disabled-fill-color: #AAA;\n",
              "      --disabled-bg-color: #DDD;\n",
              "  }\n",
              "\n",
              "  [theme=dark] .colab-df-quickchart {\n",
              "      --bg-color: #3B4455;\n",
              "      --fill-color: #D2E3FC;\n",
              "      --hover-bg-color: #434B5C;\n",
              "      --hover-fill-color: #FFFFFF;\n",
              "      --disabled-bg-color: #3B4455;\n",
              "      --disabled-fill-color: #666;\n",
              "  }\n",
              "\n",
              "  .colab-df-quickchart {\n",
              "    background-color: var(--bg-color);\n",
              "    border: none;\n",
              "    border-radius: 50%;\n",
              "    cursor: pointer;\n",
              "    display: none;\n",
              "    fill: var(--fill-color);\n",
              "    height: 32px;\n",
              "    padding: 0;\n",
              "    width: 32px;\n",
              "  }\n",
              "\n",
              "  .colab-df-quickchart:hover {\n",
              "    background-color: var(--hover-bg-color);\n",
              "    box-shadow: 0 1px 2px rgba(60, 64, 67, 0.3), 0 1px 3px 1px rgba(60, 64, 67, 0.15);\n",
              "    fill: var(--button-hover-fill-color);\n",
              "  }\n",
              "\n",
              "  .colab-df-quickchart-complete:disabled,\n",
              "  .colab-df-quickchart-complete:disabled:hover {\n",
              "    background-color: var(--disabled-bg-color);\n",
              "    fill: var(--disabled-fill-color);\n",
              "    box-shadow: none;\n",
              "  }\n",
              "\n",
              "  .colab-df-spinner {\n",
              "    border: 2px solid var(--fill-color);\n",
              "    border-color: transparent;\n",
              "    border-bottom-color: var(--fill-color);\n",
              "    animation:\n",
              "      spin 1s steps(1) infinite;\n",
              "  }\n",
              "\n",
              "  @keyframes spin {\n",
              "    0% {\n",
              "      border-color: transparent;\n",
              "      border-bottom-color: var(--fill-color);\n",
              "      border-left-color: var(--fill-color);\n",
              "    }\n",
              "    20% {\n",
              "      border-color: transparent;\n",
              "      border-left-color: var(--fill-color);\n",
              "      border-top-color: var(--fill-color);\n",
              "    }\n",
              "    30% {\n",
              "      border-color: transparent;\n",
              "      border-left-color: var(--fill-color);\n",
              "      border-top-color: var(--fill-color);\n",
              "      border-right-color: var(--fill-color);\n",
              "    }\n",
              "    40% {\n",
              "      border-color: transparent;\n",
              "      border-right-color: var(--fill-color);\n",
              "      border-top-color: var(--fill-color);\n",
              "    }\n",
              "    60% {\n",
              "      border-color: transparent;\n",
              "      border-right-color: var(--fill-color);\n",
              "    }\n",
              "    80% {\n",
              "      border-color: transparent;\n",
              "      border-right-color: var(--fill-color);\n",
              "      border-bottom-color: var(--fill-color);\n",
              "    }\n",
              "    90% {\n",
              "      border-color: transparent;\n",
              "      border-bottom-color: var(--fill-color);\n",
              "    }\n",
              "  }\n",
              "</style>\n",
              "\n",
              "      <script>\n",
              "        async function quickchart(key) {\n",
              "          const quickchartButtonEl =\n",
              "            document.querySelector('#' + key + ' button');\n",
              "          quickchartButtonEl.disabled = true;  // To prevent multiple clicks.\n",
              "          quickchartButtonEl.classList.add('colab-df-spinner');\n",
              "          try {\n",
              "            const charts = await google.colab.kernel.invokeFunction(\n",
              "                'suggestCharts', [key], {});\n",
              "          } catch (error) {\n",
              "            console.error('Error during call to suggestCharts:', error);\n",
              "          }\n",
              "          quickchartButtonEl.classList.remove('colab-df-spinner');\n",
              "          quickchartButtonEl.classList.add('colab-df-quickchart-complete');\n",
              "        }\n",
              "        (() => {\n",
              "          let quickchartButtonEl =\n",
              "            document.querySelector('#df-9d58e73a-973d-4c44-97b6-676f7c7e8344 button');\n",
              "          quickchartButtonEl.style.display =\n",
              "            google.colab.kernel.accessAllowed ? 'block' : 'none';\n",
              "        })();\n",
              "      </script>\n",
              "    </div>\n",
              "\n",
              "    </div>\n",
              "  </div>\n"
            ],
            "application/vnd.google.colaboratory.intrinsic+json": {
              "type": "dataframe"
            }
          },
          "metadata": {},
          "execution_count": 43
        }
      ]
    },
    {
      "cell_type": "markdown",
      "source": [
        "Create a dataframe with the number of cells where each gene occurs:"
      ],
      "metadata": {
        "id": "nQXTRWpxhDXa"
      }
    },
    {
      "cell_type": "code",
      "source": [
        "# Sum up the numnber of nonzero counts for each gene\n",
        "gene_frequencies = (rna_data != 0).sum().sort_values(ascending=False)\n",
        "gene_frequencies.head(20)"
      ],
      "metadata": {
        "colab": {
          "base_uri": "https://localhost:8080/",
          "height": 743
        },
        "id": "SQWspdRxgQ-e",
        "outputId": "da02f3d9-0d90-4a9d-cd4d-c918da832aef"
      },
      "execution_count": 50,
      "outputs": [
        {
          "output_type": "execute_result",
          "data": {
            "text/plain": [
              "sample_id\n",
              "Snap25          4435\n",
              "Malat1          4435\n",
              "LOC105246107    4435\n",
              "Rnr2            4435\n",
              "Camk1d          4435\n",
              "Jarid2          4435\n",
              "Rn18s-rs5       4435\n",
              "Calm1           4435\n",
              "Lars2           4435\n",
              "Gphn            4435\n",
              "Zc3h7a          4435\n",
              "Gm36876         4434\n",
              "Rnr1            4434\n",
              "Cdk8            4434\n",
              "Robo1           4433\n",
              "Calm2           4433\n",
              "Gm30821         4433\n",
              "Eif4g3          4433\n",
              "Atxn1           4432\n",
              "Hsp90ab1        4432\n",
              "dtype: int64"
            ],
            "text/html": [
              "<div>\n",
              "<style scoped>\n",
              "    .dataframe tbody tr th:only-of-type {\n",
              "        vertical-align: middle;\n",
              "    }\n",
              "\n",
              "    .dataframe tbody tr th {\n",
              "        vertical-align: top;\n",
              "    }\n",
              "\n",
              "    .dataframe thead th {\n",
              "        text-align: right;\n",
              "    }\n",
              "</style>\n",
              "<table border=\"1\" class=\"dataframe\">\n",
              "  <thead>\n",
              "    <tr style=\"text-align: right;\">\n",
              "      <th></th>\n",
              "      <th>0</th>\n",
              "    </tr>\n",
              "    <tr>\n",
              "      <th>sample_id</th>\n",
              "      <th></th>\n",
              "    </tr>\n",
              "  </thead>\n",
              "  <tbody>\n",
              "    <tr>\n",
              "      <th>Snap25</th>\n",
              "      <td>4435</td>\n",
              "    </tr>\n",
              "    <tr>\n",
              "      <th>Malat1</th>\n",
              "      <td>4435</td>\n",
              "    </tr>\n",
              "    <tr>\n",
              "      <th>LOC105246107</th>\n",
              "      <td>4435</td>\n",
              "    </tr>\n",
              "    <tr>\n",
              "      <th>Rnr2</th>\n",
              "      <td>4435</td>\n",
              "    </tr>\n",
              "    <tr>\n",
              "      <th>Camk1d</th>\n",
              "      <td>4435</td>\n",
              "    </tr>\n",
              "    <tr>\n",
              "      <th>Jarid2</th>\n",
              "      <td>4435</td>\n",
              "    </tr>\n",
              "    <tr>\n",
              "      <th>Rn18s-rs5</th>\n",
              "      <td>4435</td>\n",
              "    </tr>\n",
              "    <tr>\n",
              "      <th>Calm1</th>\n",
              "      <td>4435</td>\n",
              "    </tr>\n",
              "    <tr>\n",
              "      <th>Lars2</th>\n",
              "      <td>4435</td>\n",
              "    </tr>\n",
              "    <tr>\n",
              "      <th>Gphn</th>\n",
              "      <td>4435</td>\n",
              "    </tr>\n",
              "    <tr>\n",
              "      <th>Zc3h7a</th>\n",
              "      <td>4435</td>\n",
              "    </tr>\n",
              "    <tr>\n",
              "      <th>Gm36876</th>\n",
              "      <td>4434</td>\n",
              "    </tr>\n",
              "    <tr>\n",
              "      <th>Rnr1</th>\n",
              "      <td>4434</td>\n",
              "    </tr>\n",
              "    <tr>\n",
              "      <th>Cdk8</th>\n",
              "      <td>4434</td>\n",
              "    </tr>\n",
              "    <tr>\n",
              "      <th>Robo1</th>\n",
              "      <td>4433</td>\n",
              "    </tr>\n",
              "    <tr>\n",
              "      <th>Calm2</th>\n",
              "      <td>4433</td>\n",
              "    </tr>\n",
              "    <tr>\n",
              "      <th>Gm30821</th>\n",
              "      <td>4433</td>\n",
              "    </tr>\n",
              "    <tr>\n",
              "      <th>Eif4g3</th>\n",
              "      <td>4433</td>\n",
              "    </tr>\n",
              "    <tr>\n",
              "      <th>Atxn1</th>\n",
              "      <td>4432</td>\n",
              "    </tr>\n",
              "    <tr>\n",
              "      <th>Hsp90ab1</th>\n",
              "      <td>4432</td>\n",
              "    </tr>\n",
              "  </tbody>\n",
              "</table>\n",
              "</div><br><label><b>dtype:</b> int64</label>"
            ]
          },
          "metadata": {},
          "execution_count": 50
        }
      ]
    },
    {
      "cell_type": "markdown",
      "source": [
        "We can see that there are several genes (ex: Snap25, Malat1, etc)\n",
        "\n",
        "* Snap25 - pre-synaptic membrane protein that regulates neurotransmitter release, needed to communicate\n",
        "* Malat1 - non-coding, downregulation associated with disease(??), cancers (less Malat1 -> more disease). Plays role in synapse density (how would we measure that?)\n",
        "* LOC105246107 - ??? Probably something that's uknown, arbitrary(?) label assigned- let's try to look at the dataset documentation\n",
        "* Rnr2 - RNA component of ribosome (45S) - makes sense that it would be present\n",
        "* Camk1d - Codes for proteins that rely on calcium, cal-modulin; supports breast cancer, supresses diabetes\n",
        "* Jarid2 - Transcription regulator - represses transcription; seen in embryonic development, highly expressed in bone marrow and intestines"
      ],
      "metadata": {
        "id": "UHZ0w5VdhltV"
      }
    },
    {
      "cell_type": "code",
      "source": [
        "sns.boxplot(x=gene_frequencies / rna_data.shape[0])"
      ],
      "metadata": {
        "colab": {
          "base_uri": "https://localhost:8080/",
          "height": 467
        },
        "id": "8XsXF6gjlrkF",
        "outputId": "2d48796e-9b5e-4381-bea0-68bf2d84d189"
      },
      "execution_count": 52,
      "outputs": [
        {
          "output_type": "execute_result",
          "data": {
            "text/plain": [
              "<Axes: xlabel='None'>"
            ]
          },
          "metadata": {},
          "execution_count": 52
        },
        {
          "output_type": "display_data",
          "data": {
            "text/plain": [
              "<Figure size 640x480 with 1 Axes>"
            ],
            "image/png": "[encoded data removed]"
          },
          "metadata": {}
        }
      ]
    },
    {
      "cell_type": "code",
      "source": [
        "sns.histplot(x=gene_frequencies)"
      ],
      "metadata": {
        "colab": {
          "base_uri": "https://localhost:8080/",
          "height": 467
        },
        "id": "lXWhuMIil_lD",
        "outputId": "a1d97f32-7392-4728-a468-94b8bdd3a1a0"
      },
      "execution_count": 54,
      "outputs": [
        {
          "output_type": "execute_result",
          "data": {
            "text/plain": [
              "<Axes: xlabel='None', ylabel='Count'>"
            ]
          },
          "metadata": {},
          "execution_count": 54
        },
        {
          "output_type": "display_data",
          "data": {
            "text/plain": [
              "<Figure size 640x480 with 1 Axes>"
            ],
            "image/png": "[encoded data removed]"
          },
          "metadata": {}
        }
      ]
    },
    {
      "cell_type": "markdown",
      "source": [
        "Genes that are expressed in all / almost all cells are outliers"
      ],
      "metadata": {
        "id": "102z3TS0mHmJ"
      }
    },
    {
      "cell_type": "markdown",
      "source": [
        "### Is the abundance of Snap25 similar across cells?"
      ],
      "metadata": {
        "id": "UcLJfhSRmZrY"
      }
    },
    {
      "cell_type": "code",
      "source": [
        "# Get a dataframe with all the gene counts we're interested in\n",
        "gene_counts = rna_data[['Snap25', 'Rnr2']]"
      ],
      "metadata": {
        "id": "-WAnJH_YgvV7"
      },
      "execution_count": 67,
      "outputs": []
    },
    {
      "cell_type": "code",
      "source": [
        "gene_counts.describe()"
      ],
      "metadata": {
        "colab": {
          "base_uri": "https://localhost:8080/",
          "height": 300
        },
        "id": "r8hg7MiBnDyo",
        "outputId": "2f4242a6-5a1a-46a2-80c2-eebcaa0e1021"
      },
      "execution_count": 68,
      "outputs": [
        {
          "output_type": "execute_result",
          "data": {
            "text/plain": [
              "sample_id        Snap25          Rnr2\n",
              "count       4435.000000   4435.000000\n",
              "mean        1571.982650   5237.057207\n",
              "std          970.930225   6886.385126\n",
              "min            1.253335    135.353653\n",
              "25%          957.676767   1561.375499\n",
              "50%         1361.095932   3040.956366\n",
              "75%         1916.486170   6225.142591\n",
              "max        11177.505321  94166.156139"
            ],
            "text/html": [
              "\n",
              "  <div id=\"df-13145db4-050f-41c0-8cb1-54d5c72792a8\" class=\"colab-df-container\">\n",
              "    <div>\n",
              "<style scoped>\n",
              "    .dataframe tbody tr th:only-of-type {\n",
              "        vertical-align: middle;\n",
              "    }\n",
              "\n",
              "    .dataframe tbody tr th {\n",
              "        vertical-align: top;\n",
              "    }\n",
              "\n",
              "    .dataframe thead th {\n",
              "        text-align: right;\n",
              "    }\n",
              "</style>\n",
              "<table border=\"1\" class=\"dataframe\">\n",
              "  <thead>\n",
              "    <tr style=\"text-align: right;\">\n",
              "      <th>sample_id</th>\n",
              "      <th>Snap25</th>\n",
              "      <th>Rnr2</th>\n",
              "    </tr>\n",
              "  </thead>\n",
              "  <tbody>\n",
              "    <tr>\n",
              "      <th>count</th>\n",
              "      <td>4435.000000</td>\n",
              "      <td>4435.000000</td>\n",
              "    </tr>\n",
              "    <tr>\n",
              "      <th>mean</th>\n",
              "      <td>1571.982650</td>\n",
              "      <td>5237.057207</td>\n",
              "    </tr>\n",
              "    <tr>\n",
              "      <th>std</th>\n",
              "      <td>970.930225</td>\n",
              "      <td>6886.385126</td>\n",
              "    </tr>\n",
              "    <tr>\n",
              "      <th>min</th>\n",
              "      <td>1.253335</td>\n",
              "      <td>135.353653</td>\n",
              "    </tr>\n",
              "    <tr>\n",
              "      <th>25%</th>\n",
              "      <td>957.676767</td>\n",
              "      <td>1561.375499</td>\n",
              "    </tr>\n",
              "    <tr>\n",
              "      <th>50%</th>\n",
              "      <td>1361.095932</td>\n",
              "      <td>3040.956366</td>\n",
              "    </tr>\n",
              "    <tr>\n",
              "      <th>75%</th>\n",
              "      <td>1916.486170</td>\n",
              "      <td>6225.142591</td>\n",
              "    </tr>\n",
              "    <tr>\n",
              "      <th>max</th>\n",
              "      <td>11177.505321</td>\n",
              "      <td>94166.156139</td>\n",
              "    </tr>\n",
              "  </tbody>\n",
              "</table>\n",
              "</div>\n",
              "    <div class=\"colab-df-buttons\">\n",
              "\n",
              "  <div class=\"colab-df-container\">\n",
              "    <button class=\"colab-df-convert\" onclick=\"convertToInteractive('df-13145db4-050f-41c0-8cb1-54d5c72792a8')\"\n",
              "            title=\"Convert this dataframe to an interactive table.\"\n",
              "            style=\"display:none;\">\n",
              "\n",
              "  <svg xmlns=\"http://www.w3.org/2000/svg\" height=\"24px\" viewBox=\"0 -960 960 960\">\n",
              "    <path d=\"M120-120v-720h720v720H120Zm60-500h600v-160H180v160Zm220 220h160v-160H400v160Zm0 220h160v-160H400v160ZM180-400h160v-160H180v160Zm440 0h160v-160H620v160ZM180-180h160v-160H180v160Zm440 0h160v-160H620v160Z\"/>\n",
              "  </svg>\n",
              "    </button>\n",
              "\n",
              "  <style>\n",
              "    .colab-df-container {\n",
              "      display:flex;\n",
              "      gap: 12px;\n",
              "    }\n",
              "\n",
              "    .colab-df-convert {\n",
              "      background-color: #E8F0FE;\n",
              "      border: none;\n",
              "      border-radius: 50%;\n",
              "      cursor: pointer;\n",
              "      display: none;\n",
              "      fill: #1967D2;\n",
              "      height: 32px;\n",
              "      padding: 0 0 0 0;\n",
              "      width: 32px;\n",
              "    }\n",
              "\n",
              "    .colab-df-convert:hover {\n",
              "      background-color: #E2EBFA;\n",
              "      box-shadow: 0px 1px 2px rgba(60, 64, 67, 0.3), 0px 1px 3px 1px rgba(60, 64, 67, 0.15);\n",
              "      fill: #174EA6;\n",
              "    }\n",
              "\n",
              "    .colab-df-buttons div {\n",
              "      margin-bottom: 4px;\n",
              "    }\n",
              "\n",
              "    [theme=dark] .colab-df-convert {\n",
              "      background-color: #3B4455;\n",
              "      fill: #D2E3FC;\n",
              "    }\n",
              "\n",
              "    [theme=dark] .colab-df-convert:hover {\n",
              "      background-color: #434B5C;\n",
              "      box-shadow: 0px 1px 3px 1px rgba(0, 0, 0, 0.15);\n",
              "      filter: drop-shadow(0px 1px 2px rgba(0, 0, 0, 0.3));\n",
              "      fill: #FFFFFF;\n",
              "    }\n",
              "  </style>\n",
              "\n",
              "    <script>\n",
              "      const buttonEl =\n",
              "        document.querySelector('#df-13145db4-050f-41c0-8cb1-54d5c72792a8 button.colab-df-convert');\n",
              "      buttonEl.style.display =\n",
              "        google.colab.kernel.accessAllowed ? 'block' : 'none';\n",
              "\n",
              "      async function convertToInteractive(key) {\n",
              "        const element = document.querySelector('#df-13145db4-050f-41c0-8cb1-54d5c72792a8');\n",
              "        const dataTable =\n",
              "          await google.colab.kernel.invokeFunction('convertToInteractive',\n",
              "                                                    [key], {});\n",
              "        if (!dataTable) return;\n",
              "\n",
              "        const docLinkHtml = 'Like what you see? Visit the ' +\n",
              "          '<a target=\"_blank\" href=https://colab.research.google.com/notebooks/data_table.ipynb>data table notebook</a>'\n",
              "          + ' to learn more about interactive tables.';\n",
              "        element.innerHTML = '';\n",
              "        dataTable['output_type'] = 'display_data';\n",
              "        await google.colab.output.renderOutput(dataTable, element);\n",
              "        const docLink = document.createElement('div');\n",
              "        docLink.innerHTML = docLinkHtml;\n",
              "        element.appendChild(docLink);\n",
              "      }\n",
              "    </script>\n",
              "  </div>\n",
              "\n",
              "\n",
              "    <div id=\"df-af6e6272-ab44-458c-8803-db9d21d4dc3c\">\n",
              "      <button class=\"colab-df-quickchart\" onclick=\"quickchart('df-af6e6272-ab44-458c-8803-db9d21d4dc3c')\"\n",
              "                title=\"Suggest charts\"\n",
              "                style=\"display:none;\">\n",
              "\n",
              "<svg xmlns=\"http://www.w3.org/2000/svg\" height=\"24px\"viewBox=\"0 0 24 24\"\n",
              "     width=\"24px\">\n",
              "    <g>\n",
              "        <path d=\"M19 3H5c-1.1 0-2 .9-2 2v14c0 1.1.9 2 2 2h14c1.1 0 2-.9 2-2V5c0-1.1-.9-2-2-2zM9 17H7v-7h2v7zm4 0h-2V7h2v10zm4 0h-2v-4h2v4z\"/>\n",
              "    </g>\n",
              "</svg>\n",
              "      </button>\n",
              "\n",
              "<style>\n",
              "  .colab-df-quickchart {\n",
              "      --bg-color: #E8F0FE;\n",
              "      --fill-color: #1967D2;\n",
              "      --hover-bg-color: #E2EBFA;\n",
              "      --hover-fill-color: #174EA6;\n",
              "      --disabled-fill-color: #AAA;\n",
              "      --disabled-bg-color: #DDD;\n",
              "  }\n",
              "\n",
              "  [theme=dark] .colab-df-quickchart {\n",
              "      --bg-color: #3B4455;\n",
              "      --fill-color: #D2E3FC;\n",
              "      --hover-bg-color: #434B5C;\n",
              "      --hover-fill-color: #FFFFFF;\n",
              "      --disabled-bg-color: #3B4455;\n",
              "      --disabled-fill-color: #666;\n",
              "  }\n",
              "\n",
              "  .colab-df-quickchart {\n",
              "    background-color: var(--bg-color);\n",
              "    border: none;\n",
              "    border-radius: 50%;\n",
              "    cursor: pointer;\n",
              "    display: none;\n",
              "    fill: var(--fill-color);\n",
              "    height: 32px;\n",
              "    padding: 0;\n",
              "    width: 32px;\n",
              "  }\n",
              "\n",
              "  .colab-df-quickchart:hover {\n",
              "    background-color: var(--hover-bg-color);\n",
              "    box-shadow: 0 1px 2px rgba(60, 64, 67, 0.3), 0 1px 3px 1px rgba(60, 64, 67, 0.15);\n",
              "    fill: var(--button-hover-fill-color);\n",
              "  }\n",
              "\n",
              "  .colab-df-quickchart-complete:disabled,\n",
              "  .colab-df-quickchart-complete:disabled:hover {\n",
              "    background-color: var(--disabled-bg-color);\n",
              "    fill: var(--disabled-fill-color);\n",
              "    box-shadow: none;\n",
              "  }\n",
              "\n",
              "  .colab-df-spinner {\n",
              "    border: 2px solid var(--fill-color);\n",
              "    border-color: transparent;\n",
              "    border-bottom-color: var(--fill-color);\n",
              "    animation:\n",
              "      spin 1s steps(1) infinite;\n",
              "  }\n",
              "\n",
              "  @keyframes spin {\n",
              "    0% {\n",
              "      border-color: transparent;\n",
              "      border-bottom-color: var(--fill-color);\n",
              "      border-left-color: var(--fill-color);\n",
              "    }\n",
              "    20% {\n",
              "      border-color: transparent;\n",
              "      border-left-color: var(--fill-color);\n",
              "      border-top-color: var(--fill-color);\n",
              "    }\n",
              "    30% {\n",
              "      border-color: transparent;\n",
              "      border-left-color: var(--fill-color);\n",
              "      border-top-color: var(--fill-color);\n",
              "      border-right-color: var(--fill-color);\n",
              "    }\n",
              "    40% {\n",
              "      border-color: transparent;\n",
              "      border-right-color: var(--fill-color);\n",
              "      border-top-color: var(--fill-color);\n",
              "    }\n",
              "    60% {\n",
              "      border-color: transparent;\n",
              "      border-right-color: var(--fill-color);\n",
              "    }\n",
              "    80% {\n",
              "      border-color: transparent;\n",
              "      border-right-color: var(--fill-color);\n",
              "      border-bottom-color: var(--fill-color);\n",
              "    }\n",
              "    90% {\n",
              "      border-color: transparent;\n",
              "      border-bottom-color: var(--fill-color);\n",
              "    }\n",
              "  }\n",
              "</style>\n",
              "\n",
              "      <script>\n",
              "        async function quickchart(key) {\n",
              "          const quickchartButtonEl =\n",
              "            document.querySelector('#' + key + ' button');\n",
              "          quickchartButtonEl.disabled = true;  // To prevent multiple clicks.\n",
              "          quickchartButtonEl.classList.add('colab-df-spinner');\n",
              "          try {\n",
              "            const charts = await google.colab.kernel.invokeFunction(\n",
              "                'suggestCharts', [key], {});\n",
              "          } catch (error) {\n",
              "            console.error('Error during call to suggestCharts:', error);\n",
              "          }\n",
              "          quickchartButtonEl.classList.remove('colab-df-spinner');\n",
              "          quickchartButtonEl.classList.add('colab-df-quickchart-complete');\n",
              "        }\n",
              "        (() => {\n",
              "          let quickchartButtonEl =\n",
              "            document.querySelector('#df-af6e6272-ab44-458c-8803-db9d21d4dc3c button');\n",
              "          quickchartButtonEl.style.display =\n",
              "            google.colab.kernel.accessAllowed ? 'block' : 'none';\n",
              "        })();\n",
              "      </script>\n",
              "    </div>\n",
              "\n",
              "    </div>\n",
              "  </div>\n"
            ],
            "application/vnd.google.colaboratory.intrinsic+json": {
              "type": "dataframe",
              "summary": "{\n  \"name\": \"gene_counts\",\n  \"rows\": 8,\n  \"fields\": [\n    {\n      \"column\": \"Snap25\",\n      \"properties\": {\n        \"dtype\": \"number\",\n        \"std\": 3621.118898028799,\n        \"min\": 1.25333543893687,\n        \"max\": 11177.5053212924,\n        \"num_unique_values\": 8,\n        \"samples\": [\n          1571.9826503056047,\n          1361.09593225979,\n          4435.0\n        ],\n        \"semantic_type\": \"\",\n        \"description\": \"\"\n      }\n    },\n    {\n      \"column\": \"Rnr2\",\n      \"properties\": {\n        \"dtype\": \"number\",\n        \"std\": 31984.953073552348,\n        \"min\": 135.353653467416,\n        \"max\": 94166.1561394544,\n        \"num_unique_values\": 8,\n        \"samples\": [\n          5237.057207165495,\n          3040.95636589127,\n          4435.0\n        ],\n        \"semantic_type\": \"\",\n        \"description\": \"\"\n      }\n    }\n  ]\n}"
            }
          },
          "metadata": {},
          "execution_count": 68
        }
      ]
    },
    {
      "cell_type": "code",
      "source": [
        "gene_counts.boxplot()"
      ],
      "metadata": {
        "colab": {
          "base_uri": "https://localhost:8080/",
          "height": 448
        },
        "id": "RjROv7YdnlP8",
        "outputId": "114a2a76-88fc-4127-dd3c-4c64276c3059"
      },
      "execution_count": 69,
      "outputs": [
        {
          "output_type": "execute_result",
          "data": {
            "text/plain": [
              "<Axes: >"
            ]
          },
          "metadata": {},
          "execution_count": 69
        },
        {
          "output_type": "display_data",
          "data": {
            "text/plain": [
              "<Figure size 640x480 with 1 Axes>"
            ],
            "image/png": "[encoded data removed]"
          },
          "metadata": {}
        }
      ]
    },
    {
      "cell_type": "markdown",
      "source": [
        "Rnr2 tends to have much higher counts overall."
      ],
      "metadata": {
        "id": "XOkcWmA2nyVt"
      }
    },
    {
      "cell_type": "code",
      "source": [],
      "metadata": {
        "id": "jIAn0KyW1-Ey"
      },
      "execution_count": null,
      "outputs": []
    }
  ]
}