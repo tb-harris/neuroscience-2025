{
  "nbformat": 4,
  "nbformat_minor": 0,
  "metadata": {
    "colab": {
      "provenance": [],
      "include_colab_link": true
    },
    "kernelspec": {
      "name": "python3",
      "display_name": "Python 3"
    },
    "language_info": {
      "name": "python"
    }
  },
  "cells": [
    {
      "cell_type": "markdown",
      "metadata": {
        "id": "view-in-github",
        "colab_type": "text"
      },
      "source": [
        "<a href=\"https://colab.research.google.com/github/tb-harris/neuroscience-2025/blob/main/8_Lin_Reg_Starter_Code.ipynb\" target=\"_parent\"><img src=\"https://colab.research.google.com/assets/colab-badge.svg\" alt=\"Open In Colab\"/></a>"
      ]
    },
    {
      "cell_type": "markdown",
      "source": [
        "# Setup"
      ],
      "metadata": {
        "id": "uBweTbbpaxZx"
      }
    },
    {
      "cell_type": "markdown",
      "source": [
        "### Imports"
      ],
      "metadata": {
        "id": "1rcfbqGhbajb"
      }
    },
    {
      "cell_type": "code",
      "execution_count": null,
      "metadata": {
        "id": "zh4poWTAaqPW"
      },
      "outputs": [],
      "source": [
        "import pandas as pd # pandas (DataFrames)\n",
        "import seaborn as sns # graphs\n",
        "import statsmodels.formula.api as smf # regression models\n",
        "# installing and importing the custom diagnostics module\n",
        "%pip install git+https://github.com/tb-harris/diagnostics.git\n",
        "from diagnostics import LinearRegDiagnostic"
      ]
    },
    {
      "cell_type": "code",
      "source": [
        "# mount Google Drive\n",
        "from google.colab import drive\n",
        "drive.mount('/content/drive')"
      ],
      "metadata": {
        "colab": {
          "base_uri": "https://localhost:8080/"
        },
        "id": "r9Yucg5bau47",
        "outputId": "dc618562-00a9-4f56-d11c-dd9a6b89f6f8"
      },
      "execution_count": null,
      "outputs": [
        {
          "output_type": "stream",
          "name": "stdout",
          "text": [
            "Mounted at /content/drive\n"
          ]
        }
      ]
    },
    {
      "cell_type": "markdown",
      "source": [
        "### Read in our data"
      ],
      "metadata": {
        "id": "-1eCutGja234"
      }
    },
    {
      "cell_type": "code",
      "source": [
        "cell_metadata = pd.read_csv(\"/content/drive/Shareddrives/Lisman Laboratory/Lisman 2025/Neuroscience 2025/Data/20200711_patchseq_metadata_mouse.csv\", index_col=\"cell_specimen_id\")\n",
        "\n",
        "rna_data = pd.read_hdf(\"/content/drive/Shareddrives/Lisman Laboratory/Lisman 2025/Neuroscience 2025/Data/gene_counts_ppm.hdf5.lz4\")\n",
        "\n",
        "morph_additional = pd.read_csv(\n",
        "    \"/content/drive/Shareddrives/Lisman Laboratory/Lisman 2025/Neuroscience 2025/Data/morph_features_expanded.csv\",\n",
        "    index_col=\"cell_specimen_id\"\n",
        ")\n",
        "\n",
        "morph_positional = pd.read_csv(\n",
        "    \"/content/drive/Shareddrives/Lisman Laboratory/Lisman 2025/Neuroscience 2025/Data/morph_features_positional.csv\",\n",
        "    index_col=\"cell_specimen_id\"\n",
        ")"
      ],
      "metadata": {
        "id": "114ECDAPa48e"
      },
      "execution_count": null,
      "outputs": []
    }
  ]
}